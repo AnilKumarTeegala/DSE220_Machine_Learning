{
 "cells": [
  {
   "cell_type": "code",
   "execution_count": 1,
   "metadata": {
    "collapsed": false
   },
   "outputs": [
    {
     "name": "stdout",
     "output_type": "stream",
     "text": [
      "a\n"
     ]
    }
   ],
   "source": [
    "!size=$(cat data/st6070ts.txt | grep -n 'U.S. \\| US &[0-9]' \\\n",
    "| grep -Eo '^[^:]+'); \\\n",
    "ending_line=$((${size}-2 )); \\\n",
    "sed \"1,$(($ending_line -1))d\" data/st6070ts.txt >> data/f6.txt\n",
    "f1 = pd.read_fwf('data/f6.txt', index_col=0); # index col = 0 makes first column index\n",
    "f1 = f1.dropna()\n",
    "f1.head()"
   ]
  },
  {
   "cell_type": "code",
   "execution_count": null,
   "metadata": {
    "collapsed": true
   },
   "outputs": [],
   "source": []
  }
 ],
 "metadata": {
  "kernelspec": {
   "display_name": "Python 2",
   "language": "python",
   "name": "python2"
  },
  "language_info": {
   "codemirror_mode": {
    "name": "ipython",
    "version": 2
   },
   "file_extension": ".py",
   "mimetype": "text/x-python",
   "name": "python",
   "nbconvert_exporter": "python",
   "pygments_lexer": "ipython2",
   "version": "2.7.11"
  }
 },
 "nbformat": 4,
 "nbformat_minor": 0
}
