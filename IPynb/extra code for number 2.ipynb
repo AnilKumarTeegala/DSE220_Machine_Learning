{
 "cells": [
  {
   "cell_type": "code",
   "execution_count": 1,
   "metadata": {
    "collapsed": false
   },
   "outputs": [
    {
     "name": "stdout",
     "output_type": "stream",
     "text": [
      "a\n"
     ]
    }
   ],
   "source": [
    "!size=$(cat data/st6070ts.txt | grep -n 'U.S. \\| US &[0-9]' \\\n",
    "| grep -Eo '^[^:]+'); \\\n",
    "ending_line=$((${size}-2 )); \\\n",
    "sed \"1,$(($ending_line -1))d\" data/st6070ts.txt >> data/f6.txt\n",
    "f1 = pd.read_fwf('data/f6.txt', index_col=0); # index col = 0 makes first column index\n",
    "f1 = f1.dropna()\n",
    "f1.head()"
   ]
  },
  {
   "cell_type": "code",
   "execution_count": null,
   "metadata": {
    "collapsed": true
   },
   "outputs": [],
   "source": [
    "from itertools import islice\n",
    "\"\"\"\n",
    "print f1[[\"new_data/st0009ts.txt\", \"new_data/st1019ts.txt\",\\\n",
    "         \"new_data/st2029ts.txt\", \"new_data/st3039ts.txt\",\\\n",
    "         \"new_data/st4049ts.txt\", \"new_data/st5060ts.txt\",\\\n",
    "         \"new_data/st6070ts.txt\", \"new_data/st7080ts.txt\",\\\n",
    "         \"new_data/st8090ts.txt\"]].max(axis=1)\n",
    "         \n",
    "\"\"\"\n",
    "#f1['new_data/st0009ts.txt'].max()\n",
    "\"\"\"\n",
    "count = 0\n",
    "new_file = []\n",
    "with open(\"data/st0009ts.txt\") as myfile:\n",
    "    end_line = f1['new_data/st0009ts.txt'].max()\n",
    "    start_line = f1['new_data/st0009ts.txt'].min()\n",
    "    head = [next(myfile) for x in xrange(start_line, end_line)]\n",
    "print head\n",
    "print start_line\n",
    "\"\"\"\n",
    "#new_file = []\n",
    "#with open(\"data/st0009ts.txt\") as myfile:\n",
    "    #for line in myfile[10:20]:\n",
    "        #print line\n",
    "\"\"\"\n",
    "with open(\"data/st0009ts.txt\") as new_file:\n",
    "    end_line = f1['new_data/st0009ts.txt'].max()\n",
    "    start_line = f1['new_data/st0009ts.txt'].min()\n",
    "\"\"\"   \n",
    "    \n",
    "    \n",
    "\"\"\"\n",
    "for i, line in enumerate(new_file):\n",
    "    if i >= start_line-1 and i <= end_line:\n",
    "        total.append(line.split())\n",
    "    else:\n",
    "        continue;\n",
    "\"\"\"\n",
    "#!sed \"$(($start_line -1)),$(($end_line -1))d\" data/st6070ts.txt >> data/f6.txt\n",
    "total = []\n",
    "\n",
    "\n",
    "end_line = f1['new_data/st0009ts.txt'].max()\n",
    "start_line = f1['new_data/st0009ts.txt'].min()\n",
    "\n",
    "#!sed \"$(($start_line -1)),$(($end_line -1))d\" data/st0009ts.txt "
   ]
  }
 ],
 "metadata": {
  "kernelspec": {
   "display_name": "Python 2",
   "language": "python",
   "name": "python2"
  },
  "language_info": {
   "codemirror_mode": {
    "name": "ipython",
    "version": 2
   },
   "file_extension": ".py",
   "mimetype": "text/x-python",
   "name": "python",
   "nbconvert_exporter": "python",
   "pygments_lexer": "ipython2",
   "version": "2.7.11"
  }
 },
 "nbformat": 4,
 "nbformat_minor": 0
}
