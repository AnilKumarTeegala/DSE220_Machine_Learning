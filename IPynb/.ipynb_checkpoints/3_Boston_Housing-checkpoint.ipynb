{
 "cells": [
  {
   "cell_type": "markdown",
   "metadata": {},
   "source": [
    "<h1 align=\"center\"> Machine Learning: Boston Housing Data Set</h1><br>"
   ]
  },
  {
   "cell_type": "markdown",
   "metadata": {},
   "source": [
    "<strong><p style=\"font-size:120%;\">Assignment Prompt: </strong> Perform Stacking Ensemble analysis on the Boston Housing Data set. You can use Python, Weka, KNIME or other tool to perform Stacking or write your own version in Python code. Include interesting plots and attribute importance analysis to support the choice of the final model configuration chosen. Any combination of any of the Machine learning algorithms we have covered in the class so far or you are already familiar with is acceptable to be used in the Stacking Ensemble."
   ]
  },
  {
   "cell_type": "code",
   "execution_count": 37,
   "metadata": {
    "collapsed": true
   },
   "outputs": [],
   "source": [
    "%matplotlib inline\n",
    "import pandas as pd\n",
    "import seaborn as sns\n",
    "import numpy as np\n",
    "import matplotlib.pyplot as plt\n",
    "from sklearn.datasets import load_boston\n",
    "from sklearn.linear_model import Ridge, LinearRegression\n",
    "from sklearn.metrics import mean_squared_error\n",
    "from sklearn.tree import DecisionTreeRegressor\n",
    "from sklearn.feature_selection import SelectKBest\n",
    "from sklearn.feature_selection import f_regression\n",
    "from sklearn.cross_validation import train_test_split"
   ]
  },
  {
   "cell_type": "markdown",
   "metadata": {},
   "source": [
    "<strong></strong> \n",
    "\n"
   ]
  },
  {
   "cell_type": "markdown",
   "metadata": {},
   "source": [
    "<strong><p style=\"font-size:120%;\">Load the Dataset</strong> "
   ]
  },
  {
   "cell_type": "code",
   "execution_count": 38,
   "metadata": {
    "collapsed": false
   },
   "outputs": [],
   "source": [
    "boston_data = load_boston()"
   ]
  },
  {
   "cell_type": "markdown",
   "metadata": {},
   "source": [
    "<strong><p style=\"font-size:120%;\">Basic Exploration of the Dataset</strong> "
   ]
  },
  {
   "cell_type": "code",
   "execution_count": 39,
   "metadata": {
    "collapsed": false
   },
   "outputs": [
    {
     "data": {
      "text/plain": [
       "['data', 'feature_names', 'DESCR', 'target']"
      ]
     },
     "execution_count": 39,
     "metadata": {},
     "output_type": "execute_result"
    }
   ],
   "source": [
    "boston_data.keys()"
   ]
  },
  {
   "cell_type": "code",
   "execution_count": 40,
   "metadata": {
    "collapsed": false
   },
   "outputs": [
    {
     "data": {
      "text/plain": [
       "array([  6.32000000e-03,   1.80000000e+01,   2.31000000e+00,\n",
       "         0.00000000e+00,   5.38000000e-01,   6.57500000e+00,\n",
       "         6.52000000e+01,   4.09000000e+00,   1.00000000e+00,\n",
       "         2.96000000e+02,   1.53000000e+01,   3.96900000e+02,\n",
       "         4.98000000e+00])"
      ]
     },
     "execution_count": 40,
     "metadata": {},
     "output_type": "execute_result"
    }
   ],
   "source": [
    "boston_data['data'][0]"
   ]
  },
  {
   "cell_type": "code",
   "execution_count": 41,
   "metadata": {
    "collapsed": false
   },
   "outputs": [
    {
     "data": {
      "text/plain": [
       "array(['CRIM', 'ZN', 'INDUS', 'CHAS', 'NOX', 'RM', 'AGE', 'DIS', 'RAD',\n",
       "       'TAX', 'PTRATIO', 'B', 'LSTAT'], \n",
       "      dtype='|S7')"
      ]
     },
     "execution_count": 41,
     "metadata": {},
     "output_type": "execute_result"
    }
   ],
   "source": [
    "boston_data['feature_names']"
   ]
  },
  {
   "cell_type": "code",
   "execution_count": 42,
   "metadata": {
    "collapsed": false
   },
   "outputs": [
    {
     "data": {
      "text/html": [
       "<div>\n",
       "<table border=\"1\" class=\"dataframe\">\n",
       "  <thead>\n",
       "    <tr style=\"text-align: right;\">\n",
       "      <th></th>\n",
       "      <th>Data</th>\n",
       "      <th>Shapes</th>\n",
       "    </tr>\n",
       "  </thead>\n",
       "  <tbody>\n",
       "    <tr>\n",
       "      <th>0</th>\n",
       "      <td>X_train</td>\n",
       "      <td>(404, 13)</td>\n",
       "    </tr>\n",
       "    <tr>\n",
       "      <th>1</th>\n",
       "      <td>y_train</td>\n",
       "      <td>(404,)</td>\n",
       "    </tr>\n",
       "    <tr>\n",
       "      <th>2</th>\n",
       "      <td>X_test</td>\n",
       "      <td>(102, 13)</td>\n",
       "    </tr>\n",
       "    <tr>\n",
       "      <th>3</th>\n",
       "      <td>y_test</td>\n",
       "      <td>(102,)</td>\n",
       "    </tr>\n",
       "  </tbody>\n",
       "</table>\n",
       "</div>"
      ],
      "text/plain": [
       "      Data     Shapes\n",
       "0  X_train  (404, 13)\n",
       "1  y_train     (404,)\n",
       "2   X_test  (102, 13)\n",
       "3   y_test     (102,)"
      ]
     },
     "execution_count": 42,
     "metadata": {},
     "output_type": "execute_result"
    }
   ],
   "source": [
    "X_train, X_test, y_train, y_test = train_test_split(boston_data.data,\n",
    "        boston_data.target, test_size=0.20, random_state=2)\n",
    "Dimensions = ['X_train', 'y_train', 'X_test', 'y_test' ]\n",
    "shapes = {index: str(i) for index, i in enumerate([X_train.shape, y_train.shape, X_test.shape, y_test.shape ])}.values()  \n",
    "pd.DataFrame(data = zip(Dimensions, shapes), columns = ['Data', 'Shapes'])"
   ]
  },
  {
   "cell_type": "markdown",
   "metadata": {},
   "source": [
    "<strong><p style=\"font-size:120%;\">Feature Importance</strong> "
   ]
  },
  {
   "cell_type": "code",
   "execution_count": 55,
   "metadata": {
    "collapsed": false
   },
   "outputs": [
    {
     "data": {
      "image/png": "[encoded data removed]",
      "text/plain": [
       "<matplotlib.figure.Figure at 0x11d114c90>"
      ]
     },
     "metadata": {},
     "output_type": "display_data"
    }
   ],
   "source": [
    "plt.figure(figsize=(15, 10));\n",
    "fs=SelectKBest(score_func=f_regression, k=7)\n",
    "X_new=fs.fit_transform(boston_data.data, boston_data.target)\n",
    "feat_imp = pd.DataFrame(zip(boston_data.feature_names, fs.scores_,\n",
    "                            fs.get_support()), columns = [\"Features\",\"Score\",\"Select\"])\n",
    "feat_imp = feat_imp.sort_values([\"Score\"],ascending = False)\n",
    "\n",
    "ax = sns.barplot(x=\"Features\", y=\"Score\", data=feat_imp)\n",
    "ax.set_xlabel('Feature')\n",
    "ax.set_ylabel('Value')\n",
    "ax.set_title('Importance');\n"
   ]
  },
  {
   "cell_type": "markdown",
   "metadata": {},
   "source": [
    "<strong><p style=\"font-size:120%;\">Features </strong>\n",
    "\n",
    "    CRIM: per capita crime rate by town\n",
    "\n",
    "    ZN: proportion of residential land zoned for lots over 25,000 sq.ft.\n",
    "\n",
    "    INDUS: proportion of non-retail business acres per town\n",
    "\n",
    "    CHAS: Charles River dummy variable (= 1 if tract bounds river; 0 otherwise)\n",
    "\n",
    "    NOX: nitric oxides concentration (parts per 10 million)\n",
    "\n",
    "    RM: average number of rooms per dwelling\n",
    "\n",
    "    AGE: proportion of owner-occupied units built prior to 1940\n",
    "\n",
    "    DIS: weighted distances to five Boston employment centres\n",
    "\n",
    "    RAD: index of accessibility to radial highways\n",
    "\n",
    "    TAX: full-value property-tax rate per 10,000 dollars\n",
    "\n",
    "    PTRATIO: pupil-teacher ratio by town\n",
    "\n",
    "    B: 1000(Bk - 0.63)^2 where Bk is the proportion of blacks by town\n",
    "\n",
    "    LSTAT: % lower status of the population\n",
    "\n",
    "    MEDV: Median value of owner-occupied homes in $1000's\n",
    "    \n",
    "(gotten from http://datascience-is-fun.com/Python/Housing.html) \n"
   ]
  },
  {
   "cell_type": "markdown",
   "metadata": {},
   "source": [
    "<strong><p style=\"font-size:120%;\">Feature Analysis </strong> The most important features are:\n",
    "<ol>\n",
    "<li> LSTAT: % lower status of the population </li>\n",
    "<li> RM: average number of rooms per dwelling </li>\n",
    "</ol>\n",
    "\n",
    "One part of the data I am confused about is why TAX isn't higher on the list as property tax is a percentage of a house's value typically. "
   ]
  },
  {
   "cell_type": "code",
   "execution_count": 94,
   "metadata": {
    "collapsed": false
   },
   "outputs": [],
   "source": [
    "class Stack():\n",
    "\n",
    "    def __init__(self, stack0, stack1):\n",
    "        self.__stack0, self.__stack1 = stack0, stack1\n",
    "        \n",
    "    def fit(self, X, y):\n",
    "        X_train, X_test, y_train, y_test = train_test_split(X, y, test_size=0.20, random_state=2)\n",
    "        stack1_input = list((model.fit(X_train, y_train).predict(X_test) for model in self.__stack0))\n",
    "        stack1_X = np.array(stack1_input).T\n",
    "        self.__stack1.fit(stack1_X, y_test)\n",
    "        return self\n",
    "\n",
    "    def predict(self, X):\n",
    "        self.stack0_model_predict_ = {index: model.predict(X) for index,model in enumerate(self.__stack0)}.values()\n",
    "        stack1_X = np.array(self.stack0_model_predict_).T\n",
    "        return self.__stack1.predict(stack1_X)\n",
    "\n",
    "    def scores(self, X, y):\n",
    "        self.stack0_score = (model.score(X, y) for model in self.__stack0)\n",
    "        stack1_X = np.array([model.predict(X) for model in self.__stack0]).T\n",
    "        self.stack1_score = [self.__stack1.score(stack1_X, y)]\n",
    "        self.stack0_mse = [mean_squared_error(y, stack1_X[:, i]) for i in xrange(stack1_X.shape[1])]\n",
    "        self.stack1_mse = [mean_squared_error(y, self.__stack1.predict(stack1_X))]"
   ]
  },
  {
   "cell_type": "code",
   "execution_count": 95,
   "metadata": {
    "collapsed": false
   },
   "outputs": [],
   "source": [
    "def evaluate_model(stack0, stack1, models):\n",
    "    stack = Stack(stack0 = stack0, stack1 = stack1).fit(X_train, y_train)\n",
    "    stack.scores(X_test, y_test)\n",
    "    score_mse = {\"Mean Squared Error\": stack.stack0_mse + stack.stack1_mse,\n",
    "    \"SCORE\" : list(stack.stack0_score) + stack.stack1_score}\n",
    "    pd.DataFrame(score_mse, index= models).plot(kind='bar', subplots=True, figsize=(15, 10), legend = False)"
   ]
  },
  {
   "cell_type": "markdown",
   "metadata": {},
   "source": [
    "<strong><p style=\"font-size:120%;\">Stack0</strong>\n",
    "\n",
    "LinearRegression<br>\n",
    "DecisionTreeRegressor(max_depth=3, max_features= 5)<br>\n",
    "\n",
    "\n",
    "<strong><p style=\"font-size:120%;\">Stack1</strong>\n",
    "\n",
    "Ridge<br>"
   ]
  },
  {
   "cell_type": "code",
   "execution_count": 96,
   "metadata": {
    "collapsed": false
   },
   "outputs": [
    {
     "data": {
      "image/png": "[encoded data removed]",
      "text/plain": [
       "<matplotlib.figure.Figure at 0x11cadaa50>"
      ]
     },
     "metadata": {},
     "output_type": "display_data"
    }
   ],
   "source": [
    "stack0=(DecisionTreeRegressor(max_depth=3, max_features= 5), LinearRegression())\n",
    "stack1 = Ridge()\n",
    "models = [\"Decision Tree\", \"Linear Regression\", \"Ensemble\"]\n",
    "evaluate_model(stack0, stack1 , models)"
   ]
  },
  {
   "cell_type": "markdown",
   "metadata": {},
   "source": [
    "<strong><p style=\"font-size:120%;\">Analysis: </strong> Ensembles tend to yield better results when there is a significant diversity among the models which was the result of this analysis. The decision tree overfit the model and Linear Regression reduced the overfit so the ensemble landed up working well."
   ]
  },
  {
   "cell_type": "code",
   "execution_count": null,
   "metadata": {
    "collapsed": true
   },
   "outputs": [],
   "source": []
  }
 ],
 "metadata": {
  "kernelspec": {
   "display_name": "Python 2",
   "language": "python",
   "name": "python2"
  },
  "language_info": {
   "codemirror_mode": {
    "name": "ipython",
    "version": 2
   },
   "file_extension": ".py",
   "mimetype": "text/x-python",
   "name": "python",
   "nbconvert_exporter": "python",
   "pygments_lexer": "ipython2",
   "version": "2.7.11"
  }
 },
 "nbformat": 4,
 "nbformat_minor": 0
}
