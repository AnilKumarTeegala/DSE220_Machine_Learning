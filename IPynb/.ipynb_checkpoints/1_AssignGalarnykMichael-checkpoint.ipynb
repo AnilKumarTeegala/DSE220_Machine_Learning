{
 "cells": [
  {
   "cell_type": "markdown",
   "metadata": {},
   "source": [
    "<h1 align=\"center\"> Machine Learning: Assignment 1</h1><br>"
   ]
  },
  {
   "cell_type": "code",
   "execution_count": 74,
   "metadata": {
    "collapsed": true
   },
   "outputs": [],
   "source": [
    "%matplotlib inline\n",
    "import pandas as pd\n",
    "import re\n",
    "import matplotlib.pyplot as plt\n",
    "import numpy as np\n",
    "from scipy.cluster.hierarchy import dendrogram, linkage\n",
    "from sklearn.cluster import KMeans\n",
    "from sklearn import metrics\n",
    "from sklearn.decomposition import PCA\n",
    "from sklearn.preprocessing import scale\n",
    "from pylab import rcParams"
   ]
  },
  {
   "cell_type": "markdown",
   "metadata": {},
   "source": [
    "<h2 align=\"center\"> Problem 1</h2><br>"
   ]
  },
  {
   "cell_type": "markdown",
   "metadata": {},
   "source": [
    "<strong><p style=\"font-size:120%;\"></strong> Download the Weather data set (a simple data set describing whether or not to play tennis based on the weather conditions)"
   ]
  },
  {
   "cell_type": "code",
   "execution_count": 2,
   "metadata": {
    "collapsed": true
   },
   "outputs": [],
   "source": [
    "weather = pd.read_csv('data/weather_dataset.csv')"
   ]
  },
  {
   "cell_type": "markdown",
   "metadata": {},
   "source": [
    "<strong></strong> Represent the following table using \n",
    "a data structure of your choice\n",
    "\n"
   ]
  },
  {
   "cell_type": "code",
   "execution_count": 3,
   "metadata": {
    "collapsed": false
   },
   "outputs": [
    {
     "data": {
      "text/html": [
       "<div>\n",
       "<table border=\"1\" class=\"dataframe\">\n",
       "  <thead>\n",
       "    <tr style=\"text-align: right;\">\n",
       "      <th></th>\n",
       "      <th>Day</th>\n",
       "      <th>outlook</th>\n",
       "      <th>temperature</th>\n",
       "      <th>humidity</th>\n",
       "      <th>windy</th>\n",
       "      <th>play</th>\n",
       "    </tr>\n",
       "  </thead>\n",
       "  <tbody>\n",
       "    <tr>\n",
       "      <th>0</th>\n",
       "      <td>1</td>\n",
       "      <td>sunny</td>\n",
       "      <td>85</td>\n",
       "      <td>85</td>\n",
       "      <td>False</td>\n",
       "      <td>no</td>\n",
       "    </tr>\n",
       "    <tr>\n",
       "      <th>1</th>\n",
       "      <td>2</td>\n",
       "      <td>sunny</td>\n",
       "      <td>80</td>\n",
       "      <td>90</td>\n",
       "      <td>True</td>\n",
       "      <td>no</td>\n",
       "    </tr>\n",
       "    <tr>\n",
       "      <th>2</th>\n",
       "      <td>3</td>\n",
       "      <td>overcast</td>\n",
       "      <td>83</td>\n",
       "      <td>86</td>\n",
       "      <td>False</td>\n",
       "      <td>yes</td>\n",
       "    </tr>\n",
       "    <tr>\n",
       "      <th>3</th>\n",
       "      <td>4</td>\n",
       "      <td>rainy</td>\n",
       "      <td>70</td>\n",
       "      <td>96</td>\n",
       "      <td>False</td>\n",
       "      <td>yes</td>\n",
       "    </tr>\n",
       "    <tr>\n",
       "      <th>4</th>\n",
       "      <td>5</td>\n",
       "      <td>rainy</td>\n",
       "      <td>68</td>\n",
       "      <td>80</td>\n",
       "      <td>False</td>\n",
       "      <td>yes</td>\n",
       "    </tr>\n",
       "    <tr>\n",
       "      <th>5</th>\n",
       "      <td>6</td>\n",
       "      <td>rainy</td>\n",
       "      <td>65</td>\n",
       "      <td>70</td>\n",
       "      <td>True</td>\n",
       "      <td>no</td>\n",
       "    </tr>\n",
       "    <tr>\n",
       "      <th>6</th>\n",
       "      <td>7</td>\n",
       "      <td>overcast</td>\n",
       "      <td>64</td>\n",
       "      <td>65</td>\n",
       "      <td>True</td>\n",
       "      <td>yes</td>\n",
       "    </tr>\n",
       "    <tr>\n",
       "      <th>7</th>\n",
       "      <td>8</td>\n",
       "      <td>sunny</td>\n",
       "      <td>72</td>\n",
       "      <td>95</td>\n",
       "      <td>False</td>\n",
       "      <td>no</td>\n",
       "    </tr>\n",
       "    <tr>\n",
       "      <th>8</th>\n",
       "      <td>9</td>\n",
       "      <td>sunny</td>\n",
       "      <td>69</td>\n",
       "      <td>70</td>\n",
       "      <td>False</td>\n",
       "      <td>yes</td>\n",
       "    </tr>\n",
       "    <tr>\n",
       "      <th>9</th>\n",
       "      <td>10</td>\n",
       "      <td>rainy</td>\n",
       "      <td>75</td>\n",
       "      <td>80</td>\n",
       "      <td>False</td>\n",
       "      <td>yes</td>\n",
       "    </tr>\n",
       "    <tr>\n",
       "      <th>10</th>\n",
       "      <td>11</td>\n",
       "      <td>sunny</td>\n",
       "      <td>75</td>\n",
       "      <td>70</td>\n",
       "      <td>True</td>\n",
       "      <td>yes</td>\n",
       "    </tr>\n",
       "    <tr>\n",
       "      <th>11</th>\n",
       "      <td>12</td>\n",
       "      <td>overcast</td>\n",
       "      <td>72</td>\n",
       "      <td>90</td>\n",
       "      <td>True</td>\n",
       "      <td>yes</td>\n",
       "    </tr>\n",
       "    <tr>\n",
       "      <th>12</th>\n",
       "      <td>13</td>\n",
       "      <td>overcast</td>\n",
       "      <td>81</td>\n",
       "      <td>75</td>\n",
       "      <td>False</td>\n",
       "      <td>yes</td>\n",
       "    </tr>\n",
       "    <tr>\n",
       "      <th>13</th>\n",
       "      <td>14</td>\n",
       "      <td>rainy</td>\n",
       "      <td>71</td>\n",
       "      <td>91</td>\n",
       "      <td>True</td>\n",
       "      <td>no</td>\n",
       "    </tr>\n",
       "  </tbody>\n",
       "</table>\n",
       "</div>"
      ],
      "text/plain": [
       "    Day   outlook  temperature  humidity  windy play\n",
       "0     1     sunny           85        85  False   no\n",
       "1     2     sunny           80        90   True   no\n",
       "2     3  overcast           83        86  False  yes\n",
       "3     4     rainy           70        96  False  yes\n",
       "4     5     rainy           68        80  False  yes\n",
       "5     6     rainy           65        70   True   no\n",
       "6     7  overcast           64        65   True  yes\n",
       "7     8     sunny           72        95  False   no\n",
       "8     9     sunny           69        70  False  yes\n",
       "9    10     rainy           75        80  False  yes\n",
       "10   11     sunny           75        70   True  yes\n",
       "11   12  overcast           72        90   True  yes\n",
       "12   13  overcast           81        75  False  yes\n",
       "13   14     rainy           71        91   True   no"
      ]
     },
     "execution_count": 3,
     "metadata": {},
     "output_type": "execute_result"
    }
   ],
   "source": [
    "weather"
   ]
  },
  {
   "cell_type": "code",
   "execution_count": 4,
   "metadata": {
    "collapsed": false
   },
   "outputs": [
    {
     "data": {
      "text/plain": [
       "Day             int64\n",
       "outlook        object\n",
       "temperature     int64\n",
       "humidity        int64\n",
       "windy            bool\n",
       "play           object\n",
       "dtype: object"
      ]
     },
     "execution_count": 4,
     "metadata": {},
     "output_type": "execute_result"
    }
   ],
   "source": [
    "#check the datatypes of each column \n",
    "weather.dtypes"
   ]
  },
  {
   "cell_type": "markdown",
   "metadata": {
    "collapsed": false
   },
   "source": [
    "<ul>\n",
    "  <li>Calculate the mean temperature and mean humidity</li>\n",
    "  <li>Print outlook and play for \n",
    "those days where the temperature is greater than the \n",
    "average temperature</li>\n",
    "  <li>Print outlook and play for those days where the humidity is greater than the \n",
    "average humidity</li>\n",
    "  <li>Convert the temperature\n",
    "to Celsius and add a new column therefore in the table. \n",
    "Use the following conversion equation</li>C = (F-32) *5/9\n",
    "</ul>"
   ]
  },
  {
   "cell_type": "code",
   "execution_count": 5,
   "metadata": {
    "collapsed": false
   },
   "outputs": [
    {
     "name": "stdout",
     "output_type": "stream",
     "text": [
      "mean temperature:  73.5714285714\n",
      "mean humid:  81.6428571429\n"
     ]
    }
   ],
   "source": [
    "mean_temp = np.sum(weather.temperature.values) / float(len(weather.temperature.values))\n",
    "mean_humid = np.sum(weather.humidity.values) / float(len(weather.humidity.values))\n",
    "\n",
    "print 'mean temperature: ', mean_temp\n",
    "print 'mean humid: ', mean_humid"
   ]
  },
  {
   "cell_type": "markdown",
   "metadata": {},
   "source": [
    "Print outlook and play for those days where the temperature is greater than the average temperature"
   ]
  },
  {
   "cell_type": "code",
   "execution_count": 6,
   "metadata": {
    "collapsed": false
   },
   "outputs": [
    {
     "data": {
      "text/html": [
       "<div>\n",
       "<table border=\"1\" class=\"dataframe\">\n",
       "  <thead>\n",
       "    <tr style=\"text-align: right;\">\n",
       "      <th></th>\n",
       "      <th>Day</th>\n",
       "      <th>outlook</th>\n",
       "    </tr>\n",
       "  </thead>\n",
       "  <tbody>\n",
       "    <tr>\n",
       "      <th>0</th>\n",
       "      <td>1</td>\n",
       "      <td>sunny</td>\n",
       "    </tr>\n",
       "    <tr>\n",
       "      <th>1</th>\n",
       "      <td>2</td>\n",
       "      <td>sunny</td>\n",
       "    </tr>\n",
       "    <tr>\n",
       "      <th>2</th>\n",
       "      <td>3</td>\n",
       "      <td>overcast</td>\n",
       "    </tr>\n",
       "    <tr>\n",
       "      <th>9</th>\n",
       "      <td>10</td>\n",
       "      <td>rainy</td>\n",
       "    </tr>\n",
       "    <tr>\n",
       "      <th>10</th>\n",
       "      <td>11</td>\n",
       "      <td>sunny</td>\n",
       "    </tr>\n",
       "    <tr>\n",
       "      <th>12</th>\n",
       "      <td>13</td>\n",
       "      <td>overcast</td>\n",
       "    </tr>\n",
       "  </tbody>\n",
       "</table>\n",
       "</div>"
      ],
      "text/plain": [
       "    Day   outlook\n",
       "0     1     sunny\n",
       "1     2     sunny\n",
       "2     3  overcast\n",
       "9    10     rainy\n",
       "10   11     sunny\n",
       "12   13  overcast"
      ]
     },
     "execution_count": 6,
     "metadata": {},
     "output_type": "execute_result"
    }
   ],
   "source": [
    "temp_condition = weather['temperature'] > mean_temp\n",
    "\n",
    "great_mean_temp = weather[['Day','outlook']][temp_condition]\n",
    "pd.DataFrame(great_mean_temp)"
   ]
  },
  {
   "cell_type": "markdown",
   "metadata": {},
   "source": [
    "Print outlook and play for those days where the humidity is greater than the average humidity"
   ]
  },
  {
   "cell_type": "code",
   "execution_count": 7,
   "metadata": {
    "collapsed": false
   },
   "outputs": [
    {
     "data": {
      "text/html": [
       "<div>\n",
       "<table border=\"1\" class=\"dataframe\">\n",
       "  <thead>\n",
       "    <tr style=\"text-align: right;\">\n",
       "      <th></th>\n",
       "      <th>Day</th>\n",
       "      <th>outlook</th>\n",
       "    </tr>\n",
       "  </thead>\n",
       "  <tbody>\n",
       "    <tr>\n",
       "      <th>0</th>\n",
       "      <td>1</td>\n",
       "      <td>sunny</td>\n",
       "    </tr>\n",
       "    <tr>\n",
       "      <th>1</th>\n",
       "      <td>2</td>\n",
       "      <td>sunny</td>\n",
       "    </tr>\n",
       "    <tr>\n",
       "      <th>2</th>\n",
       "      <td>3</td>\n",
       "      <td>overcast</td>\n",
       "    </tr>\n",
       "    <tr>\n",
       "      <th>3</th>\n",
       "      <td>4</td>\n",
       "      <td>rainy</td>\n",
       "    </tr>\n",
       "    <tr>\n",
       "      <th>7</th>\n",
       "      <td>8</td>\n",
       "      <td>sunny</td>\n",
       "    </tr>\n",
       "    <tr>\n",
       "      <th>11</th>\n",
       "      <td>12</td>\n",
       "      <td>overcast</td>\n",
       "    </tr>\n",
       "    <tr>\n",
       "      <th>13</th>\n",
       "      <td>14</td>\n",
       "      <td>rainy</td>\n",
       "    </tr>\n",
       "  </tbody>\n",
       "</table>\n",
       "</div>"
      ],
      "text/plain": [
       "    Day   outlook\n",
       "0     1     sunny\n",
       "1     2     sunny\n",
       "2     3  overcast\n",
       "3     4     rainy\n",
       "7     8     sunny\n",
       "11   12  overcast\n",
       "13   14     rainy"
      ]
     },
     "execution_count": 7,
     "metadata": {},
     "output_type": "execute_result"
    }
   ],
   "source": [
    "humid_condition = weather['humidity'] > mean_humid\n",
    "\n",
    "great_mean_humid = weather[['Day','outlook']][humid_condition]\n",
    "pd.DataFrame(great_mean_humid)"
   ]
  },
  {
   "cell_type": "markdown",
   "metadata": {},
   "source": [
    "Convert the temperature\n",
    "to Celsius and add a new column therefore in the table. \n",
    "Use the following conversion equation \n",
    "C = (F-32) *5/9 "
   ]
  },
  {
   "cell_type": "code",
   "execution_count": 8,
   "metadata": {
    "collapsed": false
   },
   "outputs": [
    {
     "data": {
      "text/html": [
       "<div>\n",
       "<table border=\"1\" class=\"dataframe\">\n",
       "  <thead>\n",
       "    <tr style=\"text-align: right;\">\n",
       "      <th></th>\n",
       "      <th>Day</th>\n",
       "      <th>outlook</th>\n",
       "      <th>temperature</th>\n",
       "      <th>humidity</th>\n",
       "      <th>windy</th>\n",
       "      <th>play</th>\n",
       "      <th>Celsius</th>\n",
       "    </tr>\n",
       "  </thead>\n",
       "  <tbody>\n",
       "    <tr>\n",
       "      <th>0</th>\n",
       "      <td>1</td>\n",
       "      <td>sunny</td>\n",
       "      <td>85</td>\n",
       "      <td>85</td>\n",
       "      <td>False</td>\n",
       "      <td>no</td>\n",
       "      <td>29.444444</td>\n",
       "    </tr>\n",
       "    <tr>\n",
       "      <th>1</th>\n",
       "      <td>2</td>\n",
       "      <td>sunny</td>\n",
       "      <td>80</td>\n",
       "      <td>90</td>\n",
       "      <td>True</td>\n",
       "      <td>no</td>\n",
       "      <td>26.666667</td>\n",
       "    </tr>\n",
       "    <tr>\n",
       "      <th>2</th>\n",
       "      <td>3</td>\n",
       "      <td>overcast</td>\n",
       "      <td>83</td>\n",
       "      <td>86</td>\n",
       "      <td>False</td>\n",
       "      <td>yes</td>\n",
       "      <td>28.333333</td>\n",
       "    </tr>\n",
       "    <tr>\n",
       "      <th>3</th>\n",
       "      <td>4</td>\n",
       "      <td>rainy</td>\n",
       "      <td>70</td>\n",
       "      <td>96</td>\n",
       "      <td>False</td>\n",
       "      <td>yes</td>\n",
       "      <td>21.111111</td>\n",
       "    </tr>\n",
       "    <tr>\n",
       "      <th>4</th>\n",
       "      <td>5</td>\n",
       "      <td>rainy</td>\n",
       "      <td>68</td>\n",
       "      <td>80</td>\n",
       "      <td>False</td>\n",
       "      <td>yes</td>\n",
       "      <td>20.000000</td>\n",
       "    </tr>\n",
       "    <tr>\n",
       "      <th>5</th>\n",
       "      <td>6</td>\n",
       "      <td>rainy</td>\n",
       "      <td>65</td>\n",
       "      <td>70</td>\n",
       "      <td>True</td>\n",
       "      <td>no</td>\n",
       "      <td>18.333333</td>\n",
       "    </tr>\n",
       "    <tr>\n",
       "      <th>6</th>\n",
       "      <td>7</td>\n",
       "      <td>overcast</td>\n",
       "      <td>64</td>\n",
       "      <td>65</td>\n",
       "      <td>True</td>\n",
       "      <td>yes</td>\n",
       "      <td>17.777778</td>\n",
       "    </tr>\n",
       "    <tr>\n",
       "      <th>7</th>\n",
       "      <td>8</td>\n",
       "      <td>sunny</td>\n",
       "      <td>72</td>\n",
       "      <td>95</td>\n",
       "      <td>False</td>\n",
       "      <td>no</td>\n",
       "      <td>22.222222</td>\n",
       "    </tr>\n",
       "    <tr>\n",
       "      <th>8</th>\n",
       "      <td>9</td>\n",
       "      <td>sunny</td>\n",
       "      <td>69</td>\n",
       "      <td>70</td>\n",
       "      <td>False</td>\n",
       "      <td>yes</td>\n",
       "      <td>20.555556</td>\n",
       "    </tr>\n",
       "    <tr>\n",
       "      <th>9</th>\n",
       "      <td>10</td>\n",
       "      <td>rainy</td>\n",
       "      <td>75</td>\n",
       "      <td>80</td>\n",
       "      <td>False</td>\n",
       "      <td>yes</td>\n",
       "      <td>23.888889</td>\n",
       "    </tr>\n",
       "    <tr>\n",
       "      <th>10</th>\n",
       "      <td>11</td>\n",
       "      <td>sunny</td>\n",
       "      <td>75</td>\n",
       "      <td>70</td>\n",
       "      <td>True</td>\n",
       "      <td>yes</td>\n",
       "      <td>23.888889</td>\n",
       "    </tr>\n",
       "    <tr>\n",
       "      <th>11</th>\n",
       "      <td>12</td>\n",
       "      <td>overcast</td>\n",
       "      <td>72</td>\n",
       "      <td>90</td>\n",
       "      <td>True</td>\n",
       "      <td>yes</td>\n",
       "      <td>22.222222</td>\n",
       "    </tr>\n",
       "    <tr>\n",
       "      <th>12</th>\n",
       "      <td>13</td>\n",
       "      <td>overcast</td>\n",
       "      <td>81</td>\n",
       "      <td>75</td>\n",
       "      <td>False</td>\n",
       "      <td>yes</td>\n",
       "      <td>27.222222</td>\n",
       "    </tr>\n",
       "    <tr>\n",
       "      <th>13</th>\n",
       "      <td>14</td>\n",
       "      <td>rainy</td>\n",
       "      <td>71</td>\n",
       "      <td>91</td>\n",
       "      <td>True</td>\n",
       "      <td>no</td>\n",
       "      <td>21.666667</td>\n",
       "    </tr>\n",
       "  </tbody>\n",
       "</table>\n",
       "</div>"
      ],
      "text/plain": [
       "    Day   outlook  temperature  humidity  windy play    Celsius\n",
       "0     1     sunny           85        85  False   no  29.444444\n",
       "1     2     sunny           80        90   True   no  26.666667\n",
       "2     3  overcast           83        86  False  yes  28.333333\n",
       "3     4     rainy           70        96  False  yes  21.111111\n",
       "4     5     rainy           68        80  False  yes  20.000000\n",
       "5     6     rainy           65        70   True   no  18.333333\n",
       "6     7  overcast           64        65   True  yes  17.777778\n",
       "7     8     sunny           72        95  False   no  22.222222\n",
       "8     9     sunny           69        70  False  yes  20.555556\n",
       "9    10     rainy           75        80  False  yes  23.888889\n",
       "10   11     sunny           75        70   True  yes  23.888889\n",
       "11   12  overcast           72        90   True  yes  22.222222\n",
       "12   13  overcast           81        75  False  yes  27.222222\n",
       "13   14     rainy           71        91   True   no  21.666667"
      ]
     },
     "execution_count": 8,
     "metadata": {},
     "output_type": "execute_result"
    }
   ],
   "source": [
    "weather['Celsius'] = weather['temperature'].apply(lambda x:(x -32.0) *5.0/9)\n",
    "weather"
   ]
  },
  {
   "cell_type": "markdown",
   "metadata": {
    "collapsed": false
   },
   "source": [
    "<strong><p style=\"font-size:120%;\">1.</strong> How often do you play tennis independent of the other attributes?"
   ]
  },
  {
   "cell_type": "code",
   "execution_count": 9,
   "metadata": {
    "collapsed": false
   },
   "outputs": [
    {
     "name": "stdout",
     "output_type": "stream",
     "text": [
      "0.642857142857\n"
     ]
    },
    {
     "data": {
      "text/plain": [
       "0     0\n",
       "1     0\n",
       "2     1\n",
       "3     1\n",
       "4     1\n",
       "5     0\n",
       "6     1\n",
       "7     0\n",
       "8     1\n",
       "9     1\n",
       "10    1\n",
       "11    1\n",
       "12    1\n",
       "13    0\n",
       "Name: play, dtype: float64"
      ]
     },
     "execution_count": 9,
     "metadata": {},
     "output_type": "execute_result"
    }
   ],
   "source": [
    "def NoString(x):\n",
    "    if x == 'no':\n",
    "        y = 0\n",
    "    else:\n",
    "        y = 1.0\n",
    "    return y\n",
    "\n",
    "weather.play = weather.play.apply(NoString)\n",
    "print weather.play.sum()/float(len(weather.play))\n",
    "weather.play.head(15)"
   ]
  },
  {
   "cell_type": "markdown",
   "metadata": {},
   "source": [
    "<strong><p style=\"font-size:120%;\">2.</strong> How often do you play tennis when it is &quot;sunny&quot;?"
   ]
  },
  {
   "cell_type": "code",
   "execution_count": 10,
   "metadata": {
    "collapsed": false
   },
   "outputs": [
    {
     "data": {
      "text/plain": [
       "0.14285714285714285"
      ]
     },
     "execution_count": 10,
     "metadata": {},
     "output_type": "execute_result"
    }
   ],
   "source": [
    "#data.groupby('month')['date'].count()\n",
    "len(weather[(weather['outlook'] == 'sunny') & (weather['play'] == 1)]) / float(len(weather))\n",
    "#weather[weather.outlook == 'sunny'].play"
   ]
  },
  {
   "cell_type": "markdown",
   "metadata": {},
   "source": [
    "<strong><p style=\"font-size:120%;\">3.</strong> Compare the average, minimum and maximum temperature when you play tennis?"
   ]
  },
  {
   "cell_type": "code",
   "execution_count": 11,
   "metadata": {
    "collapsed": false
   },
   "outputs": [
    {
     "data": {
      "text/html": [
       "<div>\n",
       "<table border=\"1\" class=\"dataframe\">\n",
       "  <thead>\n",
       "    <tr style=\"text-align: right;\">\n",
       "      <th></th>\n",
       "      <th>Day</th>\n",
       "      <th>outlook</th>\n",
       "      <th>temperature</th>\n",
       "      <th>humidity</th>\n",
       "      <th>windy</th>\n",
       "      <th>play</th>\n",
       "      <th>Celsius</th>\n",
       "    </tr>\n",
       "  </thead>\n",
       "  <tbody>\n",
       "    <tr>\n",
       "      <th>0</th>\n",
       "      <td>1</td>\n",
       "      <td>sunny</td>\n",
       "      <td>85</td>\n",
       "      <td>85</td>\n",
       "      <td>False</td>\n",
       "      <td>0</td>\n",
       "      <td>29.444444</td>\n",
       "    </tr>\n",
       "    <tr>\n",
       "      <th>1</th>\n",
       "      <td>2</td>\n",
       "      <td>sunny</td>\n",
       "      <td>80</td>\n",
       "      <td>90</td>\n",
       "      <td>True</td>\n",
       "      <td>0</td>\n",
       "      <td>26.666667</td>\n",
       "    </tr>\n",
       "    <tr>\n",
       "      <th>2</th>\n",
       "      <td>3</td>\n",
       "      <td>overcast</td>\n",
       "      <td>83</td>\n",
       "      <td>86</td>\n",
       "      <td>False</td>\n",
       "      <td>1</td>\n",
       "      <td>28.333333</td>\n",
       "    </tr>\n",
       "    <tr>\n",
       "      <th>3</th>\n",
       "      <td>4</td>\n",
       "      <td>rainy</td>\n",
       "      <td>70</td>\n",
       "      <td>96</td>\n",
       "      <td>False</td>\n",
       "      <td>1</td>\n",
       "      <td>21.111111</td>\n",
       "    </tr>\n",
       "    <tr>\n",
       "      <th>4</th>\n",
       "      <td>5</td>\n",
       "      <td>rainy</td>\n",
       "      <td>68</td>\n",
       "      <td>80</td>\n",
       "      <td>False</td>\n",
       "      <td>1</td>\n",
       "      <td>20.000000</td>\n",
       "    </tr>\n",
       "    <tr>\n",
       "      <th>5</th>\n",
       "      <td>6</td>\n",
       "      <td>rainy</td>\n",
       "      <td>65</td>\n",
       "      <td>70</td>\n",
       "      <td>True</td>\n",
       "      <td>0</td>\n",
       "      <td>18.333333</td>\n",
       "    </tr>\n",
       "    <tr>\n",
       "      <th>6</th>\n",
       "      <td>7</td>\n",
       "      <td>overcast</td>\n",
       "      <td>64</td>\n",
       "      <td>65</td>\n",
       "      <td>True</td>\n",
       "      <td>1</td>\n",
       "      <td>17.777778</td>\n",
       "    </tr>\n",
       "    <tr>\n",
       "      <th>7</th>\n",
       "      <td>8</td>\n",
       "      <td>sunny</td>\n",
       "      <td>72</td>\n",
       "      <td>95</td>\n",
       "      <td>False</td>\n",
       "      <td>0</td>\n",
       "      <td>22.222222</td>\n",
       "    </tr>\n",
       "    <tr>\n",
       "      <th>8</th>\n",
       "      <td>9</td>\n",
       "      <td>sunny</td>\n",
       "      <td>69</td>\n",
       "      <td>70</td>\n",
       "      <td>False</td>\n",
       "      <td>1</td>\n",
       "      <td>20.555556</td>\n",
       "    </tr>\n",
       "    <tr>\n",
       "      <th>9</th>\n",
       "      <td>10</td>\n",
       "      <td>rainy</td>\n",
       "      <td>75</td>\n",
       "      <td>80</td>\n",
       "      <td>False</td>\n",
       "      <td>1</td>\n",
       "      <td>23.888889</td>\n",
       "    </tr>\n",
       "    <tr>\n",
       "      <th>10</th>\n",
       "      <td>11</td>\n",
       "      <td>sunny</td>\n",
       "      <td>75</td>\n",
       "      <td>70</td>\n",
       "      <td>True</td>\n",
       "      <td>1</td>\n",
       "      <td>23.888889</td>\n",
       "    </tr>\n",
       "    <tr>\n",
       "      <th>11</th>\n",
       "      <td>12</td>\n",
       "      <td>overcast</td>\n",
       "      <td>72</td>\n",
       "      <td>90</td>\n",
       "      <td>True</td>\n",
       "      <td>1</td>\n",
       "      <td>22.222222</td>\n",
       "    </tr>\n",
       "    <tr>\n",
       "      <th>12</th>\n",
       "      <td>13</td>\n",
       "      <td>overcast</td>\n",
       "      <td>81</td>\n",
       "      <td>75</td>\n",
       "      <td>False</td>\n",
       "      <td>1</td>\n",
       "      <td>27.222222</td>\n",
       "    </tr>\n",
       "    <tr>\n",
       "      <th>13</th>\n",
       "      <td>14</td>\n",
       "      <td>rainy</td>\n",
       "      <td>71</td>\n",
       "      <td>91</td>\n",
       "      <td>True</td>\n",
       "      <td>0</td>\n",
       "      <td>21.666667</td>\n",
       "    </tr>\n",
       "  </tbody>\n",
       "</table>\n",
       "</div>"
      ],
      "text/plain": [
       "    Day   outlook  temperature  humidity  windy  play    Celsius\n",
       "0     1     sunny           85        85  False     0  29.444444\n",
       "1     2     sunny           80        90   True     0  26.666667\n",
       "2     3  overcast           83        86  False     1  28.333333\n",
       "3     4     rainy           70        96  False     1  21.111111\n",
       "4     5     rainy           68        80  False     1  20.000000\n",
       "5     6     rainy           65        70   True     0  18.333333\n",
       "6     7  overcast           64        65   True     1  17.777778\n",
       "7     8     sunny           72        95  False     0  22.222222\n",
       "8     9     sunny           69        70  False     1  20.555556\n",
       "9    10     rainy           75        80  False     1  23.888889\n",
       "10   11     sunny           75        70   True     1  23.888889\n",
       "11   12  overcast           72        90   True     1  22.222222\n",
       "12   13  overcast           81        75  False     1  27.222222\n",
       "13   14     rainy           71        91   True     0  21.666667"
      ]
     },
     "execution_count": 11,
     "metadata": {},
     "output_type": "execute_result"
    }
   ],
   "source": [
    "weather"
   ]
  },
  {
   "cell_type": "code",
   "execution_count": 12,
   "metadata": {
    "collapsed": false
   },
   "outputs": [
    {
     "name": "stdout",
     "output_type": "stream",
     "text": [
      "mean: 73.0\n",
      "min: 64\n",
      "max: 83\n"
     ]
    }
   ],
   "source": [
    "print 'mean:', weather[(weather['play'] == 1)]['temperature'].mean()\n",
    "print 'min:', weather[(weather['play'] == 1)]['temperature'].min()\n",
    "print 'max:', weather[(weather['play'] == 1)]['temperature'].max()"
   ]
  },
  {
   "cell_type": "markdown",
   "metadata": {},
   "source": [
    "<strong><p style=\"font-size:120%;\">4.</strong> Compare the average, minimum and maximum humidity when you play tennis?"
   ]
  },
  {
   "cell_type": "code",
   "execution_count": 13,
   "metadata": {
    "collapsed": false
   },
   "outputs": [
    {
     "name": "stdout",
     "output_type": "stream",
     "text": [
      "mean: 79.1111111111\n",
      "min: 65\n",
      "max: 96\n"
     ]
    }
   ],
   "source": [
    "print 'mean:', weather[(weather['play'] == 1)]['humidity'].mean()\n",
    "print 'min:', weather[(weather['play'] == 1)]['humidity'].min()\n",
    "print 'max:', weather[(weather['play'] == 1)]['humidity'].max()"
   ]
  },
  {
   "cell_type": "markdown",
   "metadata": {},
   "source": [
    "<strong><p style=\"font-size:120%;\">5.</strong> Plot a scatter plot (x,y diagramm) of humidity (x) and temperature (y) when you play tennis compared to when you do not play tennis. "
   ]
  },
  {
   "cell_type": "code",
   "execution_count": 14,
   "metadata": {
    "collapsed": false
   },
   "outputs": [
    {
     "data": {
      "text/plain": [
       "<matplotlib.axes._subplots.AxesSubplot at 0x10bbfb450>"
      ]
     },
     "execution_count": 14,
     "metadata": {},
     "output_type": "execute_result"
    },
    {
     "data": {
      "image/png": "[encoded data removed]",
      "text/plain": [
       "<matplotlib.figure.Figure at 0x10bbd7e90>"
      ]
     },
     "metadata": {},
     "output_type": "display_data"
    }
   ],
   "source": [
    "#play tennis \n",
    "weather[(weather['play'] == 1)].plot(kind='scatter', x='humidity', y='temperature')"
   ]
  },
  {
   "cell_type": "code",
   "execution_count": 15,
   "metadata": {
    "collapsed": false
   },
   "outputs": [
    {
     "data": {
      "text/plain": [
       "<matplotlib.axes._subplots.AxesSubplot at 0x10bbd7510>"
      ]
     },
     "execution_count": 15,
     "metadata": {},
     "output_type": "execute_result"
    },
    {
     "data": {
      "image/png": "[encoded data removed]",
      "text/plain": [
       "<matplotlib.figure.Figure at 0x106c601d0>"
      ]
     },
     "metadata": {},
     "output_type": "display_data"
    }
   ],
   "source": [
    "# NO tennis \n",
    "weather[(weather['play'] == 0)].plot(kind='scatter', x='humidity', y='temperature')"
   ]
  },
  {
   "cell_type": "markdown",
   "metadata": {},
   "source": [
    "<h2 align=\"center\"> Problem 2</h2><br>"
   ]
  },
  {
   "cell_type": "code",
   "execution_count": 125,
   "metadata": {
    "collapsed": false
   },
   "outputs": [
    {
     "data": {
      "text/html": [
       "<div>\n",
       "<table border=\"1\" class=\"dataframe\">\n",
       "  <thead>\n",
       "    <tr style=\"text-align: right;\">\n",
       "      <th></th>\n",
       "      <th>1960</th>\n",
       "      <th>1960.1</th>\n",
       "      <th>1961</th>\n",
       "      <th>1962</th>\n",
       "      <th>1963</th>\n",
       "      <th>1964</th>\n",
       "      <th>1965</th>\n",
       "      <th>1966</th>\n",
       "      <th>1967</th>\n",
       "      <th>1968</th>\n",
       "      <th>1969</th>\n",
       "      <th>1970</th>\n",
       "    </tr>\n",
       "  </thead>\n",
       "  <tbody>\n",
       "    <tr>\n",
       "      <th>U.S.</th>\n",
       "      <td>179,323</td>\n",
       "      <td>179,975</td>\n",
       "      <td>182,973</td>\n",
       "      <td>185,738</td>\n",
       "      <td>188,438</td>\n",
       "      <td>191,085</td>\n",
       "      <td>193,460</td>\n",
       "      <td>195,501</td>\n",
       "      <td>197,374</td>\n",
       "      <td>199,312</td>\n",
       "      <td>201,306</td>\n",
       "      <td>203,185</td>\n",
       "    </tr>\n",
       "    <tr>\n",
       "      <th>Northeast</th>\n",
       "      <td>44,678</td>\n",
       "      <td>44,802</td>\n",
       "      <td>45,384</td>\n",
       "      <td>45,833</td>\n",
       "      <td>46,402</td>\n",
       "      <td>46,953</td>\n",
       "      <td>47,451</td>\n",
       "      <td>47,788</td>\n",
       "      <td>48,106</td>\n",
       "      <td>48,435</td>\n",
       "      <td>48,678</td>\n",
       "      <td>49,000</td>\n",
       "    </tr>\n",
       "    <tr>\n",
       "      <th>Midwest</th>\n",
       "      <td>51,619</td>\n",
       "      <td>51,715</td>\n",
       "      <td>52,185</td>\n",
       "      <td>52,583</td>\n",
       "      <td>53,073</td>\n",
       "      <td>53,655</td>\n",
       "      <td>54,225</td>\n",
       "      <td>54,840</td>\n",
       "      <td>55,289</td>\n",
       "      <td>55,692</td>\n",
       "      <td>56,106</td>\n",
       "      <td>56,577</td>\n",
       "    </tr>\n",
       "    <tr>\n",
       "      <th>South</th>\n",
       "      <td>54,973</td>\n",
       "      <td>55,174</td>\n",
       "      <td>56,158</td>\n",
       "      <td>57,179</td>\n",
       "      <td>58,008</td>\n",
       "      <td>58,853</td>\n",
       "      <td>59,579</td>\n",
       "      <td>60,205</td>\n",
       "      <td>60,771</td>\n",
       "      <td>61,489</td>\n",
       "      <td>62,190</td>\n",
       "      <td>62,798</td>\n",
       "    </tr>\n",
       "    <tr>\n",
       "      <th>West</th>\n",
       "      <td>28,053</td>\n",
       "      <td>28,284</td>\n",
       "      <td>29,246</td>\n",
       "      <td>30,142</td>\n",
       "      <td>30,955</td>\n",
       "      <td>31,624</td>\n",
       "      <td>32,205</td>\n",
       "      <td>32,667</td>\n",
       "      <td>33,207</td>\n",
       "      <td>33,696</td>\n",
       "      <td>34,332</td>\n",
       "      <td>34,809</td>\n",
       "    </tr>\n",
       "  </tbody>\n",
       "</table>\n",
       "</div>"
      ],
      "text/plain": [
       "              1960   1960.1     1961     1962     1963     1964     1965  \\\n",
       "U.S.       179,323  179,975  182,973  185,738  188,438  191,085  193,460   \n",
       "Northeast   44,678   44,802   45,384   45,833   46,402   46,953   47,451   \n",
       "Midwest     51,619   51,715   52,185   52,583   53,073   53,655   54,225   \n",
       "South       54,973   55,174   56,158   57,179   58,008   58,853   59,579   \n",
       "West        28,053   28,284   29,246   30,142   30,955   31,624   32,205   \n",
       "\n",
       "              1966     1967     1968     1969     1970  \n",
       "U.S.       195,501  197,374  199,312  201,306  203,185  \n",
       "Northeast   47,788   48,106   48,435   48,678   49,000  \n",
       "Midwest     54,840   55,289   55,692   56,106   56,577  \n",
       "South       60,205   60,771   61,489   62,190   62,798  \n",
       "West        32,667   33,207   33,696   34,332   34,809  "
      ]
     },
     "execution_count": 125,
     "metadata": {},
     "output_type": "execute_result"
    }
   ],
   "source": [
    "!size=$(cat data/st6070ts.txt | grep -n 'U.S. \\| US &[0-9]' \\\n",
    "| grep -Eo '^[^:]+'); \\\n",
    "ending_line=$((${size}-2 )); \\\n",
    "sed \"1,$(($ending_line -1))d\" data/st6070ts.txt >> data/f6.txt\n",
    "f1 = pd.read_fwf('data/f6.txt', index_col=0); # index col = 0 makes first column index\n",
    "f1 = f1.dropna()\n",
    "f1.head()"
   ]
  },
  {
   "cell_type": "code",
   "execution_count": 127,
   "metadata": {
    "collapsed": true
   },
   "outputs": [],
   "source": [
    "#!size=$(cat data/st6070ts.txt | grep -n 'U.S. \\| US &[0-9]' \\\n",
    "#| grep -Eo '^[^:]+'); \\\n",
    "#ending_line=$((${size}-2 )); \\\n",
    "#sed \"1,$(($ending_line -1))d\" data/st6070ts.txt >> data/f6.txt\n",
    "!size=$(cat data/st6070ts.txt | grep -n 'U.S. \\| US &[0-9]' \\\n",
    "| grep -Eo '^[^:]+');"
   ]
  },
  {
   "cell_type": "code",
   "execution_count": 126,
   "metadata": {
    "collapsed": false
   },
   "outputs": [
    {
     "name": "stdout",
     "output_type": "stream",
     "text": [
      "                 1960     1960     1961     1962     1963     1964      1965     1966     1967     1968     1969     1970\r",
      "\r\n",
      "                                                                                                                         \r",
      "\r\n",
      "U.S.          179,323  179,975  182,973  185,738  188,438  191,085   193,460  195,501  197,374  199,312  201,306  203,185\r",
      "\r\n",
      "Northeast      44,678   44,802   45,384   45,833   46,402   46,953    47,451   47,788   48,106   48,435   48,678   49,000\r",
      "\r\n",
      "Midwest        51,619   51,715   52,185   52,583   53,073   53,655    54,225   54,840   55,289   55,692   56,106   56,577\r",
      "\r\n",
      "South          54,973   55,174   56,158   57,179   58,008   58,853    59,579   60,205   60,771   61,489   62,190   62,798\r",
      "\r\n",
      "West           28,053   28,284   29,246   30,142   30,955   31,624    32,205   32,667   33,207   33,696   34,332   34,809\r",
      "\r\n",
      "                                                                                                                         \r",
      "\r\n",
      "AL              3,267    3,274    3,316    3,323    3,358    3,395     3,443    3,464    3,458    3,446    3,440    3,444\r",
      "\r\n",
      "AK                226      229      238      246      256      263       271      271      278      285      296      302\r",
      "\r\n",
      "AZ              1,302    1,321    1,407    1,471    1,521    1,556     1,584    1,614    1,646    1,682    1,737    1,772\r",
      "\r\n",
      "AR              1,786    1,789    1,806    1,853    1,875    1,897     1,894    1,899    1,901    1,902    1,913    1,923\r",
      "\r\n",
      "CA             15,717   15,870   16,497   17,072   17,668   18,151    18,585   18,858   19,176   19,394   19,711   19,953\r",
      "\r\n",
      "CO              1,754    1,769    1,844    1,899    1,936    1,970     1,985    2,007    2,053    2,120    2,166    2,207\r",
      "\r\n",
      "CT              2,535    2,544    2,586    2,647    2,727    2,798     2,857    2,903    2,935    2,964    3,000    3,032\r",
      "\r\n",
      "DE                446      449      461      469      483      497       507      516      525      534      540      548\r",
      "\r\n",
      "DC                764      765      778      788      798      798       797      791      791      778      762      757\r",
      "\r\n",
      "FL              4,952    5,004    5,243    5,458    5,628    5,781     5,954    6,104    6,242    6,433    6,641    6,789\r",
      "\r\n",
      "GA              3,943    3,956    4,015    4,086    4,172    4,258     4,332    4,379    4,408    4,482    4,551    4,590\r",
      "\r\n",
      "HI                633      642      659      684      682      700       704      710      723      734      750      770\r",
      "\r\n",
      "ID                667      671      684      692      683      680       686      689      688      695      707      713\r",
      "\r\n",
      "IL             10,081   10,086   10,130   10,280   10,402   10,580    10,693   10,836   10,947   10,995   11,039   11,114\r",
      "\r\n",
      "IN              4,662    4,674    4,730    4,736    4,799    4,856     4,922    4,999    5,053    5,093    5,143    5,194\r",
      "\r\n",
      "IA              2,758    2,756    2,756    2,750    2,747    2,746     2,742    2,762    2,793    2,803    2,805    2,825\r",
      "\r\n",
      "KS              2,179    2,183    2,215    2,231    2,217    2,209     2,206    2,200    2,197    2,216    2,236    2,249\r",
      "\r\n",
      "KY              3,038    3,041    3,054    3,079    3,096    3,129     3,140    3,147    3,172    3,195    3,198    3,219\r",
      "\r\n",
      "LA              3,257    3,260    3,287    3,345    3,377    3,446     3,496    3,550    3,581    3,603    3,619    3,643\r",
      "\r\n",
      "ME                969      975      995      994      993      993       997      999    1,004      994      992      994\r",
      "\r\n",
      "MD              3,101    3,113    3,176    3,263    3,386    3,492     3,600    3,695    3,757    3,815    3,868    3,922\r",
      "\r\n",
      "MA              5,149    5,160    5,219    5,263    5,344    5,448     5,502    5,535    5,594    5,618    5,650    5,689\r",
      "\r\n",
      "MI              7,823    7,834    7,893    7,933    8,058    8,187     8,357    8,512    8,630    8,696    8,781    8,875\r",
      "\r\n",
      "MN              3,414    3,425    3,470    3,513    3,531    3,558     3,592    3,617    3,659    3,703    3,758    3,805\r",
      "\r\n",
      "MS              2,178    2,182    2,206    2,243    2,244    2,241     2,246    2,245    2,228    2,219    2,220    2,217\r",
      "\r\n",
      "MO              4,320    4,326    4,349    4,357    4,392    4,442     4,467    4,523    4,539    4,568    4,640    4,677\r",
      "\r\n",
      "MT                675      679      696      698      703      706       706      707      701      700      694      694\r",
      "\r\n",
      "NE              1,411    1,417    1,446    1,464    1,476    1,482     1,471    1,456    1,457    1,467    1,474    1,484\r",
      "\r\n",
      "NV                285      291      315      352      397      426       444      446      449      464      480      489\r",
      "\r\n",
      "NH                607      609      618      632      649      663       676      681      697      709      724      738\r",
      "\r\n",
      "NJ              6,067    6,103    6,265    6,376    6,531    6,660     6,767    6,851    6,928    7,005    7,095    7,168\r",
      "\r\n",
      "NM                951      954      965      979      989    1,006     1,012    1,007    1,000      994    1,011    1,016\r",
      "\r\n",
      "NY             16,782   16,838   17,061   17,301   17,461   17,589    17,734   17,843   17,935   18,051   18,105   18,191\r",
      "\r\n",
      "NC              4,556    4,573    4,663    4,707    4,742    4,802     4,863    4,896    4,952    5,004    5,031    5,082\r",
      "\r\n",
      "ND                632      634      641      637      644      649       649      647      626      621      621      618\r",
      "\r\n",
      "OH              9,706    9,734    9,854    9,929    9,986   10,080    10,201   10,330   10,414   10,516   10,563   10,652\r",
      "\r\n",
      "OK              2,328    2,336    2,380    2,427    2,439    2,446     2,440    2,454    2,489    2,503    2,535    2,559\r",
      "\r\n",
      "OR              1,769    1,772    1,787    1,818    1,853    1,888     1,937    1,969    1,979    2,004    2,062    2,091\r",
      "\r\n",
      "PA             11,319   11,329   11,392   11,355   11,424   11,519    11,620   11,664   11,681   11,741   11,741   11,794\r",
      "\r\n",
      "RI                859      855      858      871      876      885       893      899      909      922      932      950\r",
      "\r\n",
      "SC              2,383    2,392    2,409    2,423    2,460    2,475     2,494    2,520    2,533    2,559    2,570    2,591\r",
      "\r\n",
      "SD                681      683      693      705      708      701       692      683      671      669      668      666\r",
      "\r\n",
      "TN              3,567    3,575    3,622    3,673    3,718    3,771     3,798    3,822    3,859    3,878    3,897    3,924\r",
      "\r\n",
      "TX              9,580    9,624    9,820   10,053   10,159   10,270    10,378   10,492   10,599   10,819   11,045   11,197\r",
      "\r\n",
      "UT                891      900      936      958      974      978       994    1,009    1,019    1,029    1,047    1,059\r",
      "\r\n",
      "VT                390      389      390      393      397      399       404      413      423      430      437      445\r",
      "\r\n",
      "VA              3,967    3,986    4,095    4,180    4,276    4,357     4,411    4,456    4,508    4,558    4,614    4,648\r",
      "\r\n",
      "WA              2,853    2,855    2,882    2,942    2,955    2,961     2,967    3,057    3,174    3,270    3,343    3,409\r",
      "\r\n",
      "WV              1,860    1,853    1,828    1,809    1,796    1,797     1,786    1,775    1,769    1,763    1,746    1,744\r",
      "\r\n",
      "WI              3,952    3,962    4,009    4,049    4,112    4,165     4,232    4,274    4,303    4,345    4,378    4,418\r",
      "\r\n",
      "WY                330      331      337      333      336      339       332      323      322      324      329      332\r",
      "\r\n",
      "\r",
      "\r\n",
      "\r",
      "\r\n",
      "\r",
      "\r\n",
      "\r",
      "\r\n",
      "\r",
      "\r\n",
      "\r",
      "\r\n",
      "\r",
      "\r\n",
      "\r",
      "\r\n",
      "\r",
      "\r\n",
      "\r",
      "\r\n",
      "\r",
      "\r\n",
      "\r",
      "\r\n",
      "\r",
      "\r\n",
      "\r",
      "\r\n",
      "\r",
      "\r\n",
      "\r",
      "\r\n",
      "\r",
      "\r\n",
      "\r",
      "\r\n",
      "\r",
      "\r\n",
      "\r",
      "\r\n",
      "\r",
      "\r\n",
      "\r",
      "\r\n",
      "\r",
      "\r\n",
      "\r",
      "\r\n",
      "\r",
      "\r\n",
      "\r",
      "\r\n",
      "\r",
      "\r\n",
      "\r",
      "\r\n",
      "\r",
      "\r\n",
      "\r",
      "\r\n",
      "\r",
      "\r\n",
      "\r",
      "\r\n",
      "\r",
      "\r\n",
      "\r",
      "\r\n",
      "\r",
      "\r\n",
      "\r",
      "\r\n",
      "\r",
      "\r\n",
      "\r",
      "\r\n",
      "\r",
      "\r\n",
      "\r",
      "\r\n",
      "\r",
      "\r\n",
      "\r",
      "\r\n",
      "\r",
      "\r\n",
      "\r",
      "\r\n",
      "\r",
      "\r\n",
      "\r",
      "\r\n",
      "\r",
      "\r\n",
      "\r",
      "\r\n",
      "\r",
      "\r\n",
      "\r",
      "\r\n",
      "\r",
      "\r\n",
      "\r",
      "\r\n",
      "\r",
      "\r\n",
      "\r",
      "\r\n",
      "\r",
      "\r\n",
      "\r",
      "\r\n",
      "\r",
      "\r\n",
      "\r",
      "\r\n",
      "\r",
      "\r\n",
      "\r",
      "\r\n",
      "\r",
      "\r\n",
      "\r",
      "\r\n"
     ]
    }
   ],
   "source": [
    "!size=$(cat data/st6070ts.txt | grep -n 'U.S. \\| US &[0-9]' \\\n",
    "| grep -Eo '^[^:]+'); size=$(cat data/st6070ts.txt | grep -n 'W.Y. \\| WY &[0-9]' \\\n",
    "| grep -Eo '^[^:]+');\\\n",
    "ending_line=$((${size}-2 )); \\\n",
    "sed \"1,$(($ending_line -1))d\" data/st6070ts.txt "
   ]
  },
  {
   "cell_type": "markdown",
   "metadata": {},
   "source": [
    "<h2 align=\"center\"> Problem 5</h2><br>"
   ]
  },
  {
   "cell_type": "code",
   "execution_count": null,
   "metadata": {
    "collapsed": true
   },
   "outputs": [],
   "source": [
    "!size=$(cat data/st6070ts.txt | grep -n 'U.S. \\| US &[0-9]' \\\n",
    "| grep -Eo '^[^:]+'); \\\n",
    "ending_line=$((${size}-2 )); \\\n",
    "sed \"1,$(($ending_line -1))d\" data/st6070ts.txt >> data/f6.txt\n",
    "f1 = pd.read_fwf('data/f6.txt', index_col=0); # index col = 0 makes first column index\n",
    "f1 = f1.dropna()\n",
    "f1.head()"
   ]
  }
 ],
 "metadata": {
  "kernelspec": {
   "display_name": "Python 2",
   "language": "python",
   "name": "python2"
  },
  "language_info": {
   "codemirror_mode": {
    "name": "ipython",
    "version": 2
   },
   "file_extension": ".py",
   "mimetype": "text/x-python",
   "name": "python",
   "nbconvert_exporter": "python",
   "pygments_lexer": "ipython2",
   "version": "2.7.11"
  }
 },
 "nbformat": 4,
 "nbformat_minor": 0
}
