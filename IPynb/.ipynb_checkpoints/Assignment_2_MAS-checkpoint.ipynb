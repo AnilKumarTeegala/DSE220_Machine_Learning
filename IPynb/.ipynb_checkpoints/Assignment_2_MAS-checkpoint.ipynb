{
 "cells": [
  {
   "cell_type": "markdown",
   "metadata": {},
   "source": [
    "Assignnement 2: Prediction and Classification\n",
    "\n",
    "Due: Thursday, April 30, 2015 11:59 PM"
   ]
  },
  {
   "cell_type": "markdown",
   "metadata": {},
   "source": [
    "# Introduction\n",
    "Problem 1 is optional - for extra credit!\n",
    "Problems 2 and 3 will be graded for the Lab 2.  \n",
    "\n",
    "\n",
    "In this assignment you will be using regression and classification to explore different data sets.  \n",
    "\n",
    "**First**: You will use data from before 2002 in the [Sean Lahman's Baseball Database](http://seanlahman.com/baseball-archive/statistics) to create a metric for picking baseball players using linear regression.  This database contains the \"complete batting and pitching statistics from 1871 to 2013, plus fielding statistics, standings, team stats, managerial records, post-season data, and more\". [Documentation provided here](http://seanlahman.com/files/database/readme2012.txt).\n",
    "\n",
    "![\"Sabermetrics Science\"](http://saberseminar.com/wp-content/uploads/2012/01/saber-web.jpg)\n",
    "http://saberseminar.com/wp-content/uploads/2012/01/saber-web.jpg\n",
    "\n",
    "**Second**: You will use the famous [iris](http://en.wikipedia.org/wiki/Iris_flower_data_set) data set to perform a $k$-neareast neighbor classification using cross validation.  While it was introduced in 1936, it is still [one of the most popular](http://archive.ics.uci.edu/ml/) example data sets in the machine learning community. Wikipedia describes the data set as follows: \"The data set consists of 50 samples from each of three species of Iris (Iris setosa, Iris virginica and Iris versicolor). Four features were measured from each sample: the length and the width of the sepals and petals, in centimetres.\" Here is an illustration what the four features measure:\n",
    "\n",
    "![\"iris data features\"](http://sebastianraschka.com/Images/2014_python_lda/iris_petal_sepal.png)\n",
    "http://sebastianraschka.com/Images/2014_python_lda/iris_petal_sepal.png\n",
    "\n",
    "**Third**: You will investigate the influence of higher dimensional spaces on the classification using another standard data set in machine learning called the The [digits data set](http://scikit-learn.org/stable/modules/generated/sklearn.datasets.load_digits.html).   Each digit is represented by an 8x8 pixel image patch. In addition, the gray values are restricted to 16 different values (4 bit). \n",
    "\n"
   ]
  },
  {
   "cell_type": "markdown",
   "metadata": {},
   "source": [
    "## Load Python modules"
   ]
  },
  {
   "cell_type": "code",
   "execution_count": 358,
   "metadata": {
    "collapsed": false
   },
   "outputs": [],
   "source": [
    "# prepare the notebook for matplotlib\n",
    "%matplotlib inline \n",
    "\n",
    "import requests \n",
    "import StringIO\n",
    "import zipfile\n",
    "import numpy as np\n",
    "import pandas as pd # pandas\n",
    "import matplotlib.pyplot as plt # module for plotting \n",
    "import seaborn as sns \n",
    "import sklearn\n",
    "import sklearn.datasets\n",
    "import sklearn.cross_validation\n",
    "import sklearn.decomposition\n",
    "import sklearn.grid_search\n",
    "import sklearn.neighbors\n",
    "import sklearn.metrics"
   ]
  },
  {
   "cell_type": "markdown",
   "metadata": {},
   "source": [
    "# Problem 1: Sabermetrics\n",
    "\n",
    "Using data preceding the 2002 season pick 10 offensive players keeping the payroll under $20 million (assign each player the median salary). Predict how many games this team would win in a 162 game season.  \n",
    "\n",
    "In this problem we will be returning to the [Sean Lahman's Baseball Database](http://seanlahman.com/baseball-archive/statistics).  From this database, we will be extract five data sets containing information such as yearly stats and standing, batting statistics, fielding statistics, player names, player salaries and biographical information. You will explore the data in this database from before 2002 and create a metric for picking players. "
   ]
  },
  {
   "cell_type": "markdown",
   "metadata": {},
   "source": [
    "#### Problem 1(a) \n",
    "\n",
    "Load in [these CSV files](http://seanlahman.com/files/database/lahman-csv_2014-02-14.zip) from the [Sean Lahman's Baseball Database](http://seanlahman.com/baseball-archive/statistics). For this assignment, we will use the 'Teams.csv', 'Batting.csv', 'Salaries.csv', 'Fielding.csv', 'Master.csv' tables. Read these tables into separate pandas DataFrames with the following names. \n",
    "\n",
    "CSV file name | Name of pandas DataFrame\n",
    ":---: | :---: \n",
    "Teams.csv | teams\n",
    "Batting.csv | players\n",
    "Salaries.csv | salaries\n",
    "Fielding.csv | fielding\n",
    "Master.csv | master"
   ]
  },
  {
   "cell_type": "code",
   "execution_count": 359,
   "metadata": {
    "collapsed": false
   },
   "outputs": [],
   "source": [
    "### Your code here ###\n",
    "teams = pd.read_csv('data/baseball_data/teams.csv')\n",
    "players = pd.read_csv('data/baseball_data/Batting.csv')\n",
    "salaries = pd.read_csv('data/baseball_data/Salaries.csv')\n",
    "fielding = pd.read_csv('data/baseball_data/Fielding.csv')\n",
    "master = pd.read_csv('data/baseball_data/Master.csv', index_col=0)\n",
    "master.index.name = None"
   ]
  },
  {
   "cell_type": "markdown",
   "metadata": {},
   "source": [
    "#### Problem 1(b)\n",
    "\n",
    "Calculate the median salary for each player and create a pandas DataFrame called `medianSalaries` with four columns: (1) the player ID, (2) the first name of the player, (3) the last name of the player and (4) the median salary of the player. Show the head of the `medianSalaries` DataFrame.   "
   ]
  },
  {
   "cell_type": "code",
   "execution_count": 360,
   "metadata": {
    "collapsed": false
   },
   "outputs": [],
   "source": [
    "first_last = master[['nameFirst', 'nameLast']]\n",
    "yearID_salary = salaries[['salary', 'playerID']]"
   ]
  },
  {
   "cell_type": "code",
   "execution_count": 361,
   "metadata": {
    "collapsed": false
   },
   "outputs": [],
   "source": [
    "# put the playerID values into the index. This is for merging later\n",
    "yearID_salary.index = yearID_salary['playerID'].values"
   ]
  },
  {
   "cell_type": "code",
   "execution_count": 362,
   "metadata": {
    "collapsed": false
   },
   "outputs": [],
   "source": [
    "salary_first_last = pd.merge(left = yearID_salary, right = first_last,left_index=True, right_index=True, how = \"inner\")"
   ]
  },
  {
   "cell_type": "code",
   "execution_count": 363,
   "metadata": {
    "collapsed": false
   },
   "outputs": [
    {
     "data": {
      "text/html": [
       "<div>\n",
       "<table border=\"1\" class=\"dataframe\">\n",
       "  <thead>\n",
       "    <tr style=\"text-align: right;\">\n",
       "      <th></th>\n",
       "      <th>nameFirst</th>\n",
       "      <th>nameLast</th>\n",
       "      <th>playerID</th>\n",
       "      <th>salary</th>\n",
       "    </tr>\n",
       "  </thead>\n",
       "  <tbody>\n",
       "    <tr>\n",
       "      <th>0</th>\n",
       "      <td>A. J.</td>\n",
       "      <td>Burnett</td>\n",
       "      <td>burneaj01</td>\n",
       "      <td>3650000</td>\n",
       "    </tr>\n",
       "    <tr>\n",
       "      <th>1</th>\n",
       "      <td>A. J.</td>\n",
       "      <td>Ellis</td>\n",
       "      <td>ellisaj01</td>\n",
       "      <td>490000</td>\n",
       "    </tr>\n",
       "    <tr>\n",
       "      <th>2</th>\n",
       "      <td>A. J.</td>\n",
       "      <td>Griffin</td>\n",
       "      <td>griffaj01</td>\n",
       "      <td>492500</td>\n",
       "    </tr>\n",
       "    <tr>\n",
       "      <th>3</th>\n",
       "      <td>A. J.</td>\n",
       "      <td>Hinch</td>\n",
       "      <td>hinchaj01</td>\n",
       "      <td>245000</td>\n",
       "    </tr>\n",
       "    <tr>\n",
       "      <th>4</th>\n",
       "      <td>A. J.</td>\n",
       "      <td>Pierzynski</td>\n",
       "      <td>pierzaj01</td>\n",
       "      <td>4000000</td>\n",
       "    </tr>\n",
       "  </tbody>\n",
       "</table>\n",
       "</div>"
      ],
      "text/plain": [
       "  nameFirst    nameLast   playerID   salary\n",
       "0     A. J.     Burnett  burneaj01  3650000\n",
       "1     A. J.       Ellis  ellisaj01   490000\n",
       "2     A. J.     Griffin  griffaj01   492500\n",
       "3     A. J.       Hinch  hinchaj01   245000\n",
       "4     A. J.  Pierzynski  pierzaj01  4000000"
      ]
     },
     "execution_count": 363,
     "metadata": {},
     "output_type": "execute_result"
    }
   ],
   "source": [
    "medianSalaries = salary_first_last.groupby(['nameFirst', 'nameLast', 'playerID'])['salary'].median().reset_index()\n",
    "medianSalaries.head()"
   ]
  },
  {
   "cell_type": "markdown",
   "metadata": {},
   "source": [
    "#### Problem 1(c)\n",
    "\n",
    "Now, consider only team/season combinations in which the teams played 162 Games. Exclude all data from before 1947. Compute the per plate appearance rates for singles, doubles, triples, HR, and BB. Create a new pandas DataFrame called `stats` that has the teamID, yearID, wins and these rates.\n",
    "\n",
    "**Hint**: Singles are hits that are not doubles, triples, nor HR. Plate appearances are base on balls plus at bats."
   ]
  },
  {
   "cell_type": "markdown",
   "metadata": {},
   "source": [
    "PA = AB + BB"
   ]
  },
  {
   "cell_type": "code",
   "execution_count": 395,
   "metadata": {
    "collapsed": false
   },
   "outputs": [],
   "source": [
    "year_condition = teams['yearID'] >= 1947\n",
    "games_condition = teams['G'] >= 162"
   ]
  },
  {
   "cell_type": "code",
   "execution_count": 463,
   "metadata": {
    "collapsed": false
   },
   "outputs": [],
   "source": [
    "filtered_teams = teams[year_condition & games_condition]\n",
    "#filtered_teams.is_copy = False # remove angry red error message"
   ]
  },
  {
   "cell_type": "code",
   "execution_count": 464,
   "metadata": {
    "collapsed": false
   },
   "outputs": [],
   "source": [
    "PA = pd.Series(filtered_teams['AB']) + pd.Series(filtered_teams['BB'])"
   ]
  },
  {
   "cell_type": "code",
   "execution_count": 475,
   "metadata": {
    "collapsed": false
   },
   "outputs": [],
   "source": [
    "Singles = (pd.Series(filtered_teams['H']) - pd.Series(filtered_teams['2B']) - pd.Series(filtered_teams['3B']) - pd.Series(filtered_teams['HR']))/PA\n",
    "pa_singles = {'PA': PA, '1B':Singles}\n",
    "\n",
    "# updating dictionary, inside update is dictionary comprehension of everything divided by PA\n",
    "pa_singles.update({column:pd.Series(filtered_teams[column]) / PA for column in ['2B', '3B', 'HR', 'BB']})\n",
    "stats = pd.concat([filtered_teams[['teamID', 'yearID', 'W']], pd.DataFrame(data = pa_singles)], axis = 1)"
   ]
  },
  {
   "cell_type": "code",
   "execution_count": 476,
   "metadata": {
    "collapsed": false
   },
   "outputs": [
    {
     "data": {
      "text/html": [
       "<div>\n",
       "<table border=\"1\" class=\"dataframe\">\n",
       "  <thead>\n",
       "    <tr style=\"text-align: right;\">\n",
       "      <th></th>\n",
       "      <th>teamID</th>\n",
       "      <th>yearID</th>\n",
       "      <th>W</th>\n",
       "      <th>1B</th>\n",
       "      <th>2B</th>\n",
       "      <th>3B</th>\n",
       "      <th>BB</th>\n",
       "      <th>HR</th>\n",
       "      <th>PA</th>\n",
       "    </tr>\n",
       "  </thead>\n",
       "  <tbody>\n",
       "    <tr>\n",
       "      <th>1359</th>\n",
       "      <td>NYA</td>\n",
       "      <td>1961</td>\n",
       "      <td>109</td>\n",
       "      <td>0.161750</td>\n",
       "      <td>0.031793</td>\n",
       "      <td>0.006555</td>\n",
       "      <td>0.088987</td>\n",
       "      <td>0.039331</td>\n",
       "      <td>6102</td>\n",
       "    </tr>\n",
       "    <tr>\n",
       "      <th>1360</th>\n",
       "      <td>DET</td>\n",
       "      <td>1961</td>\n",
       "      <td>101</td>\n",
       "      <td>0.165704</td>\n",
       "      <td>0.034488</td>\n",
       "      <td>0.008502</td>\n",
       "      <td>0.107956</td>\n",
       "      <td>0.028874</td>\n",
       "      <td>6234</td>\n",
       "    </tr>\n",
       "    <tr>\n",
       "      <th>1361</th>\n",
       "      <td>BAL</td>\n",
       "      <td>1961</td>\n",
       "      <td>95</td>\n",
       "      <td>0.161828</td>\n",
       "      <td>0.037446</td>\n",
       "      <td>0.005939</td>\n",
       "      <td>0.095843</td>\n",
       "      <td>0.024579</td>\n",
       "      <td>6062</td>\n",
       "    </tr>\n",
       "    <tr>\n",
       "      <th>1362</th>\n",
       "      <td>CHA</td>\n",
       "      <td>1961</td>\n",
       "      <td>86</td>\n",
       "      <td>0.176056</td>\n",
       "      <td>0.035375</td>\n",
       "      <td>0.007534</td>\n",
       "      <td>0.090075</td>\n",
       "      <td>0.022601</td>\n",
       "      <td>6106</td>\n",
       "    </tr>\n",
       "    <tr>\n",
       "      <th>1364</th>\n",
       "      <td>BOS</td>\n",
       "      <td>1961</td>\n",
       "      <td>76</td>\n",
       "      <td>0.162632</td>\n",
       "      <td>0.040780</td>\n",
       "      <td>0.006011</td>\n",
       "      <td>0.105118</td>\n",
       "      <td>0.018197</td>\n",
       "      <td>6155</td>\n",
       "    </tr>\n",
       "  </tbody>\n",
       "</table>\n",
       "</div>"
      ],
      "text/plain": [
       "     teamID  yearID    W        1B        2B        3B        BB        HR  \\\n",
       "1359    NYA    1961  109  0.161750  0.031793  0.006555  0.088987  0.039331   \n",
       "1360    DET    1961  101  0.165704  0.034488  0.008502  0.107956  0.028874   \n",
       "1361    BAL    1961   95  0.161828  0.037446  0.005939  0.095843  0.024579   \n",
       "1362    CHA    1961   86  0.176056  0.035375  0.007534  0.090075  0.022601   \n",
       "1364    BOS    1961   76  0.162632  0.040780  0.006011  0.105118  0.018197   \n",
       "\n",
       "        PA  \n",
       "1359  6102  \n",
       "1360  6234  \n",
       "1361  6062  \n",
       "1362  6106  \n",
       "1364  6155  "
      ]
     },
     "execution_count": 476,
     "metadata": {},
     "output_type": "execute_result"
    }
   ],
   "source": [
    "stats.head()"
   ]
  },
  {
   "cell_type": "markdown",
   "metadata": {},
   "source": [
    "#### Problem 1(d)\n",
    "\n",
    "<b>Question: </b>Is there a noticeable time trend in the rates computed in Problem 1(c)? <br>\n",
    "There are seems to be an increasing number of 2B and HR as the years go by. There is also missing data in the graphs from the 1994–95 Major League Baseball strike."
   ]
  },
  {
   "cell_type": "code",
   "execution_count": 487,
   "metadata": {
    "collapsed": false
   },
   "outputs": [
    {
     "data": {
      "text/html": [
       "<div>\n",
       "<table border=\"1\" class=\"dataframe\">\n",
       "  <thead>\n",
       "    <tr style=\"text-align: right;\">\n",
       "      <th></th>\n",
       "      <th>yearID</th>\n",
       "      <th>1B</th>\n",
       "      <th>2B</th>\n",
       "      <th>3B</th>\n",
       "      <th>BB</th>\n",
       "      <th>HR</th>\n",
       "    </tr>\n",
       "  </thead>\n",
       "  <tbody>\n",
       "    <tr>\n",
       "      <th>0</th>\n",
       "      <td>1961</td>\n",
       "      <td>0.162924</td>\n",
       "      <td>0.035939</td>\n",
       "      <td>0.006568</td>\n",
       "      <td>0.099449</td>\n",
       "      <td>0.025648</td>\n",
       "    </tr>\n",
       "    <tr>\n",
       "      <th>1</th>\n",
       "      <td>1962</td>\n",
       "      <td>0.168355</td>\n",
       "      <td>0.035621</td>\n",
       "      <td>0.006772</td>\n",
       "      <td>0.089365</td>\n",
       "      <td>0.024662</td>\n",
       "    </tr>\n",
       "    <tr>\n",
       "      <th>2</th>\n",
       "      <td>1963</td>\n",
       "      <td>0.163161</td>\n",
       "      <td>0.033769</td>\n",
       "      <td>0.006798</td>\n",
       "      <td>0.080538</td>\n",
       "      <td>0.021204</td>\n",
       "    </tr>\n",
       "    <tr>\n",
       "      <th>3</th>\n",
       "      <td>1964</td>\n",
       "      <td>0.165559</td>\n",
       "      <td>0.035530</td>\n",
       "      <td>0.006330</td>\n",
       "      <td>0.080035</td>\n",
       "      <td>0.022923</td>\n",
       "    </tr>\n",
       "    <tr>\n",
       "      <th>4</th>\n",
       "      <td>1965</td>\n",
       "      <td>0.160910</td>\n",
       "      <td>0.035027</td>\n",
       "      <td>0.006557</td>\n",
       "      <td>0.083755</td>\n",
       "      <td>0.022416</td>\n",
       "    </tr>\n",
       "  </tbody>\n",
       "</table>\n",
       "</div>"
      ],
      "text/plain": [
       "   yearID        1B        2B        3B        BB        HR\n",
       "0    1961  0.162924  0.035939  0.006568  0.099449  0.025648\n",
       "1    1962  0.168355  0.035621  0.006772  0.089365  0.024662\n",
       "2    1963  0.163161  0.033769  0.006798  0.080538  0.021204\n",
       "3    1964  0.165559  0.035530  0.006330  0.080035  0.022923\n",
       "4    1965  0.160910  0.035027  0.006557  0.083755  0.022416"
      ]
     },
     "execution_count": 487,
     "metadata": {},
     "output_type": "execute_result"
    }
   ],
   "source": [
    "yearTrends = stats.groupby('yearID').mean().reset_index()\n",
    "\n",
    "try:\n",
    "    yearTrends.drop(['PA', 'W'], axis=1, inplace=True)\n",
    "except: \n",
    "    pass\n",
    "yearTrends.head()"
   ]
  },
  {
   "cell_type": "code",
   "execution_count": 484,
   "metadata": {
    "collapsed": false
   },
   "outputs": [
    {
     "data": {
      "image/png": "[encoded data removed]",
      "text/plain": [
       "<matplotlib.figure.Figure at 0x120b80f10>"
      ]
     },
     "metadata": {},
     "output_type": "display_data"
    },
    {
     "data": {
      "image/png": "[encoded data removed]",
      "text/plain": [
       "<matplotlib.figure.Figure at 0x12365bf50>"
      ]
     },
     "metadata": {},
     "output_type": "display_data"
    },
    {
     "data": {
      "image/png": "[encoded data removed]",
      "text/plain": [
       "<matplotlib.figure.Figure at 0x11d4adf10>"
      ]
     },
     "metadata": {},
     "output_type": "display_data"
    },
    {
     "data": {
      "image/png": "[encoded data removed]",
      "text/plain": [
       "<matplotlib.figure.Figure at 0x11d039990>"
      ]
     },
     "metadata": {},
     "output_type": "display_data"
    },
    {
     "data": {
      "image/png": "[encoded data removed]",
      "text/plain": [
       "<matplotlib.figure.Figure at 0x12431fed0>"
      ]
     },
     "metadata": {},
     "output_type": "display_data"
    }
   ],
   "source": [
    "for base in ['HR', 'BB', '1B', '2B', '3B']:\n",
    "    yearTrends.plot(kind='scatter', x = 'yearID', y = base, s = 30);\n",
    "    "
   ]
  },
  {
   "cell_type": "markdown",
   "metadata": {},
   "source": [
    "#### Problem 1(e) \n",
    "\n",
    "Using the `stats` DataFrame from Problem 1(c), adjust the singles per PA rates so that the average across teams for each year is 0. Do the same for the doubles, triples, HR, and BB rates. "
   ]
  },
  {
   "cell_type": "code",
   "execution_count": 372,
   "metadata": {
    "collapsed": false
   },
   "outputs": [
    {
     "data": {
      "text/html": [
       "<div>\n",
       "<table border=\"1\" class=\"dataframe\">\n",
       "  <thead>\n",
       "    <tr style=\"text-align: right;\">\n",
       "      <th></th>\n",
       "      <th>Singles</th>\n",
       "      <th>2B</th>\n",
       "      <th>3B</th>\n",
       "      <th>HR</th>\n",
       "      <th>BB</th>\n",
       "      <th>W</th>\n",
       "      <th>yearID</th>\n",
       "    </tr>\n",
       "  </thead>\n",
       "  <tbody>\n",
       "    <tr>\n",
       "      <th>1961</th>\n",
       "      <td>-0.001174</td>\n",
       "      <td>-0.004146</td>\n",
       "      <td>-0.000012</td>\n",
       "      <td>0.013684</td>\n",
       "      <td>-0.010462</td>\n",
       "      <td>109</td>\n",
       "      <td>1961</td>\n",
       "    </tr>\n",
       "    <tr>\n",
       "      <th>1961</th>\n",
       "      <td>0.002780</td>\n",
       "      <td>-0.001451</td>\n",
       "      <td>0.001934</td>\n",
       "      <td>0.003226</td>\n",
       "      <td>0.008507</td>\n",
       "      <td>101</td>\n",
       "      <td>1961</td>\n",
       "    </tr>\n",
       "    <tr>\n",
       "      <th>1961</th>\n",
       "      <td>-0.001096</td>\n",
       "      <td>0.001507</td>\n",
       "      <td>-0.000629</td>\n",
       "      <td>-0.001068</td>\n",
       "      <td>-0.003606</td>\n",
       "      <td>95</td>\n",
       "      <td>1961</td>\n",
       "    </tr>\n",
       "    <tr>\n",
       "      <th>1961</th>\n",
       "      <td>0.013132</td>\n",
       "      <td>-0.000564</td>\n",
       "      <td>0.000966</td>\n",
       "      <td>-0.003047</td>\n",
       "      <td>-0.009374</td>\n",
       "      <td>86</td>\n",
       "      <td>1961</td>\n",
       "    </tr>\n",
       "    <tr>\n",
       "      <th>1961</th>\n",
       "      <td>-0.000292</td>\n",
       "      <td>0.004841</td>\n",
       "      <td>-0.000556</td>\n",
       "      <td>-0.007451</td>\n",
       "      <td>0.005668</td>\n",
       "      <td>76</td>\n",
       "      <td>1961</td>\n",
       "    </tr>\n",
       "  </tbody>\n",
       "</table>\n",
       "</div>"
      ],
      "text/plain": [
       "       Singles        2B        3B        HR        BB    W  yearID\n",
       "1961 -0.001174 -0.004146 -0.000012  0.013684 -0.010462  109    1961\n",
       "1961  0.002780 -0.001451  0.001934  0.003226  0.008507  101    1961\n",
       "1961 -0.001096  0.001507 -0.000629 -0.001068 -0.003606   95    1961\n",
       "1961  0.013132 -0.000564  0.000966 -0.003047 -0.009374   86    1961\n",
       "1961 -0.000292  0.004841 -0.000556 -0.007451  0.005668   76    1961"
      ]
     },
     "execution_count": 372,
     "metadata": {},
     "output_type": "execute_result"
    }
   ],
   "source": [
    "stats.index = stats.yearID.values\n",
    "stats2 = stats.groupby('yearID')['Singles','2B', '3B', 'HR', 'BB', 'W'].apply(lambda x: x)\n",
    "\n",
    "stats2['yearID'] = stats2.index.values\n",
    "\n",
    "for column in ['Singles', '2B', '3B', 'HR', 'BB']:\n",
    "    mean_givenYear_Column = stats2.groupby('yearID')[column].mean().reset_index()\n",
    "    mean_givenYear_Column.index = mean_givenYear_Column.yearID.values\n",
    "    stats2[column] = stats2[column] - mean_givenYear_Column[column]\n",
    "#stats2.drop('yearID', axis=1, inplace=True)\n",
    "stats2\n",
    "stats2.head()"
   ]
  },
  {
   "cell_type": "markdown",
   "metadata": {},
   "source": [
    "#### Problem 1(f)\n",
    "\n",
    "Build a simple linear regression model to predict the number of wins from the average adjusted singles, double, triples, HR, and BB rates. To decide which of these terms to include fit the model to data from 2002 and compute the average squared residuals from predictions to years past 2002. Use the fitted model to define a new sabermetric summary: offensive predicted wins (OPW). Hint: the new summary should be a linear combination of one to five of the five rates.\n"
   ]
  },
  {
   "cell_type": "code",
   "execution_count": 373,
   "metadata": {
    "collapsed": false,
    "scrolled": true
   },
   "outputs": [
    {
     "data": {
      "text/plain": [
       "[<matplotlib.lines.Line2D at 0x1233ac750>]"
      ]
     },
     "execution_count": 373,
     "metadata": {},
     "output_type": "execute_result"
    },
    {
     "data": {
      "image/png": "[encoded data removed]",
      "text/plain": [
       "<matplotlib.figure.Figure at 0x123bf9710>"
      ]
     },
     "metadata": {},
     "output_type": "display_data"
    }
   ],
   "source": [
    "import matplotlib.pyplot as plt\n",
    "from sklearn.linear_model import LinearRegression\n",
    "from sklearn.cross_validation import train_test_split\n",
    "\n",
    "stats_Plus_2003 = stats[stats['yearID'] >= 2003]\n",
    "X = stats_Plus_2003[['Singles', '2B', '3B', 'HR', 'BB']]\n",
    "y = stats_Plus_2003['W']\n",
    "X_train, X_test, y_train, y_test = train_test_split(X, y, test_size=0.33, random_state=42)\n",
    "y_train = pd.DataFrame(data = y_train)\n",
    "y_test = pd.DataFrame(data = y_test)\n",
    "lm = LinearRegression()\n",
    "lm.fit(X, y)\n",
    "#plt.plot(X_train[['Singles', '2B', '3B', 'HR', 'BB']],y_train['W'], '.');\n",
    "\n",
    "\n",
    "#plt.plot(X_test['Singles'].reshape(103,1),lm.predict(X_test[['Singles', '2B', '3B', 'HR', 'BB']]), '*')\n",
    "plt.plot(X_test['2B'].reshape(103,1),lm.predict(X_test[['Singles', '2B', '3B', 'HR', 'BB']]), '*')\n",
    "plt.plot(X_test['2B'].reshape(103,1),lm.predict(X_test[['Singles', '2B', '3B', 'HR', 'BB']]), '*')\n",
    "plt.plot(X_train[ '2B'],y_train['W'], '.')\n",
    "#lm.score(X,y) .38 is bad score\n",
    "# "
   ]
  },
  {
   "cell_type": "code",
   "execution_count": 374,
   "metadata": {
    "collapsed": false
   },
   "outputs": [
    {
     "data": {
      "text/html": [
       "<div>\n",
       "<table border=\"1\" class=\"dataframe\">\n",
       "  <thead>\n",
       "    <tr style=\"text-align: right;\">\n",
       "      <th></th>\n",
       "      <th>Singles</th>\n",
       "      <th>2B</th>\n",
       "      <th>3B</th>\n",
       "      <th>HR</th>\n",
       "      <th>BB</th>\n",
       "      <th>W</th>\n",
       "      <th>yearID</th>\n",
       "      <th>Singles OPW</th>\n",
       "      <th>2B OPW</th>\n",
       "      <th>3B OPW</th>\n",
       "      <th>HR OPW</th>\n",
       "      <th>BB OPW</th>\n",
       "    </tr>\n",
       "  </thead>\n",
       "  <tbody>\n",
       "    <tr>\n",
       "      <th>1961</th>\n",
       "      <td>-0.001174</td>\n",
       "      <td>-0.004146</td>\n",
       "      <td>-0.000012</td>\n",
       "      <td>0.013684</td>\n",
       "      <td>-0.010462</td>\n",
       "      <td>109</td>\n",
       "      <td>1961</td>\n",
       "      <td>-0.384979</td>\n",
       "      <td>-0.580422</td>\n",
       "      <td>-0.002628</td>\n",
       "      <td>11.089906</td>\n",
       "      <td>-4.505782</td>\n",
       "    </tr>\n",
       "    <tr>\n",
       "      <th>1961</th>\n",
       "      <td>0.002780</td>\n",
       "      <td>-0.001451</td>\n",
       "      <td>0.001934</td>\n",
       "      <td>0.003226</td>\n",
       "      <td>0.008507</td>\n",
       "      <td>101</td>\n",
       "      <td>1961</td>\n",
       "      <td>0.911674</td>\n",
       "      <td>-0.203084</td>\n",
       "      <td>0.409035</td>\n",
       "      <td>2.614791</td>\n",
       "      <td>3.663708</td>\n",
       "    </tr>\n",
       "    <tr>\n",
       "      <th>1961</th>\n",
       "      <td>-0.001096</td>\n",
       "      <td>0.001507</td>\n",
       "      <td>-0.000629</td>\n",
       "      <td>-0.001068</td>\n",
       "      <td>-0.003606</td>\n",
       "      <td>95</td>\n",
       "      <td>1961</td>\n",
       "      <td>-0.359552</td>\n",
       "      <td>0.211024</td>\n",
       "      <td>-0.133029</td>\n",
       "      <td>-0.865692</td>\n",
       "      <td>-1.553204</td>\n",
       "    </tr>\n",
       "    <tr>\n",
       "      <th>1961</th>\n",
       "      <td>0.013132</td>\n",
       "      <td>-0.000564</td>\n",
       "      <td>0.000966</td>\n",
       "      <td>-0.003047</td>\n",
       "      <td>-0.009374</td>\n",
       "      <td>86</td>\n",
       "      <td>1961</td>\n",
       "      <td>4.306534</td>\n",
       "      <td>-0.078947</td>\n",
       "      <td>0.204277</td>\n",
       "      <td>-2.469246</td>\n",
       "      <td>-4.037159</td>\n",
       "    </tr>\n",
       "    <tr>\n",
       "      <th>1961</th>\n",
       "      <td>-0.000292</td>\n",
       "      <td>0.004841</td>\n",
       "      <td>-0.000556</td>\n",
       "      <td>-0.007451</td>\n",
       "      <td>0.005668</td>\n",
       "      <td>76</td>\n",
       "      <td>1961</td>\n",
       "      <td>-0.095816</td>\n",
       "      <td>0.677680</td>\n",
       "      <td>-0.117646</td>\n",
       "      <td>-6.038523</td>\n",
       "      <td>2.441211</td>\n",
       "    </tr>\n",
       "  </tbody>\n",
       "</table>\n",
       "</div>"
      ],
      "text/plain": [
       "       Singles        2B        3B        HR        BB    W  yearID  \\\n",
       "1961 -0.001174 -0.004146 -0.000012  0.013684 -0.010462  109    1961   \n",
       "1961  0.002780 -0.001451  0.001934  0.003226  0.008507  101    1961   \n",
       "1961 -0.001096  0.001507 -0.000629 -0.001068 -0.003606   95    1961   \n",
       "1961  0.013132 -0.000564  0.000966 -0.003047 -0.009374   86    1961   \n",
       "1961 -0.000292  0.004841 -0.000556 -0.007451  0.005668   76    1961   \n",
       "\n",
       "      Singles OPW    2B OPW    3B OPW     HR OPW    BB OPW  \n",
       "1961    -0.384979 -0.580422 -0.002628  11.089906 -4.505782  \n",
       "1961     0.911674 -0.203084  0.409035   2.614791  3.663708  \n",
       "1961    -0.359552  0.211024 -0.133029  -0.865692 -1.553204  \n",
       "1961     4.306534 -0.078947  0.204277  -2.469246 -4.037159  \n",
       "1961    -0.095816  0.677680 -0.117646  -6.038523  2.441211  "
      ]
     },
     "execution_count": 374,
     "metadata": {},
     "output_type": "execute_result"
    }
   ],
   "source": [
    "hits_coefs = zip(['Singles', '2B', '3B', 'HR', 'BB'], lm.coef_)\n",
    "#lm.intercept_\n",
    "#X_test\n",
    "#X_test['Singles'] * lm.coef_[0]\n",
    "#stats.ix[:,4::].apply(lambda x: x/stats['PA'], axis=0)\n",
    "lm.coef_\n",
    "\n",
    "for hit_coef in hits_coefs:\n",
    "    stats2[hit_coef[0] + ' OPW'] = stats2[hit_coef[0]].apply(lambda x: x * hit_coef[1])\n",
    "stats2.head()"
   ]
  },
  {
   "cell_type": "markdown",
   "metadata": {},
   "source": [
    "#### Problem 1(g)\n",
    "\n",
    "Now we will create a similar database for individual players. Consider only player/year combinations in which the player had at least 500 plate appearances. Consider only the years we considered for the calculations above (after 1947 and seasons with 162 games). For each player/year compute singles, doubles, triples, HR, BB per plate appearance rates. Create a new pandas DataFrame called `playerstats` that has the playerID, yearID and the rates of these stats.  Remove the average for each year as for these rates as done in Problem 1(e). "
   ]
  },
  {
   "cell_type": "code",
   "execution_count": 375,
   "metadata": {
    "collapsed": false
   },
   "outputs": [
    {
     "data": {
      "text/html": [
       "<div>\n",
       "<table border=\"1\" class=\"dataframe\">\n",
       "  <thead>\n",
       "    <tr style=\"text-align: right;\">\n",
       "      <th></th>\n",
       "      <th>nameFirst</th>\n",
       "      <th>nameLast</th>\n",
       "      <th>playerID</th>\n",
       "      <th>salary</th>\n",
       "    </tr>\n",
       "  </thead>\n",
       "  <tbody>\n",
       "    <tr>\n",
       "      <th>burneaj01</th>\n",
       "      <td>A. J.</td>\n",
       "      <td>Burnett</td>\n",
       "      <td>burneaj01</td>\n",
       "      <td>3650000</td>\n",
       "    </tr>\n",
       "    <tr>\n",
       "      <th>ellisaj01</th>\n",
       "      <td>A. J.</td>\n",
       "      <td>Ellis</td>\n",
       "      <td>ellisaj01</td>\n",
       "      <td>490000</td>\n",
       "    </tr>\n",
       "    <tr>\n",
       "      <th>griffaj01</th>\n",
       "      <td>A. J.</td>\n",
       "      <td>Griffin</td>\n",
       "      <td>griffaj01</td>\n",
       "      <td>492500</td>\n",
       "    </tr>\n",
       "    <tr>\n",
       "      <th>hinchaj01</th>\n",
       "      <td>A. J.</td>\n",
       "      <td>Hinch</td>\n",
       "      <td>hinchaj01</td>\n",
       "      <td>245000</td>\n",
       "    </tr>\n",
       "    <tr>\n",
       "      <th>pierzaj01</th>\n",
       "      <td>A. J.</td>\n",
       "      <td>Pierzynski</td>\n",
       "      <td>pierzaj01</td>\n",
       "      <td>4000000</td>\n",
       "    </tr>\n",
       "  </tbody>\n",
       "</table>\n",
       "</div>"
      ],
      "text/plain": [
       "          nameFirst    nameLast   playerID   salary\n",
       "burneaj01     A. J.     Burnett  burneaj01  3650000\n",
       "ellisaj01     A. J.       Ellis  ellisaj01   490000\n",
       "griffaj01     A. J.     Griffin  griffaj01   492500\n",
       "hinchaj01     A. J.       Hinch  hinchaj01   245000\n",
       "pierzaj01     A. J.  Pierzynski  pierzaj01  4000000"
      ]
     },
     "execution_count": 375,
     "metadata": {},
     "output_type": "execute_result"
    }
   ],
   "source": [
    "#lama = medianSalaries.join(players, how='inner', on='playerID')\n",
    "medianSalaries.playerID\n",
    "#salary_first_last = pd.merge(left = yearID_salary, right = first_last,left_index=True, right_index=True, how = \"inner\")\n",
    "medianSalaries.index = medianSalaries.playerID.values\n",
    "players.index = players.playerID.values\n",
    "medianSalaries.head()"
   ]
  },
  {
   "cell_type": "code",
   "execution_count": 376,
   "metadata": {
    "collapsed": false
   },
   "outputs": [],
   "source": [
    "first_last_salary_stats = pd.merge(left = medianSalaries, right = players,left_index=True, right_index=True, how = \"inner\")\n",
    "PREplayerstats = first_last_salary_stats[['nameFirst', 'nameLast', 'salary', 'yearID', 'AB', 'H', '2B', '3B', 'HR', 'BB']]\n",
    "PREplayerstats.is_copy = False\n",
    "PREplayerstats['PA'] = PREplayerstats[['AB', 'BB']].sum(axis=1);\n",
    "PREplayerstats = PREplayerstats[PREplayerstats['PA'] >= 500]\n",
    "PREplayerstats[['H','2B','3B', 'HR', 'BB']] = PREplayerstats[['H','2B','3B', 'HR', 'BB']].div(PREplayerstats.PA, axis=0)\n",
    "for name in ['H', '2B', '3B', 'HR', 'BB']:\n",
    "    PREplayerstats[name] = PREplayerstats[name] - PREplayerstats[name].mean()\n",
    "PREplayerstats['playerID'] = PREplayerstats.index.values\n",
    "playerstats = PREplayerstats[['playerID', 'yearID', 'H', '2B', '3B', 'HR', 'BB']]"
   ]
  },
  {
   "cell_type": "markdown",
   "metadata": {},
   "source": [
    "Show the head of the `playerstats` DataFrame. "
   ]
  },
  {
   "cell_type": "code",
   "execution_count": 377,
   "metadata": {
    "collapsed": false
   },
   "outputs": [
    {
     "data": {
      "text/plain": [
       "array([ 327.93806449,  139.99140095,  211.48533087,  810.43803653,\n",
       "        430.67239492])"
      ]
     },
     "execution_count": 377,
     "metadata": {},
     "output_type": "execute_result"
    }
   ],
   "source": [
    "playerstats.head()\n",
    "lm.coef_"
   ]
  },
  {
   "cell_type": "markdown",
   "metadata": {},
   "source": [
    "#### Problem 1(h)\n",
    "\n",
    "Using the `playerstats` DataFrame created in Problem 1(g), create a new DataFrame called `playerLS` containing the player's lifetime stats. This DataFrame should contain the playerID, the year the player's career started, the year the player's career ended and the player's lifetime average for each of the quantities (singles, doubles, triples, HR, BB). For simplicity we will simply compute the average of the rates by year (a more correct way is to go back to the totals). "
   ]
  },
  {
   "cell_type": "code",
   "execution_count": 378,
   "metadata": {
    "collapsed": false
   },
   "outputs": [],
   "source": [
    "careerAverage = playerstats.groupby('playerID')[['H', '2B', '3B', 'HR', 'BB']].mean()\n",
    "careerAverage.index.name = None"
   ]
  },
  {
   "cell_type": "code",
   "execution_count": 379,
   "metadata": {
    "collapsed": false
   },
   "outputs": [],
   "source": [
    "yearStart = playerstats[['playerID', 'yearID']].groupby('playerID').min()\n",
    "yearEnd = playerstats[['playerID', 'yearID']].groupby('playerID').max()\n",
    "yearStart.index.name = None\n",
    "yearEnd.index.name = None\n",
    "yearEnd.rename(columns={'yearID': 'Career Ended'}, inplace=True)\n",
    "yearStart.rename(columns={'yearID': 'Career Start'}, inplace=True)\n",
    "#yearEnd\n",
    "playerLS = pd.concat([careerAverage,yearStart, yearEnd], axis=1)\n",
    "playerLS['playerID'] = playerLS.index.values"
   ]
  },
  {
   "cell_type": "code",
   "execution_count": 380,
   "metadata": {
    "collapsed": false
   },
   "outputs": [
    {
     "data": {
      "text/html": [
       "<div>\n",
       "<table border=\"1\" class=\"dataframe\">\n",
       "  <thead>\n",
       "    <tr style=\"text-align: right;\">\n",
       "      <th></th>\n",
       "      <th>2B</th>\n",
       "      <th>3B</th>\n",
       "      <th>HR</th>\n",
       "      <th>BB</th>\n",
       "      <th>Career Start</th>\n",
       "      <th>Career Ended</th>\n",
       "      <th>playerID</th>\n",
       "      <th>Singles</th>\n",
       "    </tr>\n",
       "  </thead>\n",
       "  <tbody>\n",
       "    <tr>\n",
       "      <th>abreubo01</th>\n",
       "      <td>0.009827</td>\n",
       "      <td>0.000310</td>\n",
       "      <td>0.000366</td>\n",
       "      <td>0.052280</td>\n",
       "      <td>1998</td>\n",
       "      <td>2011</td>\n",
       "      <td>abreubo01</td>\n",
       "      <td>-0.013186</td>\n",
       "    </tr>\n",
       "    <tr>\n",
       "      <th>ackledu01</th>\n",
       "      <td>-0.015016</td>\n",
       "      <td>-0.002978</td>\n",
       "      <td>-0.012115</td>\n",
       "      <td>-0.006043</td>\n",
       "      <td>2012</td>\n",
       "      <td>2012</td>\n",
       "      <td>ackledu01</td>\n",
       "      <td>-0.017747</td>\n",
       "    </tr>\n",
       "    <tr>\n",
       "      <th>adamsru01</th>\n",
       "      <td>0.002799</td>\n",
       "      <td>0.003435</td>\n",
       "      <td>-0.015068</td>\n",
       "      <td>-0.000469</td>\n",
       "      <td>2005</td>\n",
       "      <td>2005</td>\n",
       "      <td>adamsru01</td>\n",
       "      <td>-0.013089</td>\n",
       "    </tr>\n",
       "    <tr>\n",
       "      <th>alfoned01</th>\n",
       "      <td>0.000917</td>\n",
       "      <td>-0.003924</td>\n",
       "      <td>-0.001861</td>\n",
       "      <td>0.014912</td>\n",
       "      <td>1997</td>\n",
       "      <td>2004</td>\n",
       "      <td>alfoned01</td>\n",
       "      <td>0.009197</td>\n",
       "    </tr>\n",
       "    <tr>\n",
       "      <th>alicelu01</th>\n",
       "      <td>-0.006312</td>\n",
       "      <td>0.007375</td>\n",
       "      <td>-0.020117</td>\n",
       "      <td>0.003866</td>\n",
       "      <td>2000</td>\n",
       "      <td>2000</td>\n",
       "      <td>alicelu01</td>\n",
       "      <td>0.030936</td>\n",
       "    </tr>\n",
       "  </tbody>\n",
       "</table>\n",
       "</div>"
      ],
      "text/plain": [
       "                 2B        3B        HR        BB  Career Start  Career Ended  \\\n",
       "abreubo01  0.009827  0.000310  0.000366  0.052280          1998          2011   \n",
       "ackledu01 -0.015016 -0.002978 -0.012115 -0.006043          2012          2012   \n",
       "adamsru01  0.002799  0.003435 -0.015068 -0.000469          2005          2005   \n",
       "alfoned01  0.000917 -0.003924 -0.001861  0.014912          1997          2004   \n",
       "alicelu01 -0.006312  0.007375 -0.020117  0.003866          2000          2000   \n",
       "\n",
       "            playerID   Singles  \n",
       "abreubo01  abreubo01 -0.013186  \n",
       "ackledu01  ackledu01 -0.017747  \n",
       "adamsru01  adamsru01 -0.013089  \n",
       "alfoned01  alfoned01  0.009197  \n",
       "alicelu01  alicelu01  0.030936  "
      ]
     },
     "execution_count": 380,
     "metadata": {},
     "output_type": "execute_result"
    }
   ],
   "source": [
    "playerLS['Singles'] = playerLS['H'] - playerLS['2B'] - playerLS['3B'] - playerLS['HR']\n",
    "try:\n",
    "    playerLS.drop('H', axis=1, inplace=True)\n",
    "except:\n",
    "    pass\n",
    "playerLS.head()"
   ]
  },
  {
   "cell_type": "code",
   "execution_count": 381,
   "metadata": {
    "collapsed": false
   },
   "outputs": [],
   "source": [
    "for hit_coef in hits_coefs:\n",
    "    playerLS[hit_coef[0] + ' OPW'] = playerLS[hit_coef[0]].apply(lambda x: x * hit_coef[1])\n",
    "playerLS['Total OPW'] = playerLS['Singles OPW'] + playerLS['2B OPW'] + playerLS['3B OPW'] + playerLS['HR OPW'] + playerLS['BB OPW']\n",
    "withOPW = pd.DataFrame(data = playerLS)"
   ]
  },
  {
   "cell_type": "code",
   "execution_count": 382,
   "metadata": {
    "collapsed": false
   },
   "outputs": [
    {
     "name": "stderr",
     "output_type": "stream",
     "text": [
      "/Users/mgalarny/anaconda/lib/python2.7/site-packages/ipykernel/__main__.py:1: FutureWarning: sort(columns=....) is deprecated, use sort_values(by=.....)\n",
      "  if __name__ == '__main__':\n"
     ]
    },
    {
     "data": {
      "text/html": [
       "<div>\n",
       "<table border=\"1\" class=\"dataframe\">\n",
       "  <thead>\n",
       "    <tr style=\"text-align: right;\">\n",
       "      <th></th>\n",
       "      <th>2B</th>\n",
       "      <th>3B</th>\n",
       "      <th>HR</th>\n",
       "      <th>BB</th>\n",
       "      <th>Career Start</th>\n",
       "      <th>Career Ended</th>\n",
       "      <th>playerID</th>\n",
       "      <th>Singles</th>\n",
       "      <th>Singles OPW</th>\n",
       "      <th>2B OPW</th>\n",
       "      <th>3B OPW</th>\n",
       "      <th>HR OPW</th>\n",
       "      <th>BB OPW</th>\n",
       "      <th>Total OPW</th>\n",
       "    </tr>\n",
       "  </thead>\n",
       "  <tbody>\n",
       "    <tr>\n",
       "      <th>bondsba01</th>\n",
       "      <td>0.001638</td>\n",
       "      <td>0.001055</td>\n",
       "      <td>0.031525</td>\n",
       "      <td>0.114718</td>\n",
       "      <td>1987</td>\n",
       "      <td>2004</td>\n",
       "      <td>bondsba01</td>\n",
       "      <td>-0.046029</td>\n",
       "      <td>-15.094564</td>\n",
       "      <td>0.229246</td>\n",
       "      <td>0.223114</td>\n",
       "      <td>25.549107</td>\n",
       "      <td>49.405785</td>\n",
       "      <td>60.312689</td>\n",
       "    </tr>\n",
       "    <tr>\n",
       "      <th>thomeji01</th>\n",
       "      <td>-0.003199</td>\n",
       "      <td>-0.003459</td>\n",
       "      <td>0.033697</td>\n",
       "      <td>0.085027</td>\n",
       "      <td>1995</td>\n",
       "      <td>2008</td>\n",
       "      <td>thomeji01</td>\n",
       "      <td>-0.047657</td>\n",
       "      <td>-15.628488</td>\n",
       "      <td>-0.447830</td>\n",
       "      <td>-0.731436</td>\n",
       "      <td>27.309377</td>\n",
       "      <td>36.618814</td>\n",
       "      <td>47.120437</td>\n",
       "    </tr>\n",
       "    <tr>\n",
       "      <th>mcgwima01</th>\n",
       "      <td>-0.013078</td>\n",
       "      <td>-0.004926</td>\n",
       "      <td>0.043437</td>\n",
       "      <td>0.076051</td>\n",
       "      <td>1987</td>\n",
       "      <td>1999</td>\n",
       "      <td>mcgwima01</td>\n",
       "      <td>-0.060963</td>\n",
       "      <td>-19.991931</td>\n",
       "      <td>-1.830840</td>\n",
       "      <td>-1.041717</td>\n",
       "      <td>35.202687</td>\n",
       "      <td>32.752860</td>\n",
       "      <td>45.091059</td>\n",
       "    </tr>\n",
       "    <tr>\n",
       "      <th>thomafr04</th>\n",
       "      <td>0.003237</td>\n",
       "      <td>-0.005107</td>\n",
       "      <td>0.023654</td>\n",
       "      <td>0.074402</td>\n",
       "      <td>1991</td>\n",
       "      <td>2007</td>\n",
       "      <td>thomafr04</td>\n",
       "      <td>-0.021745</td>\n",
       "      <td>-7.130976</td>\n",
       "      <td>0.453095</td>\n",
       "      <td>-1.080108</td>\n",
       "      <td>19.169930</td>\n",
       "      <td>32.042824</td>\n",
       "      <td>43.454765</td>\n",
       "    </tr>\n",
       "    <tr>\n",
       "      <th>ramirma02</th>\n",
       "      <td>0.009379</td>\n",
       "      <td>-0.003808</td>\n",
       "      <td>0.030310</td>\n",
       "      <td>0.044797</td>\n",
       "      <td>1995</td>\n",
       "      <td>2007</td>\n",
       "      <td>ramirma02</td>\n",
       "      <td>-0.016870</td>\n",
       "      <td>-5.532212</td>\n",
       "      <td>1.313044</td>\n",
       "      <td>-0.805242</td>\n",
       "      <td>24.564512</td>\n",
       "      <td>19.293039</td>\n",
       "      <td>38.833141</td>\n",
       "    </tr>\n",
       "  </tbody>\n",
       "</table>\n",
       "</div>"
      ],
      "text/plain": [
       "                 2B        3B        HR        BB  Career Start  Career Ended  \\\n",
       "bondsba01  0.001638  0.001055  0.031525  0.114718          1987          2004   \n",
       "thomeji01 -0.003199 -0.003459  0.033697  0.085027          1995          2008   \n",
       "mcgwima01 -0.013078 -0.004926  0.043437  0.076051          1987          1999   \n",
       "thomafr04  0.003237 -0.005107  0.023654  0.074402          1991          2007   \n",
       "ramirma02  0.009379 -0.003808  0.030310  0.044797          1995          2007   \n",
       "\n",
       "            playerID   Singles  Singles OPW    2B OPW    3B OPW     HR OPW  \\\n",
       "bondsba01  bondsba01 -0.046029   -15.094564  0.229246  0.223114  25.549107   \n",
       "thomeji01  thomeji01 -0.047657   -15.628488 -0.447830 -0.731436  27.309377   \n",
       "mcgwima01  mcgwima01 -0.060963   -19.991931 -1.830840 -1.041717  35.202687   \n",
       "thomafr04  thomafr04 -0.021745    -7.130976  0.453095 -1.080108  19.169930   \n",
       "ramirma02  ramirma02 -0.016870    -5.532212  1.313044 -0.805242  24.564512   \n",
       "\n",
       "              BB OPW  Total OPW  \n",
       "bondsba01  49.405785  60.312689  \n",
       "thomeji01  36.618814  47.120437  \n",
       "mcgwima01  32.752860  45.091059  \n",
       "thomafr04  32.042824  43.454765  \n",
       "ramirma02  19.293039  38.833141  "
      ]
     },
     "execution_count": 382,
     "metadata": {},
     "output_type": "execute_result"
    }
   ],
   "source": [
    "withOPW.sort(['Total OPW'], ascending=False).head()"
   ]
  },
  {
   "cell_type": "markdown",
   "metadata": {},
   "source": [
    "Show the head of the `playerLS` DataFrame. "
   ]
  },
  {
   "cell_type": "code",
   "execution_count": 383,
   "metadata": {
    "collapsed": false
   },
   "outputs": [
    {
     "name": "stderr",
     "output_type": "stream",
     "text": [
      "/Users/mgalarny/anaconda/lib/python2.7/site-packages/ipykernel/__main__.py:2: FutureWarning: sort(columns=....) is deprecated, use sort_values(by=.....)\n",
      "  from ipykernel import kernelapp as app\n"
     ]
    },
    {
     "data": {
      "text/html": [
       "<div>\n",
       "<table border=\"1\" class=\"dataframe\">\n",
       "  <thead>\n",
       "    <tr style=\"text-align: right;\">\n",
       "      <th></th>\n",
       "      <th>2B</th>\n",
       "      <th>3B</th>\n",
       "      <th>HR</th>\n",
       "      <th>BB</th>\n",
       "      <th>Career Start</th>\n",
       "      <th>Career Ended</th>\n",
       "      <th>playerID</th>\n",
       "      <th>Singles</th>\n",
       "      <th>Singles OPW</th>\n",
       "      <th>2B OPW</th>\n",
       "      <th>3B OPW</th>\n",
       "      <th>HR OPW</th>\n",
       "      <th>BB OPW</th>\n",
       "      <th>Total OPW</th>\n",
       "    </tr>\n",
       "  </thead>\n",
       "  <tbody>\n",
       "    <tr>\n",
       "      <th>bondsba01</th>\n",
       "      <td>0.001638</td>\n",
       "      <td>0.001055</td>\n",
       "      <td>0.031525</td>\n",
       "      <td>0.114718</td>\n",
       "      <td>1987</td>\n",
       "      <td>2004</td>\n",
       "      <td>bondsba01</td>\n",
       "      <td>-0.046029</td>\n",
       "      <td>-15.094564</td>\n",
       "      <td>0.229246</td>\n",
       "      <td>0.223114</td>\n",
       "      <td>25.549107</td>\n",
       "      <td>49.405785</td>\n",
       "      <td>60.312689</td>\n",
       "    </tr>\n",
       "    <tr>\n",
       "      <th>thomeji01</th>\n",
       "      <td>-0.003199</td>\n",
       "      <td>-0.003459</td>\n",
       "      <td>0.033697</td>\n",
       "      <td>0.085027</td>\n",
       "      <td>1995</td>\n",
       "      <td>2008</td>\n",
       "      <td>thomeji01</td>\n",
       "      <td>-0.047657</td>\n",
       "      <td>-15.628488</td>\n",
       "      <td>-0.447830</td>\n",
       "      <td>-0.731436</td>\n",
       "      <td>27.309377</td>\n",
       "      <td>36.618814</td>\n",
       "      <td>47.120437</td>\n",
       "    </tr>\n",
       "    <tr>\n",
       "      <th>mcgwima01</th>\n",
       "      <td>-0.013078</td>\n",
       "      <td>-0.004926</td>\n",
       "      <td>0.043437</td>\n",
       "      <td>0.076051</td>\n",
       "      <td>1987</td>\n",
       "      <td>1999</td>\n",
       "      <td>mcgwima01</td>\n",
       "      <td>-0.060963</td>\n",
       "      <td>-19.991931</td>\n",
       "      <td>-1.830840</td>\n",
       "      <td>-1.041717</td>\n",
       "      <td>35.202687</td>\n",
       "      <td>32.752860</td>\n",
       "      <td>45.091059</td>\n",
       "    </tr>\n",
       "    <tr>\n",
       "      <th>thomafr04</th>\n",
       "      <td>0.003237</td>\n",
       "      <td>-0.005107</td>\n",
       "      <td>0.023654</td>\n",
       "      <td>0.074402</td>\n",
       "      <td>1991</td>\n",
       "      <td>2007</td>\n",
       "      <td>thomafr04</td>\n",
       "      <td>-0.021745</td>\n",
       "      <td>-7.130976</td>\n",
       "      <td>0.453095</td>\n",
       "      <td>-1.080108</td>\n",
       "      <td>19.169930</td>\n",
       "      <td>32.042824</td>\n",
       "      <td>43.454765</td>\n",
       "    </tr>\n",
       "    <tr>\n",
       "      <th>ramirma02</th>\n",
       "      <td>0.009379</td>\n",
       "      <td>-0.003808</td>\n",
       "      <td>0.030310</td>\n",
       "      <td>0.044797</td>\n",
       "      <td>1995</td>\n",
       "      <td>2007</td>\n",
       "      <td>ramirma02</td>\n",
       "      <td>-0.016870</td>\n",
       "      <td>-5.532212</td>\n",
       "      <td>1.313044</td>\n",
       "      <td>-0.805242</td>\n",
       "      <td>24.564512</td>\n",
       "      <td>19.293039</td>\n",
       "      <td>38.833141</td>\n",
       "    </tr>\n",
       "  </tbody>\n",
       "</table>\n",
       "</div>"
      ],
      "text/plain": [
       "                 2B        3B        HR        BB  Career Start  Career Ended  \\\n",
       "bondsba01  0.001638  0.001055  0.031525  0.114718          1987          2004   \n",
       "thomeji01 -0.003199 -0.003459  0.033697  0.085027          1995          2008   \n",
       "mcgwima01 -0.013078 -0.004926  0.043437  0.076051          1987          1999   \n",
       "thomafr04  0.003237 -0.005107  0.023654  0.074402          1991          2007   \n",
       "ramirma02  0.009379 -0.003808  0.030310  0.044797          1995          2007   \n",
       "\n",
       "            playerID   Singles  Singles OPW    2B OPW    3B OPW     HR OPW  \\\n",
       "bondsba01  bondsba01 -0.046029   -15.094564  0.229246  0.223114  25.549107   \n",
       "thomeji01  thomeji01 -0.047657   -15.628488 -0.447830 -0.731436  27.309377   \n",
       "mcgwima01  mcgwima01 -0.060963   -19.991931 -1.830840 -1.041717  35.202687   \n",
       "thomafr04  thomafr04 -0.021745    -7.130976  0.453095 -1.080108  19.169930   \n",
       "ramirma02  ramirma02 -0.016870    -5.532212  1.313044 -0.805242  24.564512   \n",
       "\n",
       "              BB OPW  Total OPW  \n",
       "bondsba01  49.405785  60.312689  \n",
       "thomeji01  36.618814  47.120437  \n",
       "mcgwima01  32.752860  45.091059  \n",
       "thomafr04  32.042824  43.454765  \n",
       "ramirma02  19.293039  38.833141  "
      ]
     },
     "execution_count": 383,
     "metadata": {},
     "output_type": "execute_result"
    }
   ],
   "source": [
    "#playerLS.head()\n",
    "withOPW.sort(['Total OPW'], ascending=False).head()"
   ]
  },
  {
   "cell_type": "markdown",
   "metadata": {},
   "source": [
    "#### Problem 1(i)\n",
    "\n",
    "Compute the OPW for each player based on the average rates in the `playerLS` DataFrame. You can interpret this summary statistic as the predicted wins for a team with 9 batters exactly like the player in question. Add this column to the playerLS DataFrame. Call this colum OPW."
   ]
  },
  {
   "cell_type": "code",
   "execution_count": 384,
   "metadata": {
    "collapsed": false
   },
   "outputs": [
    {
     "data": {
      "text/plain": [
       "[<matplotlib.lines.Line2D at 0x11878e210>]"
      ]
     },
     "execution_count": 384,
     "metadata": {},
     "output_type": "execute_result"
    },
    {
     "data": {
      "image/png": "[encoded data removed]",
      "text/plain": [
       "<matplotlib.figure.Figure at 0x11dcf6290>"
      ]
     },
     "metadata": {},
     "output_type": "display_data"
    }
   ],
   "source": [
    "import matplotlib.pyplot as plt\n",
    "from sklearn.linear_model import LinearRegression\n",
    "from sklearn.cross_validation import train_test_split\n",
    "\n",
    "\n",
    "stats_Wins = yearTrends[yearTrends['yearID'] >= 2003]\n",
    "X = stats_Wins[['BB']]\n",
    "y = stats_Wins[['W']]\n",
    "X_train, X_test, y_train, y_test = train_test_split(X, y, test_size=0.20, random_state=42)\n",
    "lm = LinearRegression()\n",
    "lm.fit(X, y)\n",
    "lm.coef_\n",
    "plt.plot(X_train['BB'],y_train['W'], '.') \n",
    "\n",
    "\n",
    "plt.plot(X_test[['BB']],lm.predict(X_test[['BB']]), '-')\n",
    "#X_test['HR'].reshape(103,1), y_test.shape\n",
    "#lm.predict(X_test[['Singles', '2B', '3B', 'HR', 'BB']])\n",
    "#lm.coef_"
   ]
  },
  {
   "cell_type": "code",
   "execution_count": 385,
   "metadata": {
    "collapsed": true
   },
   "outputs": [],
   "source": [
    "import math\n",
    "from math import isnan\n",
    "\n",
    "def corr(list1, list2):\n",
    "    '''Find correlation between 2 datasets. Removes NaNs'''\n",
    "    #Remove Nan:\n",
    "    new_list1 = []\n",
    "    new_list2 = []\n",
    "    for i1,i2 in zip(list1,list2):\n",
    "        if (isnan(i1)==False) & (isnan(i2)==False):\n",
    "            new_list1.append(i1)\n",
    "            new_list2.append(i2)\n",
    "    cov = np.cov([new_list1,new_list2])[0][1]\n",
    "    std1 = np.std(new_list1)\n",
    "    std2 = np.std(new_list2)\n",
    "    corr = cov/(std1*std2)\n",
    "    return corr\n",
    "\n",
    "def conf38(pred, valid, sigma):\n",
    "    '''Check is predict is within 38% confidence interval of valid'''\n",
    "    cond1 = pred < (valid + (sigma/2))\n",
    "    cond2 = pred > (valid - (sigma/2)) \n",
    "    return np.logical_and(cond1,cond2)"
   ]
  },
  {
   "cell_type": "markdown",
   "metadata": {},
   "source": [
    "Check correlation of each feature against Wins"
   ]
  },
  {
   "cell_type": "code",
   "execution_count": 386,
   "metadata": {
    "collapsed": false
   },
   "outputs": [
    {
     "name": "stdout",
     "output_type": "stream",
     "text": [
      "Correlations against Wins\n"
     ]
    },
    {
     "ename": "NameError",
     "evalue": "name 'stats_header' is not defined",
     "output_type": "error",
     "traceback": [
      "\u001b[0;31m---------------------------------------------------------------------------\u001b[0m",
      "\u001b[0;31mNameError\u001b[0m                                 Traceback (most recent call last)",
      "\u001b[0;32m<ipython-input-386-fc451ccbc8ba>\u001b[0m in \u001b[0;36m<module>\u001b[0;34m()\u001b[0m\n\u001b[1;32m      1\u001b[0m \u001b[0ml1\u001b[0m \u001b[0;34m=\u001b[0m \u001b[0mstats\u001b[0m\u001b[0;34m[\u001b[0m\u001b[0;34m'W'\u001b[0m\u001b[0;34m]\u001b[0m\u001b[0;34m\u001b[0m\u001b[0m\n\u001b[1;32m      2\u001b[0m \u001b[0;32mprint\u001b[0m \u001b[0;34m'Correlations against Wins'\u001b[0m\u001b[0;34m\u001b[0m\u001b[0m\n\u001b[0;32m----> 3\u001b[0;31m \u001b[0;32mfor\u001b[0m \u001b[0mhead\u001b[0m \u001b[0;32min\u001b[0m \u001b[0mstats_header\u001b[0m\u001b[0;34m:\u001b[0m\u001b[0;34m\u001b[0m\u001b[0m\n\u001b[0m\u001b[1;32m      4\u001b[0m     \u001b[0ml2\u001b[0m \u001b[0;34m=\u001b[0m \u001b[0mstats\u001b[0m\u001b[0;34m[\u001b[0m\u001b[0mhead\u001b[0m\u001b[0;34m]\u001b[0m\u001b[0;34m\u001b[0m\u001b[0m\n\u001b[1;32m      5\u001b[0m     \u001b[0mcorrelation\u001b[0m \u001b[0;34m=\u001b[0m \u001b[0mcorr\u001b[0m\u001b[0;34m(\u001b[0m\u001b[0ml1\u001b[0m\u001b[0;34m,\u001b[0m\u001b[0ml2\u001b[0m\u001b[0;34m)\u001b[0m\u001b[0;34m\u001b[0m\u001b[0m\n",
      "\u001b[0;31mNameError\u001b[0m: name 'stats_header' is not defined"
     ]
    }
   ],
   "source": [
    "l1 = stats['W']\n",
    "print 'Correlations against Wins'\n",
    "for head in stats_header:\n",
    "    l2 = stats[head]\n",
    "    correlation = corr(l1,l2)\n",
    "    print head, correlation"
   ]
  },
  {
   "cell_type": "markdown",
   "metadata": {},
   "source": [
    "Based on this, we can create our model"
   ]
  },
  {
   "cell_type": "code",
   "execution_count": null,
   "metadata": {
    "collapsed": false
   },
   "outputs": [],
   "source": [
    "### Your code here ###\n",
    "\n",
    "from sklearn.metrics import classification_report\n",
    "\n",
    "#Model Features in decreasing order of correlation\n",
    "model_features = ['HR','BB','3B','2B','1B']\n",
    "\n",
    "#Filter\n",
    "train = stats[stats['yearID']<2002]\n",
    "valid = stats[stats['yearID']>=2002]\n",
    "\n",
    "for index in range(5):\n",
    "    #Model Features\n",
    "    features = model_features[:index+1]\n",
    "    \n",
    "    #Targets\n",
    "    train_data = train.ix[:,3:index+4]\n",
    "    valid_data = valid.ix[:,3:index+4]\n",
    "\n",
    "    #Label\n",
    "    train_label = train['W']\n",
    "    valid_label = valid['W']\n",
    "\n",
    "    #Classifier\n",
    "    classifier = sklearn.linear_model.LinearRegression()\n",
    "    classifier.fit(train_data, train_label)\n",
    "    param = classifier.coef_\n",
    "\n",
    "    #Get Predictions\n",
    "    predict = classifier.predict(valid_data)\n",
    "    predict = [roundup(i) for i in predict]\n",
    "    \n",
    "    #Score\n",
    "    sigma = np.std(train_label)\n",
    "    rss = np.sum([(i-j)**2 for i,j in zip(predict,valid_label)])/len(predict)\n",
    "    \n",
    "    #Get equation:\n",
    "    eqn = ''\n",
    "    for i,j in zip(param, features):\n",
    "        eqn += '%.2f'%i+'*'+j+' + '\n",
    "    eqn = eqn[0:-3]\n",
    "\n",
    "    print 'Model Features:\\t',features\n",
    "    print 'Eqn:\\t', eqn\n",
    "    print 'RSS:\\t', rss\n",
    "    print '\\n'"
   ]
  },
  {
   "cell_type": "markdown",
   "metadata": {},
   "source": [
    "#### Problem 1(j)\n",
    "\n",
    "Add four columns to the `playerLS` DataFrame that contains the player's position (C, 1B, 2B, 3B, SS, LF, CF, RF, or OF), first name, last name and median salary. "
   ]
  },
  {
   "cell_type": "code",
   "execution_count": null,
   "metadata": {
    "collapsed": false
   },
   "outputs": [],
   "source": [
    "### Your code here ###"
   ]
  },
  {
   "cell_type": "markdown",
   "metadata": {},
   "source": [
    "Show the head of the `playerLS` DataFrame. "
   ]
  },
  {
   "cell_type": "code",
   "execution_count": null,
   "metadata": {
    "collapsed": false
   },
   "outputs": [],
   "source": [
    "### Your code here ###"
   ]
  },
  {
   "cell_type": "markdown",
   "metadata": {},
   "source": [
    "#### Problem 1(k)\n",
    "\n",
    "Subset the `playerLS` DataFrame for players active in 2002 and 2003 and played at least three years. Plot and describe the relationship bewteen the median salary (in millions) and the predicted number of wins. "
   ]
  },
  {
   "cell_type": "code",
   "execution_count": null,
   "metadata": {
    "collapsed": false
   },
   "outputs": [],
   "source": [
    "### Your code here ###"
   ]
  },
  {
   "cell_type": "markdown",
   "metadata": {},
   "source": [
    "#### Problem 1(l)\n",
    "Pick one players from one of each of these 10 position C, 1B, 2B, 3B, SS, LF, CF, RF, DH, or OF keeping the total median salary of all 10 players below 20 million. Report their averaged predicted wins and total salary."
   ]
  },
  {
   "cell_type": "code",
   "execution_count": null,
   "metadata": {
    "collapsed": false
   },
   "outputs": [],
   "source": [
    "### Your code here ###"
   ]
  },
  {
   "cell_type": "markdown",
   "metadata": {},
   "source": [
    "#### Problem 1(m)\n",
    "What do these players outperform in? Singles, doubles, triples HR or BB?"
   ]
  },
  {
   "cell_type": "code",
   "execution_count": null,
   "metadata": {
    "collapsed": false
   },
   "outputs": [],
   "source": [
    "### Your code here ###"
   ]
  },
  {
   "cell_type": "markdown",
   "metadata": {},
   "source": [
    "** Your answer here: **"
   ]
  },
  {
   "cell_type": "markdown",
   "metadata": {},
   "source": [
    "### "
   ]
  },
  {
   "cell_type": "markdown",
   "metadata": {},
   "source": [
    "### Use one of the classification methods to predict wheather a player will be an Allstar?"
   ]
  },
  {
   "cell_type": "code",
   "execution_count": null,
   "metadata": {
    "collapsed": false
   },
   "outputs": [],
   "source": [
    "### Your code here ###"
   ]
  },
  {
   "cell_type": "markdown",
   "metadata": {},
   "source": [
    "## Discussion for Problem 1\n",
    "\n",
    "*Write a brief discussion of your conclusions to the questions and tasks above in 100 words or less.*\n",
    "\n",
    "---"
   ]
  },
  {
   "cell_type": "markdown",
   "metadata": {},
   "source": [
    "# Problem 2:  $k$-Nearest Neighbors and Cross Validation \n",
    "\n",
    "What is the optimal $k$ for predicting species using $k$-nearest neighbor classification \n",
    "on the four features provided by the iris dataset.\n",
    "\n",
    "In this problem you will get to know the famous iris data set, and use cross validation to select the optimal $k$ for a $k$-nearest neighbor classification. This problem set makes heavy use of the [sklearn](http://scikit-learn.org/stable/) library. In addition to Pandas, it is one of the most useful libraries for data scientists. \n",
    "For the Iris data set  sklearn provides an extra function to load it - since it is one of the very commonly used data sets."
   ]
  },
  {
   "cell_type": "code",
   "execution_count": null,
   "metadata": {
    "collapsed": false
   },
   "outputs": [],
   "source": [
    "from sklearn.datasets import load_iris\n",
    "iris = load_iris()"
   ]
  },
  {
   "cell_type": "markdown",
   "metadata": {},
   "source": [
    "#### Problem 2(a) \n",
    "Split the data into a train and a test set. Use a random selection of 33% of the samples as test data. Sklearn provides the [`train_test_split`](http://scikit-learn.org/stable/modules/generated/sklearn.cross_validation.train_test_split.html) function for this purpose. Print the dimensions of all the train and test data sets you have created. "
   ]
  },
  {
   "cell_type": "code",
   "execution_count": null,
   "metadata": {
    "collapsed": false
   },
   "outputs": [],
   "source": [
    "from sklearn.cross_validation import train_test_split\n",
    "\n",
    "#Load data and target\n",
    "X = iris.data\n",
    "y = iris.target\n",
    "\n",
    "#Split\n",
    "X_train, X_test, y_train, y_test = train_test_split(X, y, test_size=0.33, random_state=None)"
   ]
  },
  {
   "cell_type": "markdown",
   "metadata": {},
   "source": [
    "#### Problem 2(b) \n",
    "\n",
    " Use ***ten fold cross validation*** to estimate the optimal value for $k$ for the iris data set. \n",
    "\n",
    "**Note**: For your convenience sklearn does not only include the [KNN classifier](http://scikit-learn.org/stable/modules/generated/sklearn.neighbors.KNeighborsClassifier.html), but also a [grid search function](http://scikit-learn.org/stable/modules/generated/sklearn.grid_search.GridSearchCV.html#sklearn.grid_search.GridSearchCV). The function is called grid search, because if you have to optimize more than one parameter, it is common practice to define a range of possible values for each parameter. An exhaustive search then runs over the complete grid defined by all the possible parameter combinations. This can get very computation heavy, but luckily our KNN classifier only requires tuning of a single parameter for this problem set. "
   ]
  },
  {
   "cell_type": "code",
   "execution_count": null,
   "metadata": {
    "collapsed": false
   },
   "outputs": [],
   "source": [
    "knn = sklearn.neighbors.KNeighborsClassifier()\n",
    "grid_search = sklearn.grid_search.GridSearchCV(knn, {'n_neighbors':list(range(1,20))}, cv=10)\n",
    "grid_search.fit(X_train, y_train)\n",
    "k = grid_search.best_params_['n_neighbors']\n",
    "print 'k =',grid_search.best_params_['n_neighbors']"
   ]
  },
  {
   "cell_type": "markdown",
   "metadata": {},
   "source": [
    "#### Problem 2(c)\n",
    "\n",
    "Visualize the result by plotting the score results versus values for $k$. "
   ]
  },
  {
   "cell_type": "code",
   "execution_count": null,
   "metadata": {
    "collapsed": false
   },
   "outputs": [],
   "source": [
    "scores = []\n",
    "\n",
    "for i in range(1,20):\n",
    "    clf = sklearn.neighbors.KNeighborsClassifier(n_neighbors=i)\n",
    "    score = np.mean(sklearn.cross_validation.cross_val_score(clf, X_train, y_train, cv=10))\n",
    "    scores.append(score)\n",
    "\n",
    "plt.plot(list(range(1,20)), scores)\n",
    "plt.xlabel('K')\n",
    "plt.ylabel('Score')\n",
    "plt.title('KNN Accuracy')"
   ]
  },
  {
   "cell_type": "markdown",
   "metadata": {},
   "source": [
    "Verify that the grid search has indeed chosen the right parameter value for $k$."
   ]
  },
  {
   "cell_type": "code",
   "execution_count": null,
   "metadata": {
    "collapsed": false
   },
   "outputs": [],
   "source": [
    "### Your code here ###\n",
    "print 'Based on the plot, grid search produced the optimal k value.'"
   ]
  },
  {
   "cell_type": "markdown",
   "metadata": {},
   "source": [
    "#### Problem 2(d)\n",
    "\n",
    "Test the performance of our tuned KNN classifier on the test set."
   ]
  },
  {
   "cell_type": "code",
   "execution_count": null,
   "metadata": {
    "collapsed": false
   },
   "outputs": [],
   "source": [
    "### Your code here ###\n",
    "\n",
    "#Take the average score of 10 runs\n",
    "scores = []\n",
    "for i in range(10):\n",
    "    clf = sklearn.neighbors.KNeighborsClassifier(n_neighbors=k)\n",
    "    clf.fit(X_train, y_train)\n",
    "    pred = clf.predict(X_test)\n",
    "    score = float(np.sum([i==j for i,j in zip(pred, y_test)]))/len(pred)\n",
    "    scores.append(score)\n",
    "    \n",
    "print 'Score:\\t',np.mean(scores)*100,'%'"
   ]
  },
  {
   "cell_type": "markdown",
   "metadata": {},
   "source": [
    "## Discussion for Problem 2\n",
    "\n",
    "*Write a brief discussion of your conclusions to the questions and tasks above in 100 words or less.*\n",
    "\n",
    "---"
   ]
  },
  {
   "cell_type": "markdown",
   "metadata": {},
   "source": [
    "## Problem 3: Supervised Learning - Estimating Automobile Pricing using Linear Regression and Regression Trees"
   ]
  },
  {
   "cell_type": "markdown",
   "metadata": {},
   "source": [
    "Download the UCI ML automobile dataset. (https://archive.ics.uci.edu/ml/datasets/Automobile)"
   ]
  },
  {
   "cell_type": "code",
   "execution_count": null,
   "metadata": {
    "collapsed": false
   },
   "outputs": [],
   "source": [
    "header = ['symboling','normalized-losses','make','fuel-type','aspiration',\n",
    "          'num-of-doors', 'body-style','drive-wheels','engine-location',\n",
    "          'wheel-base','length','width','height','curb-weight','engine-type',\n",
    "          'num-of-cylinders','engine-size','fuel-system','bore','stroke',\n",
    "          'compression-ratio','horsepower','peak-rpm','city-mpg','highway-mpg',\n",
    "          'price']\n",
    "\n",
    "auto = pd.read_csv('https://archive.ics.uci.edu/ml/machine-learning-databases/autos/imports-85.data', names=header)\n",
    "auto.head()"
   ]
  },
  {
   "cell_type": "markdown",
   "metadata": {},
   "source": [
    "Get UCI ML automobile dataset and Information about the Data"
   ]
  },
  {
   "cell_type": "markdown",
   "metadata": {},
   "source": [
    "#### Find the most important features"
   ]
  },
  {
   "cell_type": "code",
   "execution_count": null,
   "metadata": {
    "collapsed": false
   },
   "outputs": [],
   "source": [
    "### Your code here ###\n",
    "\n",
    "#Replace '?' with NaN\n",
    "auto = auto.replace(to_replace='?', value=np.nan)\n",
    "\n",
    "#Convert relevant numeric data from object to float\n",
    "change_num = ['bore','stroke','horsepower','peak-rpm','price']\n",
    "auto[change_num]=auto[change_num].astype(float, inplace=True)\n",
    "\n",
    "#Select columns with numbers\n",
    "num_auto = auto._get_numeric_data()\n",
    "num_auto.head()"
   ]
  },
  {
   "cell_type": "code",
   "execution_count": null,
   "metadata": {
    "collapsed": false
   },
   "outputs": [],
   "source": [
    "#Taking features that has an abolute correlation of 0.5+ against price\n",
    "feature_list = num_auto.columns[0:-1]\n",
    "l1 = num_auto['price']\n",
    "\n",
    "for feature in feature_list:\n",
    "    l2 = num_auto[feature]\n",
    "    c = corr(l1,l2)\n",
    "    if c**2 > 0.5:\n",
    "        print feature,':\\t\\t','%.2f'%c"
   ]
  },
  {
   "cell_type": "markdown",
   "metadata": {},
   "source": [
    "#### Using 10-fold cross validation separate the test and training data sets"
   ]
  },
  {
   "cell_type": "code",
   "execution_count": null,
   "metadata": {
    "collapsed": false
   },
   "outputs": [],
   "source": [
    "#Picking important features\n",
    "new_auto = auto[['width', 'curb-weight', 'engine-size', 'horsepower', 'highway-mpg','price']].dropna()\n",
    "X = new_auto[['width', 'curb-weight', 'engine-size', 'horsepower', 'highway-mpg']]\n",
    "y = new_auto['price']\n",
    "\n",
    "k_fold = sklearn.cross_validation.KFold(len(X), 10)"
   ]
  },
  {
   "cell_type": "markdown",
   "metadata": {
    "collapsed": false
   },
   "source": [
    "Normalize the data"
   ]
  },
  {
   "cell_type": "code",
   "execution_count": null,
   "metadata": {
    "collapsed": false
   },
   "outputs": [],
   "source": [
    "X = (X - X.mean()) / (X.max() - X.min())\n",
    "X.head()"
   ]
  },
  {
   "cell_type": "markdown",
   "metadata": {},
   "source": [
    "### Start with a linear model and evaluate how well it can predict the price variable"
   ]
  },
  {
   "cell_type": "code",
   "execution_count": null,
   "metadata": {
    "collapsed": false
   },
   "outputs": [],
   "source": [
    "scores = [] \n",
    "\n",
    "for train_index, test_index in k_fold:\n",
    "    X_train, X_test = X.values[train_index], X.values[test_index]\n",
    "    y_train, y_test = y.values[train_index], y.values[test_index]\n",
    "    lm = sklearn.linear_model.LinearRegression()\n",
    "    lm.fit(X_train, y_train)\n",
    "    score = lm.score(X_test, y_test)\n",
    "    scores.append(score)\n",
    "    \n",
    "print 'Score:\\t', '%.2f'%(np.mean(scores)*100),'%'"
   ]
  },
  {
   "cell_type": "markdown",
   "metadata": {},
   "source": [
    "### Try using Ridge regression and evaluate the result of the 10-fold cross-validation"
   ]
  },
  {
   "cell_type": "code",
   "execution_count": null,
   "metadata": {
    "collapsed": false
   },
   "outputs": [],
   "source": [
    "scores = [] \n",
    "\n",
    "for train_index, test_index in k_fold:\n",
    "    X_train, X_test = X.values[train_index], X.values[test_index]\n",
    "    y_train, y_test = y.values[train_index], y.values[test_index]\n",
    "    rm = sklearn.linear_model.Ridge()\n",
    "    rm.fit(X_train, y_train)\n",
    "    score = rm.score(X_test, y_test)\n",
    "    scores.append(score)\n",
    "    \n",
    "print 'Score:\\t', '%.2f'%(np.mean(scores)*100),'%'"
   ]
  },
  {
   "cell_type": "markdown",
   "metadata": {},
   "source": [
    "### Train the Regression Tree and evaluate using 10-fold cross validation; Specify the parameters used and how you changed them to increase the accuracy;  "
   ]
  },
  {
   "cell_type": "code",
   "execution_count": null,
   "metadata": {
    "collapsed": false
   },
   "outputs": [],
   "source": [
    "sklearn.__path__"
   ]
  },
  {
   "cell_type": "code",
   "execution_count": null,
   "metadata": {
    "collapsed": false
   },
   "outputs": [],
   "source": [
    "import sklearn\n",
    "\n",
    "dtr = sklearn.tree.DecisionTreeRegressor()\n",
    "grid_search = sklearn.grid_search.GridSearchCV(dtr, \n",
    "                                               {'min_samples_split':list(range(1,10)), \n",
    "                                                'min_samples_leaf':list(range(1,10)), \n",
    "                                                'min_weight_fraction_leaf':np.linspace(0,0.5,10)}, \n",
    "                                               cv=10)\n",
    "grid_search.fit(X_train, y_train)\n",
    "print 'Best Parameters:'\n",
    "grid_search.best_params_"
   ]
  },
  {
   "cell_type": "markdown",
   "metadata": {},
   "source": [
    "### Discussion for Problem 3  Write a brief discussion of your conclusions to the questions and tasks above in 100 words or less.Compare all three aproaches and discuss your findings in 100 words or less"
   ]
  }
 ],
 "metadata": {
  "kernelspec": {
   "display_name": "Python 2",
   "language": "python",
   "name": "python2"
  },
  "language_info": {
   "codemirror_mode": {
    "name": "ipython",
    "version": 2
   },
   "file_extension": ".py",
   "mimetype": "text/x-python",
   "name": "python",
   "nbconvert_exporter": "python",
   "pygments_lexer": "ipython2",
   "version": "2.7.11"
  }
 },
 "nbformat": 4,
 "nbformat_minor": 0
}
