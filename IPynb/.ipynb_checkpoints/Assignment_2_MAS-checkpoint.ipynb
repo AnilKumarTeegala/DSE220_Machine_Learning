{
 "cells": [
  {
   "cell_type": "markdown",
   "metadata": {},
   "source": [
    "Assignnement 2: Prediction and Classification\n",
    "\n",
    "Due: Thursday, April 30, 2015 11:59 PM\n",
    "# lAMA"
   ]
  },
  {
   "cell_type": "markdown",
   "metadata": {},
   "source": [
    "# Introduction\n",
    "Problem 1 is optional - for extra credit!\n",
    "Problems 2 and 3 will be graded for the Lab 2.  \n",
    "\n",
    "\n",
    "In this assignment you will be using regression and classification to explore different data sets.  \n",
    "\n",
    "**First**: You will use data from before 2002 in the [Sean Lahman's Baseball Database](http://seanlahman.com/baseball-archive/statistics) to create a metric for picking baseball players using linear regression.  This database contains the \"complete batting and pitching statistics from 1871 to 2013, plus fielding statistics, standings, team stats, managerial records, post-season data, and more\". [Documentation provided here](http://seanlahman.com/files/database/readme2012.txt).\n",
    "\n",
    "![\"Sabermetrics Science\"](http://saberseminar.com/wp-content/uploads/2012/01/saber-web.jpg)\n",
    "http://saberseminar.com/wp-content/uploads/2012/01/saber-web.jpg\n",
    "\n",
    "**Second**: You will use the famous [iris](http://en.wikipedia.org/wiki/Iris_flower_data_set) data set to perform a $k$-neareast neighbor classification using cross validation.  While it was introduced in 1936, it is still [one of the most popular](http://archive.ics.uci.edu/ml/) example data sets in the machine learning community. Wikipedia describes the data set as follows: \"The data set consists of 50 samples from each of three species of Iris (Iris setosa, Iris virginica and Iris versicolor). Four features were measured from each sample: the length and the width of the sepals and petals, in centimetres.\" Here is an illustration what the four features measure:\n",
    "\n",
    "![\"iris data features\"](http://sebastianraschka.com/Images/2014_python_lda/iris_petal_sepal.png)\n",
    "http://sebastianraschka.com/Images/2014_python_lda/iris_petal_sepal.png\n",
    "\n",
    "**Third**: You will investigate the influence of higher dimensional spaces on the classification using another standard data set in machine learning called the The [digits data set](http://scikit-learn.org/stable/modules/generated/sklearn.datasets.load_digits.html).   Each digit is represented by an 8x8 pixel image patch. In addition, the gray values are restricted to 16 different values (4 bit). \n",
    "\n"
   ]
  },
  {
   "cell_type": "markdown",
   "metadata": {},
   "source": [
    "## Load Python modules"
   ]
  },
  {
   "cell_type": "code",
   "execution_count": 385,
   "metadata": {
    "collapsed": false
   },
   "outputs": [],
   "source": [
    "# prepare the notebook for matplotlib\n",
    "%matplotlib inline \n",
    "\n",
    "import requests \n",
    "import StringIO\n",
    "import zipfile\n",
    "import numpy as np\n",
    "import pandas as pd # pandas\n",
    "import matplotlib.pyplot as plt # module for plotting \n",
    "\n",
    "# If this module is not already installed, you may need to install it. \n",
    "# You can do this by typing 'pip install seaborn' in the command line\n",
    "import seaborn as sns \n",
    "\n",
    "import sklearn\n",
    "import sklearn.datasets\n",
    "import sklearn.cross_validation\n",
    "import sklearn.decomposition\n",
    "import sklearn.grid_search\n",
    "import sklearn.neighbors\n",
    "import sklearn.metrics"
   ]
  },
  {
   "cell_type": "markdown",
   "metadata": {},
   "source": [
    "# Problem 1: Sabermetrics\n",
    "\n",
    "Using data preceding the 2002 season pick 10 offensive players keeping the payroll under $20 million (assign each player the median salary). Predict how many games this team would win in a 162 game season.  \n",
    "\n",
    "In this problem we will be returning to the [Sean Lahman's Baseball Database](http://seanlahman.com/baseball-archive/statistics).  From this database, we will be extract five data sets containing information such as yearly stats and standing, batting statistics, fielding statistics, player names, player salaries and biographical information. You will explore the data in this database from before 2002 and create a metric for picking players. "
   ]
  },
  {
   "cell_type": "markdown",
   "metadata": {},
   "source": [
    "#### Problem 1(a) \n",
    "\n",
    "Load in [these CSV files](http://seanlahman.com/files/database/lahman-csv_2014-02-14.zip) from the [Sean Lahman's Baseball Database](http://seanlahman.com/baseball-archive/statistics). For this assignment, we will use the 'Teams.csv', 'Batting.csv', 'Salaries.csv', 'Fielding.csv', 'Master.csv' tables. Read these tables into separate pandas DataFrames with the following names. \n",
    "\n",
    "CSV file name | Name of pandas DataFrame\n",
    ":---: | :---: \n",
    "Teams.csv | teams\n",
    "Batting.csv | players\n",
    "Salaries.csv | salaries\n",
    "Fielding.csv | fielding\n",
    "Master.csv | master"
   ]
  },
  {
   "cell_type": "code",
   "execution_count": 386,
   "metadata": {
    "collapsed": false
   },
   "outputs": [],
   "source": [
    "### Your code here ###\n",
    "teams = pd.read_csv('data/baseball_data/teams.csv')\n",
    "players = pd.read_csv('data/baseball_data/Batting.csv')\n",
    "salaries = pd.read_csv('data/baseball_data/Salaries.csv')\n",
    "fielding = pd.read_csv('data/baseball_data/Fielding.csv')\n",
    "master = pd.read_csv('data/baseball_data/Master.csv', index_col=0)\n",
    "master.index.name = None"
   ]
  },
  {
   "cell_type": "markdown",
   "metadata": {},
   "source": [
    "#### Problem 1(b)\n",
    "\n",
    "Calculate the median salary for each player and create a pandas DataFrame called `medianSalaries` with four columns: (1) the player ID, (2) the first name of the player, (3) the last name of the player and (4) the median salary of the player. Show the head of the `medianSalaries` DataFrame.   "
   ]
  },
  {
   "cell_type": "code",
   "execution_count": 387,
   "metadata": {
    "collapsed": false
   },
   "outputs": [],
   "source": [
    "first_last = master[['nameFirst', 'nameLast']]\n",
    "#yearID_salary = salaries[['yearID', 'salary', 'playerID']]\n",
    "yearID_salary = salaries[['salary', 'playerID']]"
   ]
  },
  {
   "cell_type": "code",
   "execution_count": 388,
   "metadata": {
    "collapsed": false
   },
   "outputs": [
    {
     "data": {
      "text/html": [
       "<div>\n",
       "<table border=\"1\" class=\"dataframe\">\n",
       "  <thead>\n",
       "    <tr style=\"text-align: right;\">\n",
       "      <th></th>\n",
       "      <th>salary</th>\n",
       "      <th>playerID</th>\n",
       "    </tr>\n",
       "  </thead>\n",
       "  <tbody>\n",
       "    <tr>\n",
       "      <th>murraed02</th>\n",
       "      <td>1472819</td>\n",
       "      <td>murraed02</td>\n",
       "    </tr>\n",
       "    <tr>\n",
       "      <th>lynnfr01</th>\n",
       "      <td>1090000</td>\n",
       "      <td>lynnfr01</td>\n",
       "    </tr>\n",
       "    <tr>\n",
       "      <th>ripkeca01</th>\n",
       "      <td>800000</td>\n",
       "      <td>ripkeca01</td>\n",
       "    </tr>\n",
       "    <tr>\n",
       "      <th>lacyle01</th>\n",
       "      <td>725000</td>\n",
       "      <td>lacyle01</td>\n",
       "    </tr>\n",
       "    <tr>\n",
       "      <th>flanami01</th>\n",
       "      <td>641667</td>\n",
       "      <td>flanami01</td>\n",
       "    </tr>\n",
       "  </tbody>\n",
       "</table>\n",
       "</div>"
      ],
      "text/plain": [
       "            salary   playerID\n",
       "murraed02  1472819  murraed02\n",
       "lynnfr01   1090000   lynnfr01\n",
       "ripkeca01   800000  ripkeca01\n",
       "lacyle01    725000   lacyle01\n",
       "flanami01   641667  flanami01"
      ]
     },
     "execution_count": 388,
     "metadata": {},
     "output_type": "execute_result"
    }
   ],
   "source": [
    "yearID_salary.index = yearID_salary['playerID'].values\n",
    "#yearID_salary.drop('playerID', axis=1, inplace=True)\n",
    "yearID_salary.head()"
   ]
  },
  {
   "cell_type": "code",
   "execution_count": 389,
   "metadata": {
    "collapsed": false
   },
   "outputs": [],
   "source": [
    "salary_first_last = pd.merge(left = yearID_salary, right = first_last,left_index=True, right_index=True, how = \"inner\")"
   ]
  },
  {
   "cell_type": "code",
   "execution_count": 419,
   "metadata": {
    "collapsed": false
   },
   "outputs": [
    {
     "data": {
      "text/html": [
       "<div>\n",
       "<table border=\"1\" class=\"dataframe\">\n",
       "  <thead>\n",
       "    <tr style=\"text-align: right;\">\n",
       "      <th></th>\n",
       "      <th>nameFirst</th>\n",
       "      <th>nameLast</th>\n",
       "      <th>playerID</th>\n",
       "      <th>salary</th>\n",
       "    </tr>\n",
       "  </thead>\n",
       "  <tbody>\n",
       "    <tr>\n",
       "      <th>0</th>\n",
       "      <td>A. J.</td>\n",
       "      <td>Burnett</td>\n",
       "      <td>burneaj01</td>\n",
       "      <td>3650000</td>\n",
       "    </tr>\n",
       "    <tr>\n",
       "      <th>1</th>\n",
       "      <td>A. J.</td>\n",
       "      <td>Ellis</td>\n",
       "      <td>ellisaj01</td>\n",
       "      <td>490000</td>\n",
       "    </tr>\n",
       "    <tr>\n",
       "      <th>2</th>\n",
       "      <td>A. J.</td>\n",
       "      <td>Griffin</td>\n",
       "      <td>griffaj01</td>\n",
       "      <td>492500</td>\n",
       "    </tr>\n",
       "    <tr>\n",
       "      <th>3</th>\n",
       "      <td>A. J.</td>\n",
       "      <td>Hinch</td>\n",
       "      <td>hinchaj01</td>\n",
       "      <td>245000</td>\n",
       "    </tr>\n",
       "    <tr>\n",
       "      <th>4</th>\n",
       "      <td>A. J.</td>\n",
       "      <td>Pierzynski</td>\n",
       "      <td>pierzaj01</td>\n",
       "      <td>4000000</td>\n",
       "    </tr>\n",
       "  </tbody>\n",
       "</table>\n",
       "</div>"
      ],
      "text/plain": [
       "  nameFirst    nameLast   playerID   salary\n",
       "0     A. J.     Burnett  burneaj01  3650000\n",
       "1     A. J.       Ellis  ellisaj01   490000\n",
       "2     A. J.     Griffin  griffaj01   492500\n",
       "3     A. J.       Hinch  hinchaj01   245000\n",
       "4     A. J.  Pierzynski  pierzaj01  4000000"
      ]
     },
     "execution_count": 419,
     "metadata": {},
     "output_type": "execute_result"
    }
   ],
   "source": [
    "medianSalaries = salary_first_last.groupby(['nameFirst', 'nameLast', 'playerID'])['salary'].median().reset_index()\n",
    "medianSalaries.head()"
   ]
  },
  {
   "cell_type": "markdown",
   "metadata": {},
   "source": [
    "#### Problem 1(c)\n",
    "\n",
    "Now, consider only team/season combinations in which the teams played 162 Games. Exclude all data from before 1947. Compute the per plate appearance rates for singles, doubles, triples, HR, and BB. Create a new pandas DataFrame called `stats` that has the teamID, yearID, wins and these rates.\n",
    "\n",
    "**Hint**: Singles are hits that are not doubles, triples, nor HR. Plate appearances are base on balls plus at bats."
   ]
  },
  {
   "cell_type": "markdown",
   "metadata": {},
   "source": [
    "1(c) Filter the teams data frame so that you only have records for when year > 1947 and number of games > 162.  Plate appearances = BB + AB = Walks (base on balls) + At Bats.  Singles = Hits – (Doubles + Triple+ HomeRun).  Compute “per plate appearance rates for singles” = Singles/Plate Appearances."
   ]
  },
  {
   "cell_type": "markdown",
   "metadata": {},
   "source": [
    "PA = AB + BB"
   ]
  },
  {
   "cell_type": "code",
   "execution_count": 434,
   "metadata": {
    "collapsed": false
   },
   "outputs": [],
   "source": [
    "year_condition = teams['yearID'] >= 1947\n",
    "games_condition = teams['G'] >= 162"
   ]
  },
  {
   "cell_type": "code",
   "execution_count": 437,
   "metadata": {
    "collapsed": false
   },
   "outputs": [
    {
     "data": {
      "text/html": [
       "<div>\n",
       "<table border=\"1\" class=\"dataframe\">\n",
       "  <thead>\n",
       "    <tr style=\"text-align: right;\">\n",
       "      <th></th>\n",
       "      <th>yearID</th>\n",
       "      <th>lgID</th>\n",
       "      <th>teamID</th>\n",
       "      <th>franchID</th>\n",
       "      <th>divID</th>\n",
       "      <th>Rank</th>\n",
       "      <th>G</th>\n",
       "      <th>Ghome</th>\n",
       "      <th>W</th>\n",
       "      <th>L</th>\n",
       "      <th>...</th>\n",
       "      <th>DP</th>\n",
       "      <th>FP</th>\n",
       "      <th>name</th>\n",
       "      <th>park</th>\n",
       "      <th>attendance</th>\n",
       "      <th>BPF</th>\n",
       "      <th>PPF</th>\n",
       "      <th>teamIDBR</th>\n",
       "      <th>teamIDlahman45</th>\n",
       "      <th>teamIDretro</th>\n",
       "    </tr>\n",
       "  </thead>\n",
       "  <tbody>\n",
       "    <tr>\n",
       "      <th>1359</th>\n",
       "      <td>1961</td>\n",
       "      <td>AL</td>\n",
       "      <td>NYA</td>\n",
       "      <td>NYY</td>\n",
       "      <td>NaN</td>\n",
       "      <td>1</td>\n",
       "      <td>163</td>\n",
       "      <td>81.0</td>\n",
       "      <td>109</td>\n",
       "      <td>53</td>\n",
       "      <td>...</td>\n",
       "      <td>180.0</td>\n",
       "      <td>0.98</td>\n",
       "      <td>New York Yankees</td>\n",
       "      <td>Yankee Stadium I</td>\n",
       "      <td>1747725.0</td>\n",
       "      <td>95</td>\n",
       "      <td>93</td>\n",
       "      <td>NYY</td>\n",
       "      <td>NYA</td>\n",
       "      <td>NYA</td>\n",
       "    </tr>\n",
       "    <tr>\n",
       "      <th>1360</th>\n",
       "      <td>1961</td>\n",
       "      <td>AL</td>\n",
       "      <td>DET</td>\n",
       "      <td>DET</td>\n",
       "      <td>NaN</td>\n",
       "      <td>2</td>\n",
       "      <td>163</td>\n",
       "      <td>82.0</td>\n",
       "      <td>101</td>\n",
       "      <td>61</td>\n",
       "      <td>...</td>\n",
       "      <td>147.0</td>\n",
       "      <td>0.97</td>\n",
       "      <td>Detroit Tigers</td>\n",
       "      <td>Tiger Stadium</td>\n",
       "      <td>1600710.0</td>\n",
       "      <td>103</td>\n",
       "      <td>102</td>\n",
       "      <td>DET</td>\n",
       "      <td>DET</td>\n",
       "      <td>DET</td>\n",
       "    </tr>\n",
       "    <tr>\n",
       "      <th>1361</th>\n",
       "      <td>1961</td>\n",
       "      <td>AL</td>\n",
       "      <td>BAL</td>\n",
       "      <td>BAL</td>\n",
       "      <td>NaN</td>\n",
       "      <td>3</td>\n",
       "      <td>163</td>\n",
       "      <td>82.0</td>\n",
       "      <td>95</td>\n",
       "      <td>67</td>\n",
       "      <td>...</td>\n",
       "      <td>173.0</td>\n",
       "      <td>0.98</td>\n",
       "      <td>Baltimore Orioles</td>\n",
       "      <td>Memorial Stadium</td>\n",
       "      <td>951089.0</td>\n",
       "      <td>96</td>\n",
       "      <td>96</td>\n",
       "      <td>BAL</td>\n",
       "      <td>BAL</td>\n",
       "      <td>BAL</td>\n",
       "    </tr>\n",
       "    <tr>\n",
       "      <th>1362</th>\n",
       "      <td>1961</td>\n",
       "      <td>AL</td>\n",
       "      <td>CHA</td>\n",
       "      <td>CHW</td>\n",
       "      <td>NaN</td>\n",
       "      <td>4</td>\n",
       "      <td>163</td>\n",
       "      <td>81.0</td>\n",
       "      <td>86</td>\n",
       "      <td>76</td>\n",
       "      <td>...</td>\n",
       "      <td>138.0</td>\n",
       "      <td>0.98</td>\n",
       "      <td>Chicago White Sox</td>\n",
       "      <td>Comiskey Park</td>\n",
       "      <td>1146019.0</td>\n",
       "      <td>99</td>\n",
       "      <td>97</td>\n",
       "      <td>CHW</td>\n",
       "      <td>CHA</td>\n",
       "      <td>CHA</td>\n",
       "    </tr>\n",
       "    <tr>\n",
       "      <th>1364</th>\n",
       "      <td>1961</td>\n",
       "      <td>AL</td>\n",
       "      <td>BOS</td>\n",
       "      <td>BOS</td>\n",
       "      <td>NaN</td>\n",
       "      <td>6</td>\n",
       "      <td>163</td>\n",
       "      <td>82.0</td>\n",
       "      <td>76</td>\n",
       "      <td>86</td>\n",
       "      <td>...</td>\n",
       "      <td>140.0</td>\n",
       "      <td>0.97</td>\n",
       "      <td>Boston Red Sox</td>\n",
       "      <td>Fenway Park II</td>\n",
       "      <td>850589.0</td>\n",
       "      <td>102</td>\n",
       "      <td>103</td>\n",
       "      <td>BOS</td>\n",
       "      <td>BOS</td>\n",
       "      <td>BOS</td>\n",
       "    </tr>\n",
       "  </tbody>\n",
       "</table>\n",
       "<p>5 rows × 48 columns</p>\n",
       "</div>"
      ],
      "text/plain": [
       "      yearID lgID teamID franchID divID  Rank    G  Ghome    W   L  \\\n",
       "1359    1961   AL    NYA      NYY   NaN     1  163   81.0  109  53   \n",
       "1360    1961   AL    DET      DET   NaN     2  163   82.0  101  61   \n",
       "1361    1961   AL    BAL      BAL   NaN     3  163   82.0   95  67   \n",
       "1362    1961   AL    CHA      CHW   NaN     4  163   81.0   86  76   \n",
       "1364    1961   AL    BOS      BOS   NaN     6  163   82.0   76  86   \n",
       "\n",
       "         ...          DP    FP               name              park  \\\n",
       "1359     ...       180.0  0.98   New York Yankees  Yankee Stadium I   \n",
       "1360     ...       147.0  0.97     Detroit Tigers     Tiger Stadium   \n",
       "1361     ...       173.0  0.98  Baltimore Orioles  Memorial Stadium   \n",
       "1362     ...       138.0  0.98  Chicago White Sox     Comiskey Park   \n",
       "1364     ...       140.0  0.97     Boston Red Sox    Fenway Park II   \n",
       "\n",
       "      attendance  BPF  PPF  teamIDBR  teamIDlahman45  teamIDretro  \n",
       "1359   1747725.0   95   93       NYY             NYA          NYA  \n",
       "1360   1600710.0  103  102       DET             DET          DET  \n",
       "1361    951089.0   96   96       BAL             BAL          BAL  \n",
       "1362   1146019.0   99   97       CHW             CHA          CHA  \n",
       "1364    850589.0  102  103       BOS             BOS          BOS  \n",
       "\n",
       "[5 rows x 48 columns]"
      ]
     },
     "execution_count": 437,
     "metadata": {},
     "output_type": "execute_result"
    }
   ],
   "source": [
    "filtered_teams = teams[year_condition & games_condition]\n",
    "filtered_teams.head()"
   ]
  },
  {
   "cell_type": "code",
   "execution_count": 442,
   "metadata": {
    "collapsed": false
   },
   "outputs": [
    {
     "name": "stderr",
     "output_type": "stream",
     "text": [
      "/Users/mgalarny/anaconda/lib/python2.7/site-packages/ipykernel/__main__.py:1: SettingWithCopyWarning: \n",
      "A value is trying to be set on a copy of a slice from a DataFrame.\n",
      "Try using .loc[row_indexer,col_indexer] = value instead\n",
      "\n",
      "See the caveats in the documentation: http://pandas.pydata.org/pandas-docs/stable/indexing.html#indexing-view-versus-copy\n",
      "  if __name__ == '__main__':\n"
     ]
    }
   ],
   "source": [
    "filtered_teams['PA'] = filtered_teams['BB'] + filtered_teams['AB']"
   ]
  },
  {
   "cell_type": "code",
   "execution_count": 444,
   "metadata": {
    "collapsed": false
   },
   "outputs": [
    {
     "data": {
      "text/plain": [
       "Index([u'yearID', u'lgID', u'teamID', u'franchID', u'divID', u'Rank', u'G',\n",
       "       u'Ghome', u'W', u'L', u'DivWin', u'WCWin', u'LgWin', u'WSWin', u'R',\n",
       "       u'AB', u'H', u'2B', u'3B', u'HR', u'BB', u'SO', u'SB', u'CS', u'HBP',\n",
       "       u'SF', u'RA', u'ER', u'ERA', u'CG', u'SHO', u'SV', u'IPouts', u'HA',\n",
       "       u'HRA', u'BBA', u'SOA', u'E', u'DP', u'FP', u'name', u'park',\n",
       "       u'attendance', u'BPF', u'PPF', u'teamIDBR', u'teamIDlahman45',\n",
       "       u'teamIDretro', u'PA'],\n",
       "      dtype='object')"
      ]
     },
     "execution_count": 444,
     "metadata": {},
     "output_type": "execute_result"
    }
   ],
   "source": [
    "filtered_teams.columns"
   ]
  },
  {
   "cell_type": "code",
   "execution_count": 445,
   "metadata": {
    "collapsed": false
   },
   "outputs": [
    {
     "name": "stderr",
     "output_type": "stream",
     "text": [
      "/Users/mgalarny/anaconda/lib/python2.7/site-packages/ipykernel/__main__.py:1: SettingWithCopyWarning: \n",
      "A value is trying to be set on a copy of a slice from a DataFrame.\n",
      "Try using .loc[row_indexer,col_indexer] = value instead\n",
      "\n",
      "See the caveats in the documentation: http://pandas.pydata.org/pandas-docs/stable/indexing.html#indexing-view-versus-copy\n",
      "  if __name__ == '__main__':\n"
     ]
    }
   ],
   "source": [
    "filtered_teams['Singles'] = filtered_teams['H'] - filtered_teams['2B'] - filtered_teams['3B'] - filtered_teams['HR']"
   ]
  },
  {
   "cell_type": "code",
   "execution_count": 455,
   "metadata": {
    "collapsed": false
   },
   "outputs": [
    {
     "name": "stderr",
     "output_type": "stream",
     "text": [
      "/Users/mgalarny/anaconda/lib/python2.7/site-packages/ipykernel/__main__.py:2: SettingWithCopyWarning: \n",
      "A value is trying to be set on a copy of a slice from a DataFrame.\n",
      "Try using .loc[row_indexer,col_indexer] = value instead\n",
      "\n",
      "See the caveats in the documentation: http://pandas.pydata.org/pandas-docs/stable/indexing.html#indexing-view-versus-copy\n",
      "  from ipykernel import kernelapp as app\n",
      "/Users/mgalarny/anaconda/lib/python2.7/site-packages/ipykernel/__main__.py:3: SettingWithCopyWarning: \n",
      "A value is trying to be set on a copy of a slice from a DataFrame.\n",
      "Try using .loc[row_indexer,col_indexer] = value instead\n",
      "\n",
      "See the caveats in the documentation: http://pandas.pydata.org/pandas-docs/stable/indexing.html#indexing-view-versus-copy\n",
      "  app.launch_new_instance()\n",
      "/Users/mgalarny/anaconda/lib/python2.7/site-packages/ipykernel/__main__.py:4: SettingWithCopyWarning: \n",
      "A value is trying to be set on a copy of a slice from a DataFrame.\n",
      "Try using .loc[row_indexer,col_indexer] = value instead\n",
      "\n",
      "See the caveats in the documentation: http://pandas.pydata.org/pandas-docs/stable/indexing.html#indexing-view-versus-copy\n",
      "/Users/mgalarny/anaconda/lib/python2.7/site-packages/ipykernel/__main__.py:5: SettingWithCopyWarning: \n",
      "A value is trying to be set on a copy of a slice from a DataFrame.\n",
      "Try using .loc[row_indexer,col_indexer] = value instead\n",
      "\n",
      "See the caveats in the documentation: http://pandas.pydata.org/pandas-docs/stable/indexing.html#indexing-view-versus-copy\n",
      "/Users/mgalarny/anaconda/lib/python2.7/site-packages/ipykernel/__main__.py:6: SettingWithCopyWarning: \n",
      "A value is trying to be set on a copy of a slice from a DataFrame.\n",
      "Try using .loc[row_indexer,col_indexer] = value instead\n",
      "\n",
      "See the caveats in the documentation: http://pandas.pydata.org/pandas-docs/stable/indexing.html#indexing-view-versus-copy\n"
     ]
    },
    {
     "data": {
      "text/html": [
       "<div>\n",
       "<table border=\"1\" class=\"dataframe\">\n",
       "  <thead>\n",
       "    <tr style=\"text-align: right;\">\n",
       "      <th></th>\n",
       "      <th>index</th>\n",
       "      <th>teamID</th>\n",
       "      <th>yearID</th>\n",
       "      <th>W</th>\n",
       "      <th>Singles</th>\n",
       "      <th>2B</th>\n",
       "      <th>3B</th>\n",
       "      <th>HR</th>\n",
       "      <th>BB</th>\n",
       "    </tr>\n",
       "  </thead>\n",
       "  <tbody>\n",
       "    <tr>\n",
       "      <th>0</th>\n",
       "      <td>1359</td>\n",
       "      <td>NYA</td>\n",
       "      <td>1961</td>\n",
       "      <td>109</td>\n",
       "      <td>0.161750</td>\n",
       "      <td>0.031793</td>\n",
       "      <td>0.006555</td>\n",
       "      <td>0.039331</td>\n",
       "      <td>0.088987</td>\n",
       "    </tr>\n",
       "    <tr>\n",
       "      <th>1</th>\n",
       "      <td>1360</td>\n",
       "      <td>DET</td>\n",
       "      <td>1961</td>\n",
       "      <td>101</td>\n",
       "      <td>0.165704</td>\n",
       "      <td>0.034488</td>\n",
       "      <td>0.008502</td>\n",
       "      <td>0.028874</td>\n",
       "      <td>0.107956</td>\n",
       "    </tr>\n",
       "    <tr>\n",
       "      <th>2</th>\n",
       "      <td>1361</td>\n",
       "      <td>BAL</td>\n",
       "      <td>1961</td>\n",
       "      <td>95</td>\n",
       "      <td>0.161828</td>\n",
       "      <td>0.037446</td>\n",
       "      <td>0.005939</td>\n",
       "      <td>0.024579</td>\n",
       "      <td>0.095843</td>\n",
       "    </tr>\n",
       "    <tr>\n",
       "      <th>3</th>\n",
       "      <td>1362</td>\n",
       "      <td>CHA</td>\n",
       "      <td>1961</td>\n",
       "      <td>86</td>\n",
       "      <td>0.176056</td>\n",
       "      <td>0.035375</td>\n",
       "      <td>0.007534</td>\n",
       "      <td>0.022601</td>\n",
       "      <td>0.090075</td>\n",
       "    </tr>\n",
       "    <tr>\n",
       "      <th>4</th>\n",
       "      <td>1364</td>\n",
       "      <td>BOS</td>\n",
       "      <td>1961</td>\n",
       "      <td>76</td>\n",
       "      <td>0.162632</td>\n",
       "      <td>0.040780</td>\n",
       "      <td>0.006011</td>\n",
       "      <td>0.018197</td>\n",
       "      <td>0.105118</td>\n",
       "    </tr>\n",
       "    <tr>\n",
       "      <th>5</th>\n",
       "      <td>1366</td>\n",
       "      <td>LAA</td>\n",
       "      <td>1961</td>\n",
       "      <td>70</td>\n",
       "      <td>0.147748</td>\n",
       "      <td>0.035708</td>\n",
       "      <td>0.003604</td>\n",
       "      <td>0.030958</td>\n",
       "      <td>0.111548</td>\n",
       "    </tr>\n",
       "    <tr>\n",
       "      <th>6</th>\n",
       "      <td>1367</td>\n",
       "      <td>KC1</td>\n",
       "      <td>1961</td>\n",
       "      <td>61</td>\n",
       "      <td>0.164751</td>\n",
       "      <td>0.035982</td>\n",
       "      <td>0.007829</td>\n",
       "      <td>0.014993</td>\n",
       "      <td>0.096618</td>\n",
       "    </tr>\n",
       "    <tr>\n",
       "      <th>7</th>\n",
       "      <td>1377</td>\n",
       "      <td>NYA</td>\n",
       "      <td>1962</td>\n",
       "      <td>96</td>\n",
       "      <td>0.167148</td>\n",
       "      <td>0.038536</td>\n",
       "      <td>0.004656</td>\n",
       "      <td>0.031952</td>\n",
       "      <td>0.093770</td>\n",
       "    </tr>\n",
       "    <tr>\n",
       "      <th>8</th>\n",
       "      <td>1378</td>\n",
       "      <td>MIN</td>\n",
       "      <td>1962</td>\n",
       "      <td>91</td>\n",
       "      <td>0.161997</td>\n",
       "      <td>0.034622</td>\n",
       "      <td>0.006280</td>\n",
       "      <td>0.029791</td>\n",
       "      <td>0.104509</td>\n",
       "    </tr>\n",
       "    <tr>\n",
       "      <th>9</th>\n",
       "      <td>1379</td>\n",
       "      <td>LAA</td>\n",
       "      <td>1962</td>\n",
       "      <td>86</td>\n",
       "      <td>0.159482</td>\n",
       "      <td>0.038027</td>\n",
       "      <td>0.005737</td>\n",
       "      <td>0.022455</td>\n",
       "      <td>0.098672</td>\n",
       "    </tr>\n",
       "    <tr>\n",
       "      <th>10</th>\n",
       "      <td>1381</td>\n",
       "      <td>CHA</td>\n",
       "      <td>1962</td>\n",
       "      <td>85</td>\n",
       "      <td>0.165797</td>\n",
       "      <td>0.040756</td>\n",
       "      <td>0.009129</td>\n",
       "      <td>0.014998</td>\n",
       "      <td>0.101076</td>\n",
       "    </tr>\n",
       "    <tr>\n",
       "      <th>11</th>\n",
       "      <td>1382</td>\n",
       "      <td>CLE</td>\n",
       "      <td>1962</td>\n",
       "      <td>80</td>\n",
       "      <td>0.156532</td>\n",
       "      <td>0.033745</td>\n",
       "      <td>0.003675</td>\n",
       "      <td>0.030070</td>\n",
       "      <td>0.083862</td>\n",
       "    </tr>\n",
       "    <tr>\n",
       "      <th>12</th>\n",
       "      <td>1383</td>\n",
       "      <td>BAL</td>\n",
       "      <td>1962</td>\n",
       "      <td>77</td>\n",
       "      <td>0.157816</td>\n",
       "      <td>0.037456</td>\n",
       "      <td>0.005660</td>\n",
       "      <td>0.025970</td>\n",
       "      <td>0.085900</td>\n",
       "    </tr>\n",
       "    <tr>\n",
       "      <th>13</th>\n",
       "      <td>1385</td>\n",
       "      <td>KC1</td>\n",
       "      <td>1962</td>\n",
       "      <td>72</td>\n",
       "      <td>0.174984</td>\n",
       "      <td>0.035877</td>\n",
       "      <td>0.009459</td>\n",
       "      <td>0.018917</td>\n",
       "      <td>0.090672</td>\n",
       "    </tr>\n",
       "    <tr>\n",
       "      <th>14</th>\n",
       "      <td>1386</td>\n",
       "      <td>WS2</td>\n",
       "      <td>1962</td>\n",
       "      <td>60</td>\n",
       "      <td>0.167059</td>\n",
       "      <td>0.034622</td>\n",
       "      <td>0.006387</td>\n",
       "      <td>0.022185</td>\n",
       "      <td>0.078319</td>\n",
       "    </tr>\n",
       "    <tr>\n",
       "      <th>15</th>\n",
       "      <td>1387</td>\n",
       "      <td>SFN</td>\n",
       "      <td>1962</td>\n",
       "      <td>103</td>\n",
       "      <td>0.176894</td>\n",
       "      <td>0.038455</td>\n",
       "      <td>0.005236</td>\n",
       "      <td>0.033382</td>\n",
       "      <td>0.085583</td>\n",
       "    </tr>\n",
       "    <tr>\n",
       "      <th>16</th>\n",
       "      <td>1388</td>\n",
       "      <td>LAN</td>\n",
       "      <td>1962</td>\n",
       "      <td>102</td>\n",
       "      <td>0.179516</td>\n",
       "      <td>0.030968</td>\n",
       "      <td>0.010484</td>\n",
       "      <td>0.022581</td>\n",
       "      <td>0.092258</td>\n",
       "    </tr>\n",
       "    <tr>\n",
       "      <th>17</th>\n",
       "      <td>1389</td>\n",
       "      <td>CIN</td>\n",
       "      <td>1962</td>\n",
       "      <td>98</td>\n",
       "      <td>0.173205</td>\n",
       "      <td>0.041022</td>\n",
       "      <td>0.006511</td>\n",
       "      <td>0.027185</td>\n",
       "      <td>0.081068</td>\n",
       "    </tr>\n",
       "    <tr>\n",
       "      <th>18</th>\n",
       "      <td>1391</td>\n",
       "      <td>ML1</td>\n",
       "      <td>1962</td>\n",
       "      <td>86</td>\n",
       "      <td>0.157808</td>\n",
       "      <td>0.033780</td>\n",
       "      <td>0.006292</td>\n",
       "      <td>0.029972</td>\n",
       "      <td>0.096208</td>\n",
       "    </tr>\n",
       "    <tr>\n",
       "      <th>19</th>\n",
       "      <td>1392</td>\n",
       "      <td>SLN</td>\n",
       "      <td>1962</td>\n",
       "      <td>84</td>\n",
       "      <td>0.184963</td>\n",
       "      <td>0.035888</td>\n",
       "      <td>0.005034</td>\n",
       "      <td>0.022247</td>\n",
       "      <td>0.083631</td>\n",
       "    </tr>\n",
       "    <tr>\n",
       "      <th>20</th>\n",
       "      <td>1394</td>\n",
       "      <td>HOU</td>\n",
       "      <td>1962</td>\n",
       "      <td>64</td>\n",
       "      <td>0.173195</td>\n",
       "      <td>0.028095</td>\n",
       "      <td>0.007767</td>\n",
       "      <td>0.017353</td>\n",
       "      <td>0.081474</td>\n",
       "    </tr>\n",
       "    <tr>\n",
       "      <th>21</th>\n",
       "      <td>1395</td>\n",
       "      <td>CHN</td>\n",
       "      <td>1962</td>\n",
       "      <td>59</td>\n",
       "      <td>0.168930</td>\n",
       "      <td>0.032461</td>\n",
       "      <td>0.009275</td>\n",
       "      <td>0.020868</td>\n",
       "      <td>0.083471</td>\n",
       "    </tr>\n",
       "    <tr>\n",
       "      <th>22</th>\n",
       "      <td>1398</td>\n",
       "      <td>CHA</td>\n",
       "      <td>1963</td>\n",
       "      <td>94</td>\n",
       "      <td>0.167297</td>\n",
       "      <td>0.034216</td>\n",
       "      <td>0.006580</td>\n",
       "      <td>0.018753</td>\n",
       "      <td>0.093930</td>\n",
       "    </tr>\n",
       "    <tr>\n",
       "      <th>23</th>\n",
       "      <td>1400</td>\n",
       "      <td>BAL</td>\n",
       "      <td>1963</td>\n",
       "      <td>86</td>\n",
       "      <td>0.164610</td>\n",
       "      <td>0.034984</td>\n",
       "      <td>0.005408</td>\n",
       "      <td>0.024675</td>\n",
       "      <td>0.079263</td>\n",
       "    </tr>\n",
       "    <tr>\n",
       "      <th>24</th>\n",
       "      <td>1401</td>\n",
       "      <td>CLE</td>\n",
       "      <td>1963</td>\n",
       "      <td>79</td>\n",
       "      <td>0.151215</td>\n",
       "      <td>0.035876</td>\n",
       "      <td>0.004862</td>\n",
       "      <td>0.028332</td>\n",
       "      <td>0.078625</td>\n",
       "    </tr>\n",
       "    <tr>\n",
       "      <th>25</th>\n",
       "      <td>1402</td>\n",
       "      <td>DET</td>\n",
       "      <td>1963</td>\n",
       "      <td>79</td>\n",
       "      <td>0.165627</td>\n",
       "      <td>0.032009</td>\n",
       "      <td>0.005909</td>\n",
       "      <td>0.024294</td>\n",
       "      <td>0.097177</td>\n",
       "    </tr>\n",
       "    <tr>\n",
       "      <th>26</th>\n",
       "      <td>1404</td>\n",
       "      <td>KC1</td>\n",
       "      <td>1963</td>\n",
       "      <td>73</td>\n",
       "      <td>0.165671</td>\n",
       "      <td>0.037351</td>\n",
       "      <td>0.006308</td>\n",
       "      <td>0.015770</td>\n",
       "      <td>0.087815</td>\n",
       "    </tr>\n",
       "    <tr>\n",
       "      <th>27</th>\n",
       "      <td>1406</td>\n",
       "      <td>WS2</td>\n",
       "      <td>1963</td>\n",
       "      <td>56</td>\n",
       "      <td>0.147064</td>\n",
       "      <td>0.031970</td>\n",
       "      <td>0.005889</td>\n",
       "      <td>0.023221</td>\n",
       "      <td>0.083628</td>\n",
       "    </tr>\n",
       "    <tr>\n",
       "      <th>28</th>\n",
       "      <td>1407</td>\n",
       "      <td>LAN</td>\n",
       "      <td>1963</td>\n",
       "      <td>99</td>\n",
       "      <td>0.176671</td>\n",
       "      <td>0.030267</td>\n",
       "      <td>0.005781</td>\n",
       "      <td>0.018704</td>\n",
       "      <td>0.077028</td>\n",
       "    </tr>\n",
       "    <tr>\n",
       "      <th>29</th>\n",
       "      <td>1408</td>\n",
       "      <td>SLN</td>\n",
       "      <td>1963</td>\n",
       "      <td>93</td>\n",
       "      <td>0.181714</td>\n",
       "      <td>0.037647</td>\n",
       "      <td>0.010756</td>\n",
       "      <td>0.020860</td>\n",
       "      <td>0.074641</td>\n",
       "    </tr>\n",
       "    <tr>\n",
       "      <th>...</th>\n",
       "      <td>...</td>\n",
       "      <td>...</td>\n",
       "      <td>...</td>\n",
       "      <td>...</td>\n",
       "      <td>...</td>\n",
       "      <td>...</td>\n",
       "      <td>...</td>\n",
       "      <td>...</td>\n",
       "      <td>...</td>\n",
       "    </tr>\n",
       "    <tr>\n",
       "      <th>1066</th>\n",
       "      <td>2715</td>\n",
       "      <td>DET</td>\n",
       "      <td>2013</td>\n",
       "      <td>93</td>\n",
       "      <td>0.180977</td>\n",
       "      <td>0.046601</td>\n",
       "      <td>0.003671</td>\n",
       "      <td>0.028088</td>\n",
       "      <td>0.084743</td>\n",
       "    </tr>\n",
       "    <tr>\n",
       "      <th>1067</th>\n",
       "      <td>2716</td>\n",
       "      <td>CLE</td>\n",
       "      <td>2013</td>\n",
       "      <td>92</td>\n",
       "      <td>0.150489</td>\n",
       "      <td>0.048117</td>\n",
       "      <td>0.003816</td>\n",
       "      <td>0.028372</td>\n",
       "      <td>0.093247</td>\n",
       "    </tr>\n",
       "    <tr>\n",
       "      <th>1068</th>\n",
       "      <td>2717</td>\n",
       "      <td>KCA</td>\n",
       "      <td>2013</td>\n",
       "      <td>86</td>\n",
       "      <td>0.174678</td>\n",
       "      <td>0.042539</td>\n",
       "      <td>0.005694</td>\n",
       "      <td>0.018757</td>\n",
       "      <td>0.070675</td>\n",
       "    </tr>\n",
       "    <tr>\n",
       "      <th>1069</th>\n",
       "      <td>2718</td>\n",
       "      <td>MIN</td>\n",
       "      <td>2013</td>\n",
       "      <td>66</td>\n",
       "      <td>0.146794</td>\n",
       "      <td>0.046744</td>\n",
       "      <td>0.002460</td>\n",
       "      <td>0.024766</td>\n",
       "      <td>0.087420</td>\n",
       "    </tr>\n",
       "    <tr>\n",
       "      <th>1070</th>\n",
       "      <td>2719</td>\n",
       "      <td>CHA</td>\n",
       "      <td>2013</td>\n",
       "      <td>63</td>\n",
       "      <td>0.164212</td>\n",
       "      <td>0.039672</td>\n",
       "      <td>0.003180</td>\n",
       "      <td>0.024774</td>\n",
       "      <td>0.068798</td>\n",
       "    </tr>\n",
       "    <tr>\n",
       "      <th>1071</th>\n",
       "      <td>2720</td>\n",
       "      <td>BOS</td>\n",
       "      <td>2013</td>\n",
       "      <td>97</td>\n",
       "      <td>0.159820</td>\n",
       "      <td>0.058248</td>\n",
       "      <td>0.004653</td>\n",
       "      <td>0.028562</td>\n",
       "      <td>0.093228</td>\n",
       "    </tr>\n",
       "    <tr>\n",
       "      <th>1072</th>\n",
       "      <td>2721</td>\n",
       "      <td>TBA</td>\n",
       "      <td>2013</td>\n",
       "      <td>92</td>\n",
       "      <td>0.152930</td>\n",
       "      <td>0.048311</td>\n",
       "      <td>0.003754</td>\n",
       "      <td>0.026930</td>\n",
       "      <td>0.096132</td>\n",
       "    </tr>\n",
       "    <tr>\n",
       "      <th>1073</th>\n",
       "      <td>2722</td>\n",
       "      <td>BAL</td>\n",
       "      <td>2013</td>\n",
       "      <td>85</td>\n",
       "      <td>0.155070</td>\n",
       "      <td>0.049370</td>\n",
       "      <td>0.002319</td>\n",
       "      <td>0.035123</td>\n",
       "      <td>0.068920</td>\n",
       "    </tr>\n",
       "    <tr>\n",
       "      <th>1074</th>\n",
       "      <td>2723</td>\n",
       "      <td>NYA</td>\n",
       "      <td>2013</td>\n",
       "      <td>85</td>\n",
       "      <td>0.153170</td>\n",
       "      <td>0.041758</td>\n",
       "      <td>0.004057</td>\n",
       "      <td>0.024345</td>\n",
       "      <td>0.078783</td>\n",
       "    </tr>\n",
       "    <tr>\n",
       "      <th>1075</th>\n",
       "      <td>2724</td>\n",
       "      <td>TOR</td>\n",
       "      <td>2013</td>\n",
       "      <td>74</td>\n",
       "      <td>0.151480</td>\n",
       "      <td>0.045146</td>\n",
       "      <td>0.003969</td>\n",
       "      <td>0.030594</td>\n",
       "      <td>0.084339</td>\n",
       "    </tr>\n",
       "    <tr>\n",
       "      <th>1076</th>\n",
       "      <td>2725</td>\n",
       "      <td>OAK</td>\n",
       "      <td>2013</td>\n",
       "      <td>96</td>\n",
       "      <td>0.146209</td>\n",
       "      <td>0.049393</td>\n",
       "      <td>0.004102</td>\n",
       "      <td>0.030522</td>\n",
       "      <td>0.094027</td>\n",
       "    </tr>\n",
       "    <tr>\n",
       "      <th>1077</th>\n",
       "      <td>2726</td>\n",
       "      <td>TEX</td>\n",
       "      <td>2013</td>\n",
       "      <td>91</td>\n",
       "      <td>0.166033</td>\n",
       "      <td>0.043327</td>\n",
       "      <td>0.003804</td>\n",
       "      <td>0.029105</td>\n",
       "      <td>0.076402</td>\n",
       "    </tr>\n",
       "    <tr>\n",
       "      <th>1078</th>\n",
       "      <td>2727</td>\n",
       "      <td>LAA</td>\n",
       "      <td>2013</td>\n",
       "      <td>78</td>\n",
       "      <td>0.164130</td>\n",
       "      <td>0.044183</td>\n",
       "      <td>0.006382</td>\n",
       "      <td>0.026837</td>\n",
       "      <td>0.085583</td>\n",
       "    </tr>\n",
       "    <tr>\n",
       "      <th>1079</th>\n",
       "      <td>2728</td>\n",
       "      <td>SEA</td>\n",
       "      <td>2013</td>\n",
       "      <td>71</td>\n",
       "      <td>0.141942</td>\n",
       "      <td>0.040907</td>\n",
       "      <td>0.002793</td>\n",
       "      <td>0.030885</td>\n",
       "      <td>0.086907</td>\n",
       "    </tr>\n",
       "    <tr>\n",
       "      <th>1080</th>\n",
       "      <td>2729</td>\n",
       "      <td>HOU</td>\n",
       "      <td>2013</td>\n",
       "      <td>51</td>\n",
       "      <td>0.149074</td>\n",
       "      <td>0.045215</td>\n",
       "      <td>0.002720</td>\n",
       "      <td>0.025157</td>\n",
       "      <td>0.072412</td>\n",
       "    </tr>\n",
       "    <tr>\n",
       "      <th>1081</th>\n",
       "      <td>2730</td>\n",
       "      <td>SLN</td>\n",
       "      <td>2013</td>\n",
       "      <td>97</td>\n",
       "      <td>0.170089</td>\n",
       "      <td>0.053329</td>\n",
       "      <td>0.003312</td>\n",
       "      <td>0.020702</td>\n",
       "      <td>0.079662</td>\n",
       "    </tr>\n",
       "    <tr>\n",
       "      <th>1082</th>\n",
       "      <td>2731</td>\n",
       "      <td>PIT</td>\n",
       "      <td>2013</td>\n",
       "      <td>94</td>\n",
       "      <td>0.147103</td>\n",
       "      <td>0.045844</td>\n",
       "      <td>0.005877</td>\n",
       "      <td>0.027036</td>\n",
       "      <td>0.078757</td>\n",
       "    </tr>\n",
       "    <tr>\n",
       "      <th>1083</th>\n",
       "      <td>2732</td>\n",
       "      <td>CIN</td>\n",
       "      <td>2013</td>\n",
       "      <td>90</td>\n",
       "      <td>0.151381</td>\n",
       "      <td>0.045036</td>\n",
       "      <td>0.003287</td>\n",
       "      <td>0.025477</td>\n",
       "      <td>0.096154</td>\n",
       "    </tr>\n",
       "    <tr>\n",
       "      <th>1084</th>\n",
       "      <td>2733</td>\n",
       "      <td>MIL</td>\n",
       "      <td>2013</td>\n",
       "      <td>74</td>\n",
       "      <td>0.160347</td>\n",
       "      <td>0.040469</td>\n",
       "      <td>0.007312</td>\n",
       "      <td>0.026696</td>\n",
       "      <td>0.069206</td>\n",
       "    </tr>\n",
       "    <tr>\n",
       "      <th>1085</th>\n",
       "      <td>2734</td>\n",
       "      <td>CHN</td>\n",
       "      <td>2013</td>\n",
       "      <td>66</td>\n",
       "      <td>0.138117</td>\n",
       "      <td>0.050025</td>\n",
       "      <td>0.003032</td>\n",
       "      <td>0.028971</td>\n",
       "      <td>0.073943</td>\n",
       "    </tr>\n",
       "    <tr>\n",
       "      <th>1086</th>\n",
       "      <td>2735</td>\n",
       "      <td>ATL</td>\n",
       "      <td>2013</td>\n",
       "      <td>96</td>\n",
       "      <td>0.151262</td>\n",
       "      <td>0.041284</td>\n",
       "      <td>0.003510</td>\n",
       "      <td>0.030252</td>\n",
       "      <td>0.090590</td>\n",
       "    </tr>\n",
       "    <tr>\n",
       "      <th>1087</th>\n",
       "      <td>2736</td>\n",
       "      <td>WAS</td>\n",
       "      <td>2013</td>\n",
       "      <td>86</td>\n",
       "      <td>0.155593</td>\n",
       "      <td>0.043898</td>\n",
       "      <td>0.004576</td>\n",
       "      <td>0.027288</td>\n",
       "      <td>0.078644</td>\n",
       "    </tr>\n",
       "    <tr>\n",
       "      <th>1088</th>\n",
       "      <td>2737</td>\n",
       "      <td>NYN</td>\n",
       "      <td>2013</td>\n",
       "      <td>74</td>\n",
       "      <td>0.147093</td>\n",
       "      <td>0.043321</td>\n",
       "      <td>0.005271</td>\n",
       "      <td>0.021413</td>\n",
       "      <td>0.084335</td>\n",
       "    </tr>\n",
       "    <tr>\n",
       "      <th>1089</th>\n",
       "      <td>2738</td>\n",
       "      <td>PHI</td>\n",
       "      <td>2013</td>\n",
       "      <td>73</td>\n",
       "      <td>0.158011</td>\n",
       "      <td>0.043419</td>\n",
       "      <td>0.005449</td>\n",
       "      <td>0.023838</td>\n",
       "      <td>0.071003</td>\n",
       "    </tr>\n",
       "    <tr>\n",
       "      <th>1090</th>\n",
       "      <td>2739</td>\n",
       "      <td>MIA</td>\n",
       "      <td>2013</td>\n",
       "      <td>62</td>\n",
       "      <td>0.155076</td>\n",
       "      <td>0.037239</td>\n",
       "      <td>0.005271</td>\n",
       "      <td>0.016154</td>\n",
       "      <td>0.073457</td>\n",
       "    </tr>\n",
       "    <tr>\n",
       "      <th>1091</th>\n",
       "      <td>2740</td>\n",
       "      <td>LAN</td>\n",
       "      <td>2013</td>\n",
       "      <td>92</td>\n",
       "      <td>0.169432</td>\n",
       "      <td>0.047092</td>\n",
       "      <td>0.002849</td>\n",
       "      <td>0.023127</td>\n",
       "      <td>0.079772</td>\n",
       "    </tr>\n",
       "    <tr>\n",
       "      <th>1092</th>\n",
       "      <td>2741</td>\n",
       "      <td>ARI</td>\n",
       "      <td>2013</td>\n",
       "      <td>81</td>\n",
       "      <td>0.162228</td>\n",
       "      <td>0.048749</td>\n",
       "      <td>0.005004</td>\n",
       "      <td>0.020985</td>\n",
       "      <td>0.083777</td>\n",
       "    </tr>\n",
       "    <tr>\n",
       "      <th>1093</th>\n",
       "      <td>2742</td>\n",
       "      <td>SDN</td>\n",
       "      <td>2013</td>\n",
       "      <td>76</td>\n",
       "      <td>0.155582</td>\n",
       "      <td>0.041110</td>\n",
       "      <td>0.004345</td>\n",
       "      <td>0.024398</td>\n",
       "      <td>0.078041</td>\n",
       "    </tr>\n",
       "    <tr>\n",
       "      <th>1094</th>\n",
       "      <td>2743</td>\n",
       "      <td>SFN</td>\n",
       "      <td>2013</td>\n",
       "      <td>76</td>\n",
       "      <td>0.170071</td>\n",
       "      <td>0.046504</td>\n",
       "      <td>0.005813</td>\n",
       "      <td>0.017771</td>\n",
       "      <td>0.077894</td>\n",
       "    </tr>\n",
       "    <tr>\n",
       "      <th>1095</th>\n",
       "      <td>2744</td>\n",
       "      <td>COL</td>\n",
       "      <td>2013</td>\n",
       "      <td>74</td>\n",
       "      <td>0.171424</td>\n",
       "      <td>0.046963</td>\n",
       "      <td>0.005974</td>\n",
       "      <td>0.026386</td>\n",
       "      <td>0.070860</td>\n",
       "    </tr>\n",
       "  </tbody>\n",
       "</table>\n",
       "<p>1096 rows × 9 columns</p>\n",
       "</div>"
      ],
      "text/plain": [
       "      index teamID  yearID    W   Singles        2B        3B        HR  \\\n",
       "0      1359    NYA    1961  109  0.161750  0.031793  0.006555  0.039331   \n",
       "1      1360    DET    1961  101  0.165704  0.034488  0.008502  0.028874   \n",
       "2      1361    BAL    1961   95  0.161828  0.037446  0.005939  0.024579   \n",
       "3      1362    CHA    1961   86  0.176056  0.035375  0.007534  0.022601   \n",
       "4      1364    BOS    1961   76  0.162632  0.040780  0.006011  0.018197   \n",
       "5      1366    LAA    1961   70  0.147748  0.035708  0.003604  0.030958   \n",
       "6      1367    KC1    1961   61  0.164751  0.035982  0.007829  0.014993   \n",
       "7      1377    NYA    1962   96  0.167148  0.038536  0.004656  0.031952   \n",
       "8      1378    MIN    1962   91  0.161997  0.034622  0.006280  0.029791   \n",
       "9      1379    LAA    1962   86  0.159482  0.038027  0.005737  0.022455   \n",
       "10     1381    CHA    1962   85  0.165797  0.040756  0.009129  0.014998   \n",
       "11     1382    CLE    1962   80  0.156532  0.033745  0.003675  0.030070   \n",
       "12     1383    BAL    1962   77  0.157816  0.037456  0.005660  0.025970   \n",
       "13     1385    KC1    1962   72  0.174984  0.035877  0.009459  0.018917   \n",
       "14     1386    WS2    1962   60  0.167059  0.034622  0.006387  0.022185   \n",
       "15     1387    SFN    1962  103  0.176894  0.038455  0.005236  0.033382   \n",
       "16     1388    LAN    1962  102  0.179516  0.030968  0.010484  0.022581   \n",
       "17     1389    CIN    1962   98  0.173205  0.041022  0.006511  0.027185   \n",
       "18     1391    ML1    1962   86  0.157808  0.033780  0.006292  0.029972   \n",
       "19     1392    SLN    1962   84  0.184963  0.035888  0.005034  0.022247   \n",
       "20     1394    HOU    1962   64  0.173195  0.028095  0.007767  0.017353   \n",
       "21     1395    CHN    1962   59  0.168930  0.032461  0.009275  0.020868   \n",
       "22     1398    CHA    1963   94  0.167297  0.034216  0.006580  0.018753   \n",
       "23     1400    BAL    1963   86  0.164610  0.034984  0.005408  0.024675   \n",
       "24     1401    CLE    1963   79  0.151215  0.035876  0.004862  0.028332   \n",
       "25     1402    DET    1963   79  0.165627  0.032009  0.005909  0.024294   \n",
       "26     1404    KC1    1963   73  0.165671  0.037351  0.006308  0.015770   \n",
       "27     1406    WS2    1963   56  0.147064  0.031970  0.005889  0.023221   \n",
       "28     1407    LAN    1963   99  0.176671  0.030267  0.005781  0.018704   \n",
       "29     1408    SLN    1963   93  0.181714  0.037647  0.010756  0.020860   \n",
       "...     ...    ...     ...  ...       ...       ...       ...       ...   \n",
       "1066   2715    DET    2013   93  0.180977  0.046601  0.003671  0.028088   \n",
       "1067   2716    CLE    2013   92  0.150489  0.048117  0.003816  0.028372   \n",
       "1068   2717    KCA    2013   86  0.174678  0.042539  0.005694  0.018757   \n",
       "1069   2718    MIN    2013   66  0.146794  0.046744  0.002460  0.024766   \n",
       "1070   2719    CHA    2013   63  0.164212  0.039672  0.003180  0.024774   \n",
       "1071   2720    BOS    2013   97  0.159820  0.058248  0.004653  0.028562   \n",
       "1072   2721    TBA    2013   92  0.152930  0.048311  0.003754  0.026930   \n",
       "1073   2722    BAL    2013   85  0.155070  0.049370  0.002319  0.035123   \n",
       "1074   2723    NYA    2013   85  0.153170  0.041758  0.004057  0.024345   \n",
       "1075   2724    TOR    2013   74  0.151480  0.045146  0.003969  0.030594   \n",
       "1076   2725    OAK    2013   96  0.146209  0.049393  0.004102  0.030522   \n",
       "1077   2726    TEX    2013   91  0.166033  0.043327  0.003804  0.029105   \n",
       "1078   2727    LAA    2013   78  0.164130  0.044183  0.006382  0.026837   \n",
       "1079   2728    SEA    2013   71  0.141942  0.040907  0.002793  0.030885   \n",
       "1080   2729    HOU    2013   51  0.149074  0.045215  0.002720  0.025157   \n",
       "1081   2730    SLN    2013   97  0.170089  0.053329  0.003312  0.020702   \n",
       "1082   2731    PIT    2013   94  0.147103  0.045844  0.005877  0.027036   \n",
       "1083   2732    CIN    2013   90  0.151381  0.045036  0.003287  0.025477   \n",
       "1084   2733    MIL    2013   74  0.160347  0.040469  0.007312  0.026696   \n",
       "1085   2734    CHN    2013   66  0.138117  0.050025  0.003032  0.028971   \n",
       "1086   2735    ATL    2013   96  0.151262  0.041284  0.003510  0.030252   \n",
       "1087   2736    WAS    2013   86  0.155593  0.043898  0.004576  0.027288   \n",
       "1088   2737    NYN    2013   74  0.147093  0.043321  0.005271  0.021413   \n",
       "1089   2738    PHI    2013   73  0.158011  0.043419  0.005449  0.023838   \n",
       "1090   2739    MIA    2013   62  0.155076  0.037239  0.005271  0.016154   \n",
       "1091   2740    LAN    2013   92  0.169432  0.047092  0.002849  0.023127   \n",
       "1092   2741    ARI    2013   81  0.162228  0.048749  0.005004  0.020985   \n",
       "1093   2742    SDN    2013   76  0.155582  0.041110  0.004345  0.024398   \n",
       "1094   2743    SFN    2013   76  0.170071  0.046504  0.005813  0.017771   \n",
       "1095   2744    COL    2013   74  0.171424  0.046963  0.005974  0.026386   \n",
       "\n",
       "            BB  \n",
       "0     0.088987  \n",
       "1     0.107956  \n",
       "2     0.095843  \n",
       "3     0.090075  \n",
       "4     0.105118  \n",
       "5     0.111548  \n",
       "6     0.096618  \n",
       "7     0.093770  \n",
       "8     0.104509  \n",
       "9     0.098672  \n",
       "10    0.101076  \n",
       "11    0.083862  \n",
       "12    0.085900  \n",
       "13    0.090672  \n",
       "14    0.078319  \n",
       "15    0.085583  \n",
       "16    0.092258  \n",
       "17    0.081068  \n",
       "18    0.096208  \n",
       "19    0.083631  \n",
       "20    0.081474  \n",
       "21    0.083471  \n",
       "22    0.093930  \n",
       "23    0.079263  \n",
       "24    0.078625  \n",
       "25    0.097177  \n",
       "26    0.087815  \n",
       "27    0.083628  \n",
       "28    0.077028  \n",
       "29    0.074641  \n",
       "...        ...  \n",
       "1066  0.084743  \n",
       "1067  0.093247  \n",
       "1068  0.070675  \n",
       "1069  0.087420  \n",
       "1070  0.068798  \n",
       "1071  0.093228  \n",
       "1072  0.096132  \n",
       "1073  0.068920  \n",
       "1074  0.078783  \n",
       "1075  0.084339  \n",
       "1076  0.094027  \n",
       "1077  0.076402  \n",
       "1078  0.085583  \n",
       "1079  0.086907  \n",
       "1080  0.072412  \n",
       "1081  0.079662  \n",
       "1082  0.078757  \n",
       "1083  0.096154  \n",
       "1084  0.069206  \n",
       "1085  0.073943  \n",
       "1086  0.090590  \n",
       "1087  0.078644  \n",
       "1088  0.084335  \n",
       "1089  0.071003  \n",
       "1090  0.073457  \n",
       "1091  0.079772  \n",
       "1092  0.083777  \n",
       "1093  0.078041  \n",
       "1094  0.077894  \n",
       "1095  0.070860  \n",
       "\n",
       "[1096 rows x 9 columns]"
      ]
     },
     "execution_count": 455,
     "metadata": {},
     "output_type": "execute_result"
    }
   ],
   "source": [
    "stats = filtered_teams[['teamID','yearID', 'W', 'Singles', '2B', '3B', 'HR', 'BB']]\n",
    "stats['Singles'] = stats['Singles']/filtered_teams['PA']\n",
    "stats['2B'] = stats['2B']/filtered_teams['PA']\n",
    "stats['3B'] = stats['3B']/filtered_teams['PA']\n",
    "stats['HR'] = stats['HR']/filtered_teams['PA']\n",
    "stats['BB'] = stats['BB']/filtered_teams['PA']\n",
    "stats = stats.reset_index()\n",
    "stats"
   ]
  },
  {
   "cell_type": "markdown",
   "metadata": {},
   "source": [
    "#### Problem 1(d)\n",
    "\n",
    "Is there a noticeable time trend in the rates computed computed in Problem 1(c)? "
   ]
  },
  {
   "cell_type": "code",
   "execution_count": 393,
   "metadata": {
    "collapsed": false
   },
   "outputs": [],
   "source": [
    "### Your code here ###"
   ]
  },
  {
   "cell_type": "markdown",
   "metadata": {},
   "source": [
    "#### Problem 1(e) \n",
    "\n",
    "Using the `stats` DataFrame from Problem 1(c), adjust the singles per PA rates so that the average across teams for each year is 0. Do the same for the doubles, triples, HR, and BB rates. "
   ]
  },
  {
   "cell_type": "code",
   "execution_count": 394,
   "metadata": {
    "collapsed": false
   },
   "outputs": [],
   "source": [
    "### Your code here ###"
   ]
  },
  {
   "cell_type": "markdown",
   "metadata": {},
   "source": [
    "#### Problem 1(f)\n",
    "\n",
    "Build a simple linear regression model to predict the number of wins from the average adjusted singles, double, triples, HR, and BB rates. To decide which of these terms to include fit the model to data from 2002 and compute the average squared residuals from predictions to years past 2002. Use the fitted model to define a new sabermetric summary: offensive predicted wins (OPW). Hint: the new summary should be a linear combination of one to five of the five rates.\n"
   ]
  },
  {
   "cell_type": "code",
   "execution_count": 395,
   "metadata": {
    "collapsed": false
   },
   "outputs": [],
   "source": [
    "### Your code here ###"
   ]
  },
  {
   "cell_type": "markdown",
   "metadata": {},
   "source": [
    "** Your answer here: **"
   ]
  },
  {
   "cell_type": "markdown",
   "metadata": {},
   "source": [
    "#### Problem 1(g)\n",
    "\n",
    "Now we will create a similar database for individual players. Consider only player/year combinations in which the player had at least 500 plate appearances. Consider only the years we considered for the calculations above (after 1947 and seasons with 162 games). For each player/year compute singles, doubles, triples, HR, BB per plate appearance rates. Create a new pandas DataFrame called `playerstats` that has the playerID, yearID and the rates of these stats.  Remove the average for each year as for these rates as done in Problem 1(e). "
   ]
  },
  {
   "cell_type": "code",
   "execution_count": 396,
   "metadata": {
    "collapsed": false
   },
   "outputs": [],
   "source": [
    "### Your code here ###"
   ]
  },
  {
   "cell_type": "markdown",
   "metadata": {},
   "source": [
    "Show the head of the `playerstats` DataFrame. "
   ]
  },
  {
   "cell_type": "code",
   "execution_count": 397,
   "metadata": {
    "collapsed": false
   },
   "outputs": [],
   "source": [
    "### Your code here ###"
   ]
  },
  {
   "cell_type": "markdown",
   "metadata": {},
   "source": [
    "#### Problem 1(h)\n",
    "\n",
    "Using the `playerstats` DataFrame created in Problem 1(g), create a new DataFrame called `playerLS` containing the player's lifetime stats. This DataFrame should contain the playerID, the year the player's career started, the year the player's career ended and the player's lifetime average for each of the quantities (singles, doubles, triples, HR, BB). For simplicity we will simply compute the avaerage of the rates by year (a more correct way is to go back to the totals). "
   ]
  },
  {
   "cell_type": "code",
   "execution_count": 398,
   "metadata": {
    "collapsed": false
   },
   "outputs": [],
   "source": [
    "### Your code here ###"
   ]
  },
  {
   "cell_type": "markdown",
   "metadata": {},
   "source": [
    "Show the head of the `playerLS` DataFrame. "
   ]
  },
  {
   "cell_type": "code",
   "execution_count": 399,
   "metadata": {
    "collapsed": false
   },
   "outputs": [],
   "source": [
    "### Your code here ###"
   ]
  },
  {
   "cell_type": "markdown",
   "metadata": {},
   "source": [
    "#### Problem 1(i)\n",
    "\n",
    "Compute the OPW for each player based on the average rates in the `playerLS` DataFrame. You can interpret this summary statistic as the predicted wins for a team with 9 batters exactly like the player in question. Add this column to the playerLS DataFrame. Call this colum OPW."
   ]
  },
  {
   "cell_type": "code",
   "execution_count": 400,
   "metadata": {
    "collapsed": false
   },
   "outputs": [],
   "source": [
    "### Your code here ###"
   ]
  },
  {
   "cell_type": "markdown",
   "metadata": {},
   "source": [
    "#### Problem 1(j)\n",
    "\n",
    "Add four columns to the `playerLS` DataFrame that contains the player's position (C, 1B, 2B, 3B, SS, LF, CF, RF, or OF), first name, last name and median salary. "
   ]
  },
  {
   "cell_type": "code",
   "execution_count": 401,
   "metadata": {
    "collapsed": false
   },
   "outputs": [],
   "source": [
    "### Your code here ###"
   ]
  },
  {
   "cell_type": "markdown",
   "metadata": {},
   "source": [
    "Show the head of the `playerLS` DataFrame. "
   ]
  },
  {
   "cell_type": "code",
   "execution_count": 402,
   "metadata": {
    "collapsed": false
   },
   "outputs": [],
   "source": [
    "### Your code here ###"
   ]
  },
  {
   "cell_type": "markdown",
   "metadata": {},
   "source": [
    "#### Problem 1(k)\n",
    "\n",
    "Subset the `playerLS` DataFrame for players active in 2002 and 2003 and played at least three years. Plot and describe the relationship bewteen the median salary (in millions) and the predicted number of wins. "
   ]
  },
  {
   "cell_type": "code",
   "execution_count": 403,
   "metadata": {
    "collapsed": false
   },
   "outputs": [],
   "source": [
    "### Your code here ###"
   ]
  },
  {
   "cell_type": "markdown",
   "metadata": {},
   "source": [
    "#### Problem 1(l)\n",
    "Pick one players from one of each of these 10 position C, 1B, 2B, 3B, SS, LF, CF, RF, DH, or OF keeping the total median salary of all 10 players below 20 million. Report their averaged predicted wins and total salary."
   ]
  },
  {
   "cell_type": "code",
   "execution_count": 404,
   "metadata": {
    "collapsed": false
   },
   "outputs": [],
   "source": [
    "### Your code here ###"
   ]
  },
  {
   "cell_type": "markdown",
   "metadata": {},
   "source": [
    "#### Problem 1(m)\n",
    "What do these players outperform in? Singles, doubles, triples HR or BB?"
   ]
  },
  {
   "cell_type": "code",
   "execution_count": 405,
   "metadata": {
    "collapsed": false
   },
   "outputs": [],
   "source": [
    "### Your code here ###"
   ]
  },
  {
   "cell_type": "markdown",
   "metadata": {},
   "source": [
    "** Your answer here: **"
   ]
  },
  {
   "cell_type": "markdown",
   "metadata": {},
   "source": [
    "### "
   ]
  },
  {
   "cell_type": "markdown",
   "metadata": {},
   "source": [
    "### Use one of the classification methods to predict wheather a player will be an Allstar?"
   ]
  },
  {
   "cell_type": "code",
   "execution_count": 406,
   "metadata": {
    "collapsed": false
   },
   "outputs": [],
   "source": [
    "### Your code here ###"
   ]
  },
  {
   "cell_type": "markdown",
   "metadata": {},
   "source": [
    "## Discussion for Problem 1\n",
    "\n",
    "*Write a brief discussion of your conclusions to the questions and tasks above in 100 words or less.*\n",
    "\n",
    "---"
   ]
  },
  {
   "cell_type": "markdown",
   "metadata": {},
   "source": [
    "# Problem 2:  $k$-Nearest Neighbors and Cross Validation \n",
    "\n",
    "What is the optimal $k$ for predicting species using $k$-nearest neighbor classification \n",
    "on the four features provided by the iris dataset.\n",
    "\n",
    "In this problem you will get to know the famous iris data set, and use cross validation to select the optimal $k$ for a $k$-nearest neighbor classification. This problem set makes heavy use of the [sklearn](http://scikit-learn.org/stable/) library. In addition to Pandas, it is one of the most useful libraries for data scientists. \n",
    "For the Iris data set  sklearn provides an extra function to load it - since it is one of the very commonly used data sets."
   ]
  },
  {
   "cell_type": "code",
   "execution_count": 407,
   "metadata": {
    "collapsed": false
   },
   "outputs": [],
   "source": [
    "#load the iris data set\n"
   ]
  },
  {
   "cell_type": "markdown",
   "metadata": {},
   "source": [
    "#### Problem 2(a) \n",
    "Split the data into a train and a test set. Use a random selection of 33% of the samples as test data. Sklearn provides the [`train_test_split`](http://scikit-learn.org/stable/modules/generated/sklearn.cross_validation.train_test_split.html) function for this purpose. Print the dimensions of all the train and test data sets you have created. "
   ]
  },
  {
   "cell_type": "code",
   "execution_count": 408,
   "metadata": {
    "collapsed": false
   },
   "outputs": [],
   "source": [
    "### Your code here ###"
   ]
  },
  {
   "cell_type": "markdown",
   "metadata": {},
   "source": [
    "#### Problem 2(b) \n",
    "\n",
    " Use ***ten fold cross validation*** to estimate the optimal value for $k$ for the iris data set. \n",
    "\n",
    "**Note**: For your convenience sklearn does not only include the [KNN classifier](http://scikit-learn.org/stable/modules/generated/sklearn.neighbors.KNeighborsClassifier.html), but also a [grid search function](http://scikit-learn.org/stable/modules/generated/sklearn.grid_search.GridSearchCV.html#sklearn.grid_search.GridSearchCV). The function is called grid search, because if you have to optimize more than one parameter, it is common practice to define a range of possible values for each parameter. An exhaustive search then runs over the complete grid defined by all the possible parameter combinations. This can get very computation heavy, but luckily our KNN classifier only requires tuning of a single parameter for this problem set. "
   ]
  },
  {
   "cell_type": "code",
   "execution_count": 409,
   "metadata": {
    "collapsed": false
   },
   "outputs": [],
   "source": [
    "### Your code here ###"
   ]
  },
  {
   "cell_type": "markdown",
   "metadata": {},
   "source": [
    "#### Problem 2(c)\n",
    "\n",
    "Visualize the result by plotting the score results versus values for $k$. "
   ]
  },
  {
   "cell_type": "code",
   "execution_count": 410,
   "metadata": {
    "collapsed": false
   },
   "outputs": [],
   "source": [
    "### Your code here ###"
   ]
  },
  {
   "cell_type": "markdown",
   "metadata": {},
   "source": [
    "Verify that the grid search has indeed chosen the right parameter value for $k$."
   ]
  },
  {
   "cell_type": "code",
   "execution_count": 411,
   "metadata": {
    "collapsed": false
   },
   "outputs": [],
   "source": [
    "### Your code here ###"
   ]
  },
  {
   "cell_type": "markdown",
   "metadata": {},
   "source": [
    "#### Problem 2(d)\n",
    "\n",
    "Test the performance of our tuned KNN classifier on the test set."
   ]
  },
  {
   "cell_type": "code",
   "execution_count": 412,
   "metadata": {
    "collapsed": false
   },
   "outputs": [],
   "source": [
    "### Your code here ###"
   ]
  },
  {
   "cell_type": "markdown",
   "metadata": {},
   "source": [
    "## Discussion for Problem 2\n",
    "\n",
    "*Write a brief discussion of your conclusions to the questions and tasks above in 100 words or less.*\n",
    "\n",
    "---"
   ]
  },
  {
   "cell_type": "markdown",
   "metadata": {},
   "source": [
    "## Problem 3: Supervised Learning - Estimating Boston house pricing using Linear Regression and Regression Trees"
   ]
  },
  {
   "cell_type": "markdown",
   "metadata": {},
   "source": [
    "##### Import the Boston House Pricing Dataset; it comes with the scikit or you can dowload it FROM UCI ML housing dataset. (http://archive.ics.uci.edu/ml/datasets/Housing)"
   ]
  },
  {
   "cell_type": "code",
   "execution_count": 413,
   "metadata": {
    "collapsed": false
   },
   "outputs": [],
   "source": [
    "### Your code here ###"
   ]
  },
  {
   "cell_type": "markdown",
   "metadata": {},
   "source": [
    "#### Find the mostimportant features"
   ]
  },
  {
   "cell_type": "code",
   "execution_count": 414,
   "metadata": {
    "collapsed": false
   },
   "outputs": [],
   "source": [
    "### Your code here ###"
   ]
  },
  {
   "cell_type": "markdown",
   "metadata": {},
   "source": [
    "#### Using 10-fold cross validation separate the test and training data sets"
   ]
  },
  {
   "cell_type": "code",
   "execution_count": 415,
   "metadata": {
    "collapsed": false
   },
   "outputs": [],
   "source": [
    "### Your code here ###"
   ]
  },
  {
   "cell_type": "code",
   "execution_count": 416,
   "metadata": {
    "collapsed": false
   },
   "outputs": [
    {
     "ename": "SyntaxError",
     "evalue": "invalid syntax (<ipython-input-416-20b88cf8a636>, line 1)",
     "output_type": "error",
     "traceback": [
      "\u001b[0;36m  File \u001b[0;32m\"<ipython-input-416-20b88cf8a636>\"\u001b[0;36m, line \u001b[0;32m1\u001b[0m\n\u001b[0;31m    Normalize the data\u001b[0m\n\u001b[0m                ^\u001b[0m\n\u001b[0;31mSyntaxError\u001b[0m\u001b[0;31m:\u001b[0m invalid syntax\n"
     ]
    }
   ],
   "source": [
    "Normalize the data"
   ]
  },
  {
   "cell_type": "code",
   "execution_count": null,
   "metadata": {
    "collapsed": false
   },
   "outputs": [],
   "source": [
    "### Your code here ###"
   ]
  },
  {
   "cell_type": "markdown",
   "metadata": {},
   "source": [
    "### Start with a lineal model and evaluate how well it can predict the price variable"
   ]
  },
  {
   "cell_type": "code",
   "execution_count": null,
   "metadata": {
    "collapsed": false
   },
   "outputs": [],
   "source": [
    "### Your code here ###"
   ]
  },
  {
   "cell_type": "markdown",
   "metadata": {},
   "source": [
    "### Try using Ridge regression and evaluate the result of the 10-fold cross-validation"
   ]
  },
  {
   "cell_type": "code",
   "execution_count": null,
   "metadata": {
    "collapsed": false
   },
   "outputs": [],
   "source": [
    "### Your code here ###"
   ]
  },
  {
   "cell_type": "markdown",
   "metadata": {},
   "source": [
    "### Train the Regression Tree and evaluate using 10-fold cross validation; Specify the parapmeters used and how you changed them to increase the accuracy;  "
   ]
  },
  {
   "cell_type": "code",
   "execution_count": null,
   "metadata": {
    "collapsed": false
   },
   "outputs": [],
   "source": [
    "### Your code here ###"
   ]
  },
  {
   "cell_type": "markdown",
   "metadata": {},
   "source": [
    "### Discussion for Problem 3  Write a brief discussion of your conclusions to the questions and tasks above in 100 words or less.Compare all three aproaches and discuss your findings in 100 words or less"
   ]
  }
 ],
 "metadata": {
  "kernelspec": {
   "display_name": "Python 2",
   "language": "python",
   "name": "python2"
  },
  "language_info": {
   "codemirror_mode": {
    "name": "ipython",
    "version": 2
   },
   "file_extension": ".py",
   "mimetype": "text/x-python",
   "name": "python",
   "nbconvert_exporter": "python",
   "pygments_lexer": "ipython2",
   "version": "2.7.11"
  }
 },
 "nbformat": 4,
 "nbformat_minor": 0
}
