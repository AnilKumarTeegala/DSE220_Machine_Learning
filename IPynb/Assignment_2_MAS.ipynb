{
 "cells": [
  {
   "cell_type": "markdown",
   "metadata": {},
   "source": [
    "Assignment 2: Prediction and Classification"
   ]
  },
  {
   "cell_type": "markdown",
   "metadata": {},
   "source": [
    "# Introduction\n",
    "Problem 1 is optional - for extra credit!\n",
    "Problems 2 and 3 will be graded for the Lab 2.  \n",
    "\n",
    "\n",
    "In this assignment you will be using regression and classification to explore different data sets.  \n",
    "\n",
    "**First**: You will use data from before 2002 in the [Sean Lahman's Baseball Database](http://seanlahman.com/baseball-archive/statistics) to create a metric for picking baseball players using linear regression.  This database contains the \"complete batting and pitching statistics from 1871 to 2013, plus fielding statistics, standings, team stats, managerial records, post-season data, and more\". [Documentation provided here](http://seanlahman.com/files/database/readme2012.txt).\n",
    "\n",
    "**Second**: You will use the famous [iris](http://en.wikipedia.org/wiki/Iris_flower_data_set) data set to perform a $k$-neareast neighbor classification using cross validation.  While it was introduced in 1936, it is still [one of the most popular](http://archive.ics.uci.edu/ml/) example data sets in the machine learning community. Wikipedia describes the data set as follows: \"The data set consists of 50 samples from each of three species of Iris (Iris setosa, Iris virginica and Iris versicolor). Four features were measured from each sample: the length and the width of the sepals and petals, in centimetres.\" Here is an illustration what the four features measure:\n",
    "\n",
    "![\"iris data features\"](http://sebastianraschka.com/Images/2014_python_lda/iris_petal_sepal.png)\n",
    "http://sebastianraschka.com/Images/2014_python_lda/iris_petal_sepal.png\n",
    "\n",
    "**Third**: You will investigate the influence of higher dimensional spaces on the classification using another standard data set in machine learning called the The [digits data set](http://scikit-learn.org/stable/modules/generated/sklearn.datasets.load_digits.html).   Each digit is represented by an 8x8 pixel image patch. In addition, the gray values are restricted to 16 different values (4 bit). \n",
    "\n"
   ]
  },
  {
   "cell_type": "markdown",
   "metadata": {},
   "source": [
    "## Load Python modules"
   ]
  },
  {
   "cell_type": "code",
   "execution_count": 1,
   "metadata": {
    "collapsed": false
   },
   "outputs": [],
   "source": [
    "# prepare the notebook for matplotlib\n",
    "%matplotlib inline \n",
    "\n",
    "import requests \n",
    "import StringIO\n",
    "import zipfile\n",
    "import numpy as np\n",
    "import pandas as pd # pandas\n",
    "import matplotlib.pyplot as plt # module for plotting \n",
    "import seaborn as sns \n",
    "import sklearn\n",
    "import sklearn.datasets\n",
    "import sklearn.cross_validation\n",
    "import sklearn.decomposition\n",
    "import sklearn.grid_search\n",
    "import sklearn.neighbors\n",
    "import sklearn.metrics"
   ]
  },
  {
   "cell_type": "markdown",
   "metadata": {},
   "source": [
    "# Problem 1: Sabermetrics\n",
    "\n",
    "Using data preceding the 2002 season pick 10 offensive players keeping the payroll under $20 million (assign each player the median salary). Predict how many games this team would win in a 162 game season.  \n",
    "\n",
    "In this problem we will be returning to the [Sean Lahman's Baseball Database](http://seanlahman.com/baseball-archive/statistics).  From this database, we will be extract five data sets containing information such as yearly stats and standing, batting statistics, fielding statistics, player names, player salaries and biographical information. You will explore the data in this database from before 2002 and create a metric for picking players. "
   ]
  },
  {
   "cell_type": "markdown",
   "metadata": {},
   "source": [
    "#### Problem 1(a) \n",
    "\n",
    "Load in [these CSV files](http://seanlahman.com/files/database/lahman-csv_2014-02-14.zip) from the [Sean Lahman's Baseball Database](http://seanlahman.com/baseball-archive/statistics). For this assignment, we will use the 'Teams.csv', 'Batting.csv', 'Salaries.csv', 'Fielding.csv', 'Master.csv' tables. Read these tables into separate pandas DataFrames with the following names. \n",
    "\n",
    "CSV file name | Name of pandas DataFrame\n",
    ":---: | :---: \n",
    "Teams.csv | teams\n",
    "Batting.csv | players\n",
    "Salaries.csv | salaries\n",
    "Fielding.csv | fielding\n",
    "Master.csv | master"
   ]
  },
  {
   "cell_type": "code",
   "execution_count": 2,
   "metadata": {
    "collapsed": false
   },
   "outputs": [],
   "source": [
    "### Your code here ###\n",
    "teams = pd.read_csv('data/baseball_data/teams.csv')\n",
    "players = pd.read_csv('data/baseball_data/Batting.csv')\n",
    "salaries = pd.read_csv('data/baseball_data/Salaries.csv')\n",
    "fielding = pd.read_csv('data/baseball_data/Fielding.csv')\n",
    "master = pd.read_csv('data/baseball_data/Master.csv', index_col=0)\n",
    "master.index.name = None"
   ]
  },
  {
   "cell_type": "markdown",
   "metadata": {},
   "source": [
    "#### Problem 1(b)\n",
    "\n",
    "Calculate the median salary for each player and create a pandas DataFrame called `medianSalaries` with four columns: (1) the player ID, (2) the first name of the player, (3) the last name of the player and (4) the median salary of the player. Show the head of the `medianSalaries` DataFrame.   "
   ]
  },
  {
   "cell_type": "code",
   "execution_count": 3,
   "metadata": {
    "collapsed": false
   },
   "outputs": [],
   "source": [
    "first_last = master[['nameFirst', 'nameLast']]\n",
    "yearID_salary = salaries[['salary', 'playerID']]"
   ]
  },
  {
   "cell_type": "code",
   "execution_count": 4,
   "metadata": {
    "collapsed": false
   },
   "outputs": [],
   "source": [
    "# put the playerID values into the index. This is for merging later\n",
    "yearID_salary.index = yearID_salary['playerID'].values"
   ]
  },
  {
   "cell_type": "code",
   "execution_count": 5,
   "metadata": {
    "collapsed": false
   },
   "outputs": [],
   "source": [
    "salary_first_last = pd.merge(left = yearID_salary, right = first_last,left_index=True, right_index=True, how = \"inner\")"
   ]
  },
  {
   "cell_type": "code",
   "execution_count": 6,
   "metadata": {
    "collapsed": false
   },
   "outputs": [
    {
     "data": {
      "text/html": [
       "<div>\n",
       "<table border=\"1\" class=\"dataframe\">\n",
       "  <thead>\n",
       "    <tr style=\"text-align: right;\">\n",
       "      <th></th>\n",
       "      <th>nameFirst</th>\n",
       "      <th>nameLast</th>\n",
       "      <th>playerID</th>\n",
       "      <th>salary</th>\n",
       "    </tr>\n",
       "  </thead>\n",
       "  <tbody>\n",
       "    <tr>\n",
       "      <th>0</th>\n",
       "      <td>A. J.</td>\n",
       "      <td>Burnett</td>\n",
       "      <td>burneaj01</td>\n",
       "      <td>3650000</td>\n",
       "    </tr>\n",
       "    <tr>\n",
       "      <th>1</th>\n",
       "      <td>A. J.</td>\n",
       "      <td>Ellis</td>\n",
       "      <td>ellisaj01</td>\n",
       "      <td>490000</td>\n",
       "    </tr>\n",
       "    <tr>\n",
       "      <th>2</th>\n",
       "      <td>A. J.</td>\n",
       "      <td>Griffin</td>\n",
       "      <td>griffaj01</td>\n",
       "      <td>492500</td>\n",
       "    </tr>\n",
       "    <tr>\n",
       "      <th>3</th>\n",
       "      <td>A. J.</td>\n",
       "      <td>Hinch</td>\n",
       "      <td>hinchaj01</td>\n",
       "      <td>245000</td>\n",
       "    </tr>\n",
       "    <tr>\n",
       "      <th>4</th>\n",
       "      <td>A. J.</td>\n",
       "      <td>Pierzynski</td>\n",
       "      <td>pierzaj01</td>\n",
       "      <td>4000000</td>\n",
       "    </tr>\n",
       "  </tbody>\n",
       "</table>\n",
       "</div>"
      ],
      "text/plain": [
       "  nameFirst    nameLast   playerID   salary\n",
       "0     A. J.     Burnett  burneaj01  3650000\n",
       "1     A. J.       Ellis  ellisaj01   490000\n",
       "2     A. J.     Griffin  griffaj01   492500\n",
       "3     A. J.       Hinch  hinchaj01   245000\n",
       "4     A. J.  Pierzynski  pierzaj01  4000000"
      ]
     },
     "execution_count": 6,
     "metadata": {},
     "output_type": "execute_result"
    }
   ],
   "source": [
    "medianSalaries = salary_first_last.groupby(['nameFirst', 'nameLast', 'playerID'])['salary'].median().reset_index()\n",
    "medianSalaries.head()"
   ]
  },
  {
   "cell_type": "markdown",
   "metadata": {},
   "source": [
    "#### Problem 1(c)\n",
    "\n",
    "Now, consider only team/season combinations in which the teams played 162 Games. Exclude all data from before 1947. Compute the per plate appearance rates for singles, doubles, triples, HR, and BB. Create a new pandas DataFrame called `stats` that has the teamID, yearID, wins and these rates.\n",
    "\n",
    "**Hint**: Singles are hits that are not doubles, triples, nor HR. Plate appearances are base on balls plus at bats."
   ]
  },
  {
   "cell_type": "markdown",
   "metadata": {},
   "source": [
    "PA = AB + BB"
   ]
  },
  {
   "cell_type": "code",
   "execution_count": 7,
   "metadata": {
    "collapsed": false
   },
   "outputs": [],
   "source": [
    "year_condition = teams['yearID'] >= 1947\n",
    "games_condition = teams['G'] >= 162"
   ]
  },
  {
   "cell_type": "code",
   "execution_count": 8,
   "metadata": {
    "collapsed": false
   },
   "outputs": [],
   "source": [
    "filtered_teams = teams[year_condition & games_condition]"
   ]
  },
  {
   "cell_type": "code",
   "execution_count": 9,
   "metadata": {
    "collapsed": false
   },
   "outputs": [],
   "source": [
    "PA = pd.Series(filtered_teams['AB']) + pd.Series(filtered_teams['BB'])"
   ]
  },
  {
   "cell_type": "code",
   "execution_count": 10,
   "metadata": {
    "collapsed": false
   },
   "outputs": [],
   "source": [
    "Singles = (pd.Series(filtered_teams['H']) - pd.Series(filtered_teams['2B']) - pd.Series(filtered_teams['3B']) - pd.Series(filtered_teams['HR']))/PA\n",
    "pa_singles = {'PA': PA, '1B':Singles}\n",
    "\n",
    "# updating dictionary, inside update is dictionary comprehension of everything divided by PA\n",
    "pa_singles.update({column:pd.Series(filtered_teams[column]) / PA for column in ['2B', '3B', 'HR', 'BB']})\n",
    "stats = pd.concat([filtered_teams[['teamID', 'yearID', 'W']], pd.DataFrame(data = pa_singles)], axis = 1)"
   ]
  },
  {
   "cell_type": "code",
   "execution_count": 11,
   "metadata": {
    "collapsed": false
   },
   "outputs": [
    {
     "data": {
      "text/html": [
       "<div>\n",
       "<table border=\"1\" class=\"dataframe\">\n",
       "  <thead>\n",
       "    <tr style=\"text-align: right;\">\n",
       "      <th></th>\n",
       "      <th>teamID</th>\n",
       "      <th>yearID</th>\n",
       "      <th>W</th>\n",
       "      <th>1B</th>\n",
       "      <th>2B</th>\n",
       "      <th>3B</th>\n",
       "      <th>BB</th>\n",
       "      <th>HR</th>\n",
       "      <th>PA</th>\n",
       "    </tr>\n",
       "  </thead>\n",
       "  <tbody>\n",
       "    <tr>\n",
       "      <th>1359</th>\n",
       "      <td>NYA</td>\n",
       "      <td>1961</td>\n",
       "      <td>109</td>\n",
       "      <td>0.161750</td>\n",
       "      <td>0.031793</td>\n",
       "      <td>0.006555</td>\n",
       "      <td>0.088987</td>\n",
       "      <td>0.039331</td>\n",
       "      <td>6102</td>\n",
       "    </tr>\n",
       "    <tr>\n",
       "      <th>1360</th>\n",
       "      <td>DET</td>\n",
       "      <td>1961</td>\n",
       "      <td>101</td>\n",
       "      <td>0.165704</td>\n",
       "      <td>0.034488</td>\n",
       "      <td>0.008502</td>\n",
       "      <td>0.107956</td>\n",
       "      <td>0.028874</td>\n",
       "      <td>6234</td>\n",
       "    </tr>\n",
       "    <tr>\n",
       "      <th>1361</th>\n",
       "      <td>BAL</td>\n",
       "      <td>1961</td>\n",
       "      <td>95</td>\n",
       "      <td>0.161828</td>\n",
       "      <td>0.037446</td>\n",
       "      <td>0.005939</td>\n",
       "      <td>0.095843</td>\n",
       "      <td>0.024579</td>\n",
       "      <td>6062</td>\n",
       "    </tr>\n",
       "    <tr>\n",
       "      <th>1362</th>\n",
       "      <td>CHA</td>\n",
       "      <td>1961</td>\n",
       "      <td>86</td>\n",
       "      <td>0.176056</td>\n",
       "      <td>0.035375</td>\n",
       "      <td>0.007534</td>\n",
       "      <td>0.090075</td>\n",
       "      <td>0.022601</td>\n",
       "      <td>6106</td>\n",
       "    </tr>\n",
       "    <tr>\n",
       "      <th>1364</th>\n",
       "      <td>BOS</td>\n",
       "      <td>1961</td>\n",
       "      <td>76</td>\n",
       "      <td>0.162632</td>\n",
       "      <td>0.040780</td>\n",
       "      <td>0.006011</td>\n",
       "      <td>0.105118</td>\n",
       "      <td>0.018197</td>\n",
       "      <td>6155</td>\n",
       "    </tr>\n",
       "  </tbody>\n",
       "</table>\n",
       "</div>"
      ],
      "text/plain": [
       "     teamID  yearID    W        1B        2B        3B        BB        HR  \\\n",
       "1359    NYA    1961  109  0.161750  0.031793  0.006555  0.088987  0.039331   \n",
       "1360    DET    1961  101  0.165704  0.034488  0.008502  0.107956  0.028874   \n",
       "1361    BAL    1961   95  0.161828  0.037446  0.005939  0.095843  0.024579   \n",
       "1362    CHA    1961   86  0.176056  0.035375  0.007534  0.090075  0.022601   \n",
       "1364    BOS    1961   76  0.162632  0.040780  0.006011  0.105118  0.018197   \n",
       "\n",
       "        PA  \n",
       "1359  6102  \n",
       "1360  6234  \n",
       "1361  6062  \n",
       "1362  6106  \n",
       "1364  6155  "
      ]
     },
     "execution_count": 11,
     "metadata": {},
     "output_type": "execute_result"
    }
   ],
   "source": [
    "stats.head()"
   ]
  },
  {
   "cell_type": "markdown",
   "metadata": {},
   "source": [
    "#### Problem 1(d)\n",
    "\n",
    "<b>Question: </b>Is there a noticeable time trend in the rates computed in Problem 1(c)? <br>\n",
    "There are seems to be an increasing number of 2B and HR as the years go by. There is also missing data in the graphs from the 1994–95 Major League Baseball strike. These trends are graphed below (HR, BB, 1B, 2B, 3B). "
   ]
  },
  {
   "cell_type": "code",
   "execution_count": 12,
   "metadata": {
    "collapsed": false
   },
   "outputs": [
    {
     "data": {
      "text/html": [
       "<div>\n",
       "<table border=\"1\" class=\"dataframe\">\n",
       "  <thead>\n",
       "    <tr style=\"text-align: right;\">\n",
       "      <th></th>\n",
       "      <th>yearID</th>\n",
       "      <th>1B</th>\n",
       "      <th>2B</th>\n",
       "      <th>3B</th>\n",
       "      <th>BB</th>\n",
       "      <th>HR</th>\n",
       "    </tr>\n",
       "  </thead>\n",
       "  <tbody>\n",
       "    <tr>\n",
       "      <th>0</th>\n",
       "      <td>1961</td>\n",
       "      <td>0.162924</td>\n",
       "      <td>0.035939</td>\n",
       "      <td>0.006568</td>\n",
       "      <td>0.099449</td>\n",
       "      <td>0.025648</td>\n",
       "    </tr>\n",
       "    <tr>\n",
       "      <th>1</th>\n",
       "      <td>1962</td>\n",
       "      <td>0.168355</td>\n",
       "      <td>0.035621</td>\n",
       "      <td>0.006772</td>\n",
       "      <td>0.089365</td>\n",
       "      <td>0.024662</td>\n",
       "    </tr>\n",
       "    <tr>\n",
       "      <th>2</th>\n",
       "      <td>1963</td>\n",
       "      <td>0.163161</td>\n",
       "      <td>0.033769</td>\n",
       "      <td>0.006798</td>\n",
       "      <td>0.080538</td>\n",
       "      <td>0.021204</td>\n",
       "    </tr>\n",
       "    <tr>\n",
       "      <th>3</th>\n",
       "      <td>1964</td>\n",
       "      <td>0.165559</td>\n",
       "      <td>0.035530</td>\n",
       "      <td>0.006330</td>\n",
       "      <td>0.080035</td>\n",
       "      <td>0.022923</td>\n",
       "    </tr>\n",
       "    <tr>\n",
       "      <th>4</th>\n",
       "      <td>1965</td>\n",
       "      <td>0.160910</td>\n",
       "      <td>0.035027</td>\n",
       "      <td>0.006557</td>\n",
       "      <td>0.083755</td>\n",
       "      <td>0.022416</td>\n",
       "    </tr>\n",
       "  </tbody>\n",
       "</table>\n",
       "</div>"
      ],
      "text/plain": [
       "   yearID        1B        2B        3B        BB        HR\n",
       "0    1961  0.162924  0.035939  0.006568  0.099449  0.025648\n",
       "1    1962  0.168355  0.035621  0.006772  0.089365  0.024662\n",
       "2    1963  0.163161  0.033769  0.006798  0.080538  0.021204\n",
       "3    1964  0.165559  0.035530  0.006330  0.080035  0.022923\n",
       "4    1965  0.160910  0.035027  0.006557  0.083755  0.022416"
      ]
     },
     "execution_count": 12,
     "metadata": {},
     "output_type": "execute_result"
    }
   ],
   "source": [
    "yearTrends = stats.groupby('yearID').mean().reset_index()\n",
    "\n",
    "try:\n",
    "    yearTrends.drop(['PA', 'W'], axis=1, inplace=True)\n",
    "except: \n",
    "    pass\n",
    "yearTrends.head()"
   ]
  },
  {
   "cell_type": "code",
   "execution_count": 13,
   "metadata": {
    "collapsed": false
   },
   "outputs": [
    {
     "data": {
      "image/png": "[encoded data removed]",
      "text/plain": [
       "<matplotlib.figure.Figure at 0x117ce6b10>"
      ]
     },
     "metadata": {},
     "output_type": "display_data"
    },
    {
     "data": {
      "image/png": "[encoded data removed]",
      "text/plain": [
       "<matplotlib.figure.Figure at 0x117ce6c10>"
      ]
     },
     "metadata": {},
     "output_type": "display_data"
    },
    {
     "data": {
      "image/png": "[encoded data removed]",
      "text/plain": [
       "<matplotlib.figure.Figure at 0x119567dd0>"
      ]
     },
     "metadata": {},
     "output_type": "display_data"
    },
    {
     "data": {
      "image/png": "[encoded data removed]",
      "text/plain": [
       "<matplotlib.figure.Figure at 0x1191006d0>"
      ]
     },
     "metadata": {},
     "output_type": "display_data"
    },
    {
     "data": {
      "image/png": "[encoded data removed]",
      "text/plain": [
       "<matplotlib.figure.Figure at 0x119184e50>"
      ]
     },
     "metadata": {},
     "output_type": "display_data"
    }
   ],
   "source": [
    "for base in ['HR', 'BB', '1B', '2B', '3B']:\n",
    "    yearTrends.plot(kind='scatter', x = 'yearID', y = base, s = 30);"
   ]
  },
  {
   "cell_type": "markdown",
   "metadata": {},
   "source": [
    "#### Problem 1(e) \n",
    "\n",
    "Using the `stats` DataFrame from Problem 1(c), adjust the singles per PA rates so that the average across teams for each year is 0. Do the same for the doubles, triples, HR, and BB rates. "
   ]
  },
  {
   "cell_type": "code",
   "execution_count": 14,
   "metadata": {
    "collapsed": false
   },
   "outputs": [],
   "source": [
    "stats.index = stats.yearID.values"
   ]
  },
  {
   "cell_type": "code",
   "execution_count": 15,
   "metadata": {
    "collapsed": false
   },
   "outputs": [],
   "source": [
    "stats_mean = stats.groupby('yearID')[['1B', '2B', '3B', 'HR', 'BB']].mean()\n",
    "stats_mean.index.name = None"
   ]
  },
  {
   "cell_type": "code",
   "execution_count": 16,
   "metadata": {
    "collapsed": false
   },
   "outputs": [
    {
     "data": {
      "text/html": [
       "<div>\n",
       "<table border=\"1\" class=\"dataframe\">\n",
       "  <thead>\n",
       "    <tr style=\"text-align: right;\">\n",
       "      <th></th>\n",
       "      <th>1B</th>\n",
       "      <th>2B</th>\n",
       "      <th>3B</th>\n",
       "      <th>BB</th>\n",
       "      <th>HR</th>\n",
       "      <th>teamID</th>\n",
       "      <th>yearID</th>\n",
       "      <th>W</th>\n",
       "    </tr>\n",
       "  </thead>\n",
       "  <tbody>\n",
       "    <tr>\n",
       "      <th>1961</th>\n",
       "      <td>-0.001174</td>\n",
       "      <td>-0.004146</td>\n",
       "      <td>-0.000012</td>\n",
       "      <td>-0.010462</td>\n",
       "      <td>0.013684</td>\n",
       "      <td>NYA</td>\n",
       "      <td>1961</td>\n",
       "      <td>109</td>\n",
       "    </tr>\n",
       "    <tr>\n",
       "      <th>1961</th>\n",
       "      <td>0.002780</td>\n",
       "      <td>-0.001451</td>\n",
       "      <td>0.001934</td>\n",
       "      <td>0.008507</td>\n",
       "      <td>0.003226</td>\n",
       "      <td>DET</td>\n",
       "      <td>1961</td>\n",
       "      <td>101</td>\n",
       "    </tr>\n",
       "    <tr>\n",
       "      <th>1961</th>\n",
       "      <td>-0.001096</td>\n",
       "      <td>0.001507</td>\n",
       "      <td>-0.000629</td>\n",
       "      <td>-0.003606</td>\n",
       "      <td>-0.001068</td>\n",
       "      <td>BAL</td>\n",
       "      <td>1961</td>\n",
       "      <td>95</td>\n",
       "    </tr>\n",
       "    <tr>\n",
       "      <th>1961</th>\n",
       "      <td>0.013132</td>\n",
       "      <td>-0.000564</td>\n",
       "      <td>0.000966</td>\n",
       "      <td>-0.009374</td>\n",
       "      <td>-0.003047</td>\n",
       "      <td>CHA</td>\n",
       "      <td>1961</td>\n",
       "      <td>86</td>\n",
       "    </tr>\n",
       "    <tr>\n",
       "      <th>1961</th>\n",
       "      <td>-0.000292</td>\n",
       "      <td>0.004841</td>\n",
       "      <td>-0.000556</td>\n",
       "      <td>0.005668</td>\n",
       "      <td>-0.007451</td>\n",
       "      <td>BOS</td>\n",
       "      <td>1961</td>\n",
       "      <td>76</td>\n",
       "    </tr>\n",
       "  </tbody>\n",
       "</table>\n",
       "</div>"
      ],
      "text/plain": [
       "            1B        2B        3B        BB        HR teamID  yearID    W\n",
       "1961 -0.001174 -0.004146 -0.000012 -0.010462  0.013684    NYA    1961  109\n",
       "1961  0.002780 -0.001451  0.001934  0.008507  0.003226    DET    1961  101\n",
       "1961 -0.001096  0.001507 -0.000629 -0.003606 -0.001068    BAL    1961   95\n",
       "1961  0.013132 -0.000564  0.000966 -0.009374 -0.003047    CHA    1961   86\n",
       "1961 -0.000292  0.004841 -0.000556  0.005668 -0.007451    BOS    1961   76"
      ]
     },
     "execution_count": 16,
     "metadata": {},
     "output_type": "execute_result"
    }
   ],
   "source": [
    "stats = pd.concat([stats[['1B', '2B', '3B', 'BB', 'HR']] - stats_mean, stats[['teamID', 'yearID', 'W']] ], axis = 1)\n",
    "stats.head()"
   ]
  },
  {
   "cell_type": "markdown",
   "metadata": {},
   "source": [
    "#### Problem 1(f)\n",
    "\n",
    "Build a simple linear regression model to predict the number of wins from the average adjusted singles, double, triples, HR, and BB rates. To decide which of these terms to include fit the model to data from 2002 and compute the average squared residuals from predictions to years past 2002. Use the fitted model to define a new sabermetric summary: offensive predicted wins (OPW). Hint: the new summary should be a linear combination of one to five of the five rates.\n"
   ]
  },
  {
   "cell_type": "code",
   "execution_count": 17,
   "metadata": {
    "collapsed": true
   },
   "outputs": [],
   "source": [
    "import math\n",
    "from math import isnan\n",
    "\n",
    "def corr(list1, list2):\n",
    "    '''Find correlation between 2 datasets. Removes NaNs'''\n",
    "    #Remove Nan:\n",
    "    new_list1, new_list2 = [], []\n",
    "    for i1,i2 in zip(list1,list2):\n",
    "        if (isnan(i1)==False) & (isnan(i2)==False):\n",
    "            new_list1.append(float(i1))\n",
    "            new_list2.append(float(i2))\n",
    "    cov = np.cov([new_list1,new_list2])[0][1]\n",
    "    std1 = np.std(new_list1)\n",
    "    std2 = np.std(new_list2)\n",
    "    corr = cov/(std1*std2)\n",
    "    return corr"
   ]
  },
  {
   "cell_type": "code",
   "execution_count": 18,
   "metadata": {
    "collapsed": false
   },
   "outputs": [
    {
     "name": "stdout",
     "output_type": "stream",
     "text": [
      "Correlations vs Wins\n",
      "HR 0.356460366494\n",
      "BB 0.353907579859\n",
      "3B 0.0836098870427\n",
      "2B 0.220768982251\n",
      "1B 0.12391416583\n"
     ]
    }
   ],
   "source": [
    "l1 = stats['W']\n",
    "print 'Correlations vs Wins'\n",
    "for head in ['HR','BB','3B','2B','1B']:\n",
    "    l2 = stats[head]\n",
    "    correlation = corr(l1,l2)\n",
    "    print head, correlation"
   ]
  },
  {
   "cell_type": "code",
   "execution_count": 19,
   "metadata": {
    "collapsed": false,
    "scrolled": true
   },
   "outputs": [],
   "source": [
    "import matplotlib.pyplot as plt\n",
    "from sklearn.linear_model import LinearRegression\n",
    "from sklearn.cross_validation import train_test_split\n",
    "\n",
    "train = stats[stats['yearID']<2002]\n",
    "valid = stats[stats['yearID']>=2002]\n",
    "x_train = train[['1B', '2B', '3B', 'BB', 'HR', 'W']];\n",
    "x_test = valid[['1B', '2B', '3B', 'BB', 'HR', 'W']];\n",
    "y_train = train['W']\n",
    "y_test = valid['W']"
   ]
  },
  {
   "cell_type": "code",
   "execution_count": 20,
   "metadata": {
    "collapsed": false
   },
   "outputs": [],
   "source": [
    "hit_type = ['HR', 'BB', '2B', '1B', '3B']"
   ]
  },
  {
   "cell_type": "code",
   "execution_count": 21,
   "metadata": {
    "collapsed": false
   },
   "outputs": [
    {
     "name": "stdout",
     "output_type": "stream",
     "text": [
      "[ 808.67753016] 0.144075352656\n",
      "Residual sum of squares: 112.01\n",
      "[ 808.67753016] 0.144075352656\n",
      "Residual sum of squares: 112.01\n",
      "[ 661.04694958  302.92859127] 0.235423404219\n",
      "Residual sum of squares: 100.05\n",
      "[ 582.53063644  335.68327466  639.32385273] 0.252102350139\n",
      "Residual sum of squares: 97.87\n",
      "[ 815.81907237  477.20191057  574.32614456  536.19943812] 0.365777146885\n",
      "Residual sum of squares: 82.99\n",
      "[  901.27995663   497.9811987    433.25242783   508.46196164  1290.8392896 ] 0.365913507791\n",
      "Residual sum of squares: 82.98\n"
     ]
    }
   ],
   "source": [
    "for index in xrange(6):\n",
    "    #print lama[0:index+1]\n",
    "    lm = LinearRegression()\n",
    "    if index == 0:\n",
    "        lm.fit(x_train['HR'].reshape(762,1), y_train)\n",
    "        print lm.coef_, lm.score(x_test['HR'].reshape(334,1), y_test)\n",
    "        print(\"Residual sum of squares: %.2f\" % np.mean((lm.predict(x_test['HR'].reshape(334,1)) - y_test) ** 2))\n",
    "    else:   \n",
    "        lm.fit(x_train[hit_type[0:index]], y_train)\n",
    "        print lm.coef_, lm.score(x_test[hit_type[0:index]], y_test)\n",
    "        print(\"Residual sum of squares: %.2f\" % np.mean((lm.predict(x_test[hit_type[0:index]]) - y_test) ** 2))"
   ]
  },
  {
   "cell_type": "code",
   "execution_count": 22,
   "metadata": {
    "collapsed": false
   },
   "outputs": [
    {
     "data": {
      "text/html": [
       "<div>\n",
       "<table border=\"1\" class=\"dataframe\">\n",
       "  <thead>\n",
       "    <tr style=\"text-align: right;\">\n",
       "      <th></th>\n",
       "      <th>1B</th>\n",
       "      <th>2B</th>\n",
       "      <th>3B</th>\n",
       "      <th>BB</th>\n",
       "      <th>HR</th>\n",
       "      <th>teamID</th>\n",
       "      <th>yearID</th>\n",
       "      <th>W</th>\n",
       "      <th>OPW</th>\n",
       "    </tr>\n",
       "  </thead>\n",
       "  <tbody>\n",
       "    <tr>\n",
       "      <th>1961</th>\n",
       "      <td>-0.001174</td>\n",
       "      <td>-0.004146</td>\n",
       "      <td>-0.000012</td>\n",
       "      <td>-0.010462</td>\n",
       "      <td>0.013684</td>\n",
       "      <td>NYA</td>\n",
       "      <td>1961</td>\n",
       "      <td>109</td>\n",
       "      <td>4.713727</td>\n",
       "    </tr>\n",
       "    <tr>\n",
       "      <th>1961</th>\n",
       "      <td>0.002780</td>\n",
       "      <td>-0.001451</td>\n",
       "      <td>0.001934</td>\n",
       "      <td>0.008507</td>\n",
       "      <td>0.003226</td>\n",
       "      <td>DET</td>\n",
       "      <td>1961</td>\n",
       "      <td>101</td>\n",
       "      <td>10.425825</td>\n",
       "    </tr>\n",
       "    <tr>\n",
       "      <th>1961</th>\n",
       "      <td>-0.001096</td>\n",
       "      <td>0.001507</td>\n",
       "      <td>-0.000629</td>\n",
       "      <td>-0.003606</td>\n",
       "      <td>-0.001068</td>\n",
       "      <td>BAL</td>\n",
       "      <td>1961</td>\n",
       "      <td>95</td>\n",
       "      <td>-3.475037</td>\n",
       "    </tr>\n",
       "    <tr>\n",
       "      <th>1961</th>\n",
       "      <td>0.013132</td>\n",
       "      <td>-0.000564</td>\n",
       "      <td>0.000966</td>\n",
       "      <td>-0.009374</td>\n",
       "      <td>-0.003047</td>\n",
       "      <td>CHA</td>\n",
       "      <td>1961</td>\n",
       "      <td>86</td>\n",
       "      <td>0.265575</td>\n",
       "    </tr>\n",
       "    <tr>\n",
       "      <th>1961</th>\n",
       "      <td>-0.000292</td>\n",
       "      <td>0.004841</td>\n",
       "      <td>-0.000556</td>\n",
       "      <td>0.005668</td>\n",
       "      <td>-0.007451</td>\n",
       "      <td>BOS</td>\n",
       "      <td>1961</td>\n",
       "      <td>76</td>\n",
       "      <td>-2.661951</td>\n",
       "    </tr>\n",
       "    <tr>\n",
       "      <th>1961</th>\n",
       "      <td>-0.015176</td>\n",
       "      <td>-0.000231</td>\n",
       "      <td>-0.002964</td>\n",
       "      <td>0.012098</td>\n",
       "      <td>0.005311</td>\n",
       "      <td>LAA</td>\n",
       "      <td>1961</td>\n",
       "      <td>70</td>\n",
       "      <td>-0.831386</td>\n",
       "    </tr>\n",
       "    <tr>\n",
       "      <th>1961</th>\n",
       "      <td>0.001827</td>\n",
       "      <td>0.000043</td>\n",
       "      <td>0.001262</td>\n",
       "      <td>-0.002831</td>\n",
       "      <td>-0.010655</td>\n",
       "      <td>KC1</td>\n",
       "      <td>1961</td>\n",
       "      <td>61</td>\n",
       "      <td>-8.436753</td>\n",
       "    </tr>\n",
       "    <tr>\n",
       "      <th>1962</th>\n",
       "      <td>-0.001207</td>\n",
       "      <td>0.002915</td>\n",
       "      <td>-0.002116</td>\n",
       "      <td>0.004405</td>\n",
       "      <td>0.007291</td>\n",
       "      <td>NYA</td>\n",
       "      <td>1962</td>\n",
       "      <td>96</td>\n",
       "      <td>6.682763</td>\n",
       "    </tr>\n",
       "    <tr>\n",
       "      <th>1962</th>\n",
       "      <td>-0.006358</td>\n",
       "      <td>-0.000999</td>\n",
       "      <td>-0.000492</td>\n",
       "      <td>0.015144</td>\n",
       "      <td>0.005129</td>\n",
       "      <td>MIN</td>\n",
       "      <td>1962</td>\n",
       "      <td>91</td>\n",
       "      <td>7.862983</td>\n",
       "    </tr>\n",
       "    <tr>\n",
       "      <th>1962</th>\n",
       "      <td>-0.008873</td>\n",
       "      <td>0.002406</td>\n",
       "      <td>-0.001035</td>\n",
       "      <td>0.009307</td>\n",
       "      <td>-0.002206</td>\n",
       "      <td>LAA</td>\n",
       "      <td>1962</td>\n",
       "      <td>86</td>\n",
       "      <td>-2.159578</td>\n",
       "    </tr>\n",
       "  </tbody>\n",
       "</table>\n",
       "</div>"
      ],
      "text/plain": [
       "            1B        2B        3B        BB        HR teamID  yearID    W  \\\n",
       "1961 -0.001174 -0.004146 -0.000012 -0.010462  0.013684    NYA    1961  109   \n",
       "1961  0.002780 -0.001451  0.001934  0.008507  0.003226    DET    1961  101   \n",
       "1961 -0.001096  0.001507 -0.000629 -0.003606 -0.001068    BAL    1961   95   \n",
       "1961  0.013132 -0.000564  0.000966 -0.009374 -0.003047    CHA    1961   86   \n",
       "1961 -0.000292  0.004841 -0.000556  0.005668 -0.007451    BOS    1961   76   \n",
       "1961 -0.015176 -0.000231 -0.002964  0.012098  0.005311    LAA    1961   70   \n",
       "1961  0.001827  0.000043  0.001262 -0.002831 -0.010655    KC1    1961   61   \n",
       "1962 -0.001207  0.002915 -0.002116  0.004405  0.007291    NYA    1962   96   \n",
       "1962 -0.006358 -0.000999 -0.000492  0.015144  0.005129    MIN    1962   91   \n",
       "1962 -0.008873  0.002406 -0.001035  0.009307 -0.002206    LAA    1962   86   \n",
       "\n",
       "            OPW  \n",
       "1961   4.713727  \n",
       "1961  10.425825  \n",
       "1961  -3.475037  \n",
       "1961   0.265575  \n",
       "1961  -2.661951  \n",
       "1961  -0.831386  \n",
       "1961  -8.436753  \n",
       "1962   6.682763  \n",
       "1962   7.862983  \n",
       "1962  -2.159578  "
      ]
     },
     "execution_count": 22,
     "metadata": {},
     "output_type": "execute_result"
    }
   ],
   "source": [
    "opw_dict = {hit:pd.Series(stats[hit])*lm.coef_[index] for index, hit in enumerate(hit_type)}\n",
    "opw_df = pd.DataFrame(data = {'OPW':pd.DataFrame(data = opw_dict).sum(axis = 1)})\n",
    "pd.concat([stats, opw_df ], axis = 1).head(10)"
   ]
  },
  {
   "cell_type": "markdown",
   "metadata": {},
   "source": [
    "#### Problem 1(g)\n",
    "\n",
    "Now we will create a similar database for individual players. Consider only player/year combinations in which the player had at least 500 plate appearances. Consider only the years we considered for the calculations above (after 1947 and seasons with 162 games). For each player/year compute singles, doubles, triples, HR, BB per plate appearance rates. Create a new pandas DataFrame called `playerstats` that has the playerID, yearID and the rates of these stats.  Remove the average for each year as for these rates as done in Problem 1(e). "
   ]
  },
  {
   "cell_type": "code",
   "execution_count": 23,
   "metadata": {
    "collapsed": false
   },
   "outputs": [],
   "source": [
    "year_cond = players['yearID'] >= 1947\n",
    "game_cond = players['G'] >= 162\n",
    "players = players[year_cond & game_cond]\n",
    "players.index = players.yearID.values"
   ]
  },
  {
   "cell_type": "code",
   "execution_count": 24,
   "metadata": {
    "collapsed": false
   },
   "outputs": [],
   "source": [
    "PA = pd.Series(players['AB']) + pd.Series(players['BB'])\n",
    "singles = (pd.Series(players['H']) - pd.Series(players['2B']) - pd.Series(players['3B']) - pd.Series(players['HR']))/PA"
   ]
  },
  {
   "cell_type": "code",
   "execution_count": 25,
   "metadata": {
    "collapsed": false
   },
   "outputs": [],
   "source": [
    "pa_singles = {'1B':singles, 'PA': PA}\n",
    "# updating dictionary, inside update is dictionary comprehension of everything divided by PA\n",
    "pa_singles.update({column:pd.Series(players[column]) / PA for column in ['2B', '3B', 'HR', 'BB']})\n",
    "playerstats = pd.concat([players[['playerID', 'yearID']], pd.DataFrame(data = pa_singles)], axis = 1)\n",
    "playerstats = playerstats[playerstats['PA'] >= 500]"
   ]
  },
  {
   "cell_type": "code",
   "execution_count": 26,
   "metadata": {
    "collapsed": false
   },
   "outputs": [],
   "source": [
    "play_stats_mean = playerstats.groupby('yearID')[['1B', '2B', '3B', 'HR', 'BB']].mean()\n",
    "play_stats_mean.index.name = None\n",
    "play_stats_mean['playerID'] = ' '\n",
    "play_stats_mean['yearID'] = 0\n",
    "playerstats = playerstats[['1B', '2B', '3B', 'BB', 'HR', 'playerID', 'yearID']] + -1*play_stats_mean"
   ]
  },
  {
   "cell_type": "markdown",
   "metadata": {},
   "source": [
    "Show the head of the `playerstats` DataFrame. "
   ]
  },
  {
   "cell_type": "code",
   "execution_count": 27,
   "metadata": {
    "collapsed": false
   },
   "outputs": [
    {
     "data": {
      "text/html": [
       "<div>\n",
       "<table border=\"1\" class=\"dataframe\">\n",
       "  <thead>\n",
       "    <tr style=\"text-align: right;\">\n",
       "      <th></th>\n",
       "      <th>1B</th>\n",
       "      <th>2B</th>\n",
       "      <th>3B</th>\n",
       "      <th>BB</th>\n",
       "      <th>HR</th>\n",
       "      <th>playerID</th>\n",
       "      <th>yearID</th>\n",
       "    </tr>\n",
       "  </thead>\n",
       "  <tbody>\n",
       "    <tr>\n",
       "      <th>1961</th>\n",
       "      <td>-0.048011</td>\n",
       "      <td>0.007005</td>\n",
       "      <td>-0.006953</td>\n",
       "      <td>0.074385</td>\n",
       "      <td>0.041146</td>\n",
       "      <td>colavro01</td>\n",
       "      <td>1961</td>\n",
       "    </tr>\n",
       "    <tr>\n",
       "      <th>1961</th>\n",
       "      <td>0.033678</td>\n",
       "      <td>-0.011532</td>\n",
       "      <td>-0.002601</td>\n",
       "      <td>-0.044619</td>\n",
       "      <td>-0.019174</td>\n",
       "      <td>richabo01</td>\n",
       "      <td>1961</td>\n",
       "    </tr>\n",
       "    <tr>\n",
       "      <th>1961</th>\n",
       "      <td>0.015609</td>\n",
       "      <td>0.017048</td>\n",
       "      <td>-0.000036</td>\n",
       "      <td>-0.022237</td>\n",
       "      <td>-0.013719</td>\n",
       "      <td>robinbr01</td>\n",
       "      <td>1961</td>\n",
       "    </tr>\n",
       "    <tr>\n",
       "      <th>1961</th>\n",
       "      <td>-0.001277</td>\n",
       "      <td>-0.012520</td>\n",
       "      <td>0.009591</td>\n",
       "      <td>-0.007528</td>\n",
       "      <td>-0.008253</td>\n",
       "      <td>woodja01</td>\n",
       "      <td>1961</td>\n",
       "    </tr>\n",
       "    <tr>\n",
       "      <th>1962</th>\n",
       "      <td>0.007904</td>\n",
       "      <td>-0.001749</td>\n",
       "      <td>-0.006844</td>\n",
       "      <td>-0.031137</td>\n",
       "      <td>0.015932</td>\n",
       "      <td>cepedor01</td>\n",
       "      <td>1962</td>\n",
       "    </tr>\n",
       "  </tbody>\n",
       "</table>\n",
       "</div>"
      ],
      "text/plain": [
       "            1B        2B        3B        BB        HR   playerID  yearID\n",
       "1961 -0.048011  0.007005 -0.006953  0.074385  0.041146  colavro01    1961\n",
       "1961  0.033678 -0.011532 -0.002601 -0.044619 -0.019174  richabo01    1961\n",
       "1961  0.015609  0.017048 -0.000036 -0.022237 -0.013719  robinbr01    1961\n",
       "1961 -0.001277 -0.012520  0.009591 -0.007528 -0.008253   woodja01    1961\n",
       "1962  0.007904 -0.001749 -0.006844 -0.031137  0.015932  cepedor01    1962"
      ]
     },
     "execution_count": 27,
     "metadata": {},
     "output_type": "execute_result"
    }
   ],
   "source": [
    "playerstats.head()"
   ]
  },
  {
   "cell_type": "markdown",
   "metadata": {},
   "source": [
    "#### Problem 1(h)\n",
    "\n",
    "Using the `playerstats` DataFrame created in Problem 1(g), create a new DataFrame called `playerLS` containing the player's lifetime stats. This DataFrame should contain the playerID, the year the player's career started, the year the player's career ended and the player's lifetime average for each of the quantities (singles, doubles, triples, HR, BB). For simplicity we will simply compute the average of the rates by year (a more correct way is to go back to the totals). "
   ]
  },
  {
   "cell_type": "code",
   "execution_count": 28,
   "metadata": {
    "collapsed": false
   },
   "outputs": [],
   "source": [
    "careerAverage = playerstats.groupby('playerID')[['1B', '2B', '3B', 'HR', 'BB']].mean()\n",
    "careerAverage.index.name = None"
   ]
  },
  {
   "cell_type": "code",
   "execution_count": 29,
   "metadata": {
    "collapsed": false
   },
   "outputs": [],
   "source": [
    "yearStart = playerstats[['playerID', 'yearID']].groupby('playerID').min()\n",
    "yearEnd = playerstats[['playerID', 'yearID']].groupby('playerID').max()\n",
    "yearStart.index.name = None\n",
    "yearEnd.index.name = None\n",
    "yearEnd.rename(columns={'yearID': 'Career Ended'}, inplace=True)\n",
    "yearStart.rename(columns={'yearID': 'Career Start'}, inplace=True)\n",
    "#yearEnd\n",
    "playerLS = pd.concat([careerAverage,yearStart, yearEnd], axis=1)\n",
    "playerLS['playerID'] = playerLS.index.values"
   ]
  },
  {
   "cell_type": "markdown",
   "metadata": {},
   "source": [
    "Show the head of the `playerLS` DataFrame. "
   ]
  },
  {
   "cell_type": "code",
   "execution_count": 30,
   "metadata": {
    "collapsed": false
   },
   "outputs": [
    {
     "data": {
      "text/html": [
       "<div>\n",
       "<table border=\"1\" class=\"dataframe\">\n",
       "  <thead>\n",
       "    <tr style=\"text-align: right;\">\n",
       "      <th></th>\n",
       "      <th>1B</th>\n",
       "      <th>2B</th>\n",
       "      <th>3B</th>\n",
       "      <th>HR</th>\n",
       "      <th>BB</th>\n",
       "      <th>Career Start</th>\n",
       "      <th>Career Ended</th>\n",
       "      <th>playerID</th>\n",
       "    </tr>\n",
       "  </thead>\n",
       "  <tbody>\n",
       "    <tr>\n",
       "      <th>abreubo01</th>\n",
       "      <td>-0.022295</td>\n",
       "      <td>0.008226</td>\n",
       "      <td>-0.002379</td>\n",
       "      <td>-0.003980</td>\n",
       "      <td>0.054759</td>\n",
       "      <td>2001</td>\n",
       "      <td>2005</td>\n",
       "      <td>abreubo01</td>\n",
       "    </tr>\n",
       "    <tr>\n",
       "      <th>allendi01</th>\n",
       "      <td>-0.004268</td>\n",
       "      <td>0.015058</td>\n",
       "      <td>0.010584</td>\n",
       "      <td>0.012612</td>\n",
       "      <td>0.014706</td>\n",
       "      <td>1964</td>\n",
       "      <td>1964</td>\n",
       "      <td>allendi01</td>\n",
       "    </tr>\n",
       "    <tr>\n",
       "      <th>alomasa01</th>\n",
       "      <td>0.011155</td>\n",
       "      <td>-0.008823</td>\n",
       "      <td>-0.002639</td>\n",
       "      <td>-0.012807</td>\n",
       "      <td>-0.030193</td>\n",
       "      <td>1970</td>\n",
       "      <td>1971</td>\n",
       "      <td>alomasa01</td>\n",
       "    </tr>\n",
       "    <tr>\n",
       "      <th>alouma01</th>\n",
       "      <td>0.077250</td>\n",
       "      <td>0.015560</td>\n",
       "      <td>0.001520</td>\n",
       "      <td>-0.033637</td>\n",
       "      <td>-0.059120</td>\n",
       "      <td>1969</td>\n",
       "      <td>1969</td>\n",
       "      <td>alouma01</td>\n",
       "    </tr>\n",
       "    <tr>\n",
       "      <th>bagweje01</th>\n",
       "      <td>-0.026592</td>\n",
       "      <td>0.007757</td>\n",
       "      <td>-0.001099</td>\n",
       "      <td>0.012338</td>\n",
       "      <td>0.057971</td>\n",
       "      <td>1992</td>\n",
       "      <td>1999</td>\n",
       "      <td>bagweje01</td>\n",
       "    </tr>\n",
       "  </tbody>\n",
       "</table>\n",
       "</div>"
      ],
      "text/plain": [
       "                 1B        2B        3B        HR        BB  Career Start  \\\n",
       "abreubo01 -0.022295  0.008226 -0.002379 -0.003980  0.054759          2001   \n",
       "allendi01 -0.004268  0.015058  0.010584  0.012612  0.014706          1964   \n",
       "alomasa01  0.011155 -0.008823 -0.002639 -0.012807 -0.030193          1970   \n",
       "alouma01   0.077250  0.015560  0.001520 -0.033637 -0.059120          1969   \n",
       "bagweje01 -0.026592  0.007757 -0.001099  0.012338  0.057971          1992   \n",
       "\n",
       "           Career Ended   playerID  \n",
       "abreubo01          2005  abreubo01  \n",
       "allendi01          1964  allendi01  \n",
       "alomasa01          1971  alomasa01  \n",
       "alouma01           1969   alouma01  \n",
       "bagweje01          1999  bagweje01  "
      ]
     },
     "execution_count": 30,
     "metadata": {},
     "output_type": "execute_result"
    }
   ],
   "source": [
    "# only including valid years that have over 500 plate appearances\n",
    "playerLS.head()"
   ]
  },
  {
   "cell_type": "markdown",
   "metadata": {},
   "source": [
    "#### Problem 1(i)\n",
    "\n",
    "Compute the OPW for each player based on the average rates in the `playerLS` DataFrame. You can interpret this summary statistic as the predicted wins for a team with 9 batters exactly like the player in question. Add this column to the playerLS DataFrame. Call this colum OPW."
   ]
  },
  {
   "cell_type": "code",
   "execution_count": 31,
   "metadata": {
    "collapsed": false
   },
   "outputs": [
    {
     "data": {
      "text/html": [
       "<div>\n",
       "<table border=\"1\" class=\"dataframe\">\n",
       "  <thead>\n",
       "    <tr style=\"text-align: right;\">\n",
       "      <th></th>\n",
       "      <th>Career Ended</th>\n",
       "      <th>Career Start</th>\n",
       "      <th>playerID</th>\n",
       "      <th>OPW</th>\n",
       "      <th>1B</th>\n",
       "      <th>2B</th>\n",
       "      <th>3B</th>\n",
       "      <th>HR</th>\n",
       "      <th>BB</th>\n",
       "    </tr>\n",
       "  </thead>\n",
       "  <tbody>\n",
       "    <tr>\n",
       "      <th>abreubo01</th>\n",
       "      <td>2005</td>\n",
       "      <td>2001</td>\n",
       "      <td>abreubo01</td>\n",
       "      <td>12.838543</td>\n",
       "      <td>-0.022295</td>\n",
       "      <td>0.008226</td>\n",
       "      <td>-0.002379</td>\n",
       "      <td>-0.003980</td>\n",
       "      <td>0.054759</td>\n",
       "    </tr>\n",
       "    <tr>\n",
       "      <th>allendi01</th>\n",
       "      <td>1964</td>\n",
       "      <td>1964</td>\n",
       "      <td>allendi01</td>\n",
       "      <td>36.706075</td>\n",
       "      <td>-0.004268</td>\n",
       "      <td>0.015058</td>\n",
       "      <td>0.010584</td>\n",
       "      <td>0.012612</td>\n",
       "      <td>0.014706</td>\n",
       "    </tr>\n",
       "    <tr>\n",
       "      <th>alomasa01</th>\n",
       "      <td>1971</td>\n",
       "      <td>1970</td>\n",
       "      <td>alomasa01</td>\n",
       "      <td>-28.135106</td>\n",
       "      <td>0.011155</td>\n",
       "      <td>-0.008823</td>\n",
       "      <td>-0.002639</td>\n",
       "      <td>-0.012807</td>\n",
       "      <td>-0.030193</td>\n",
       "    </tr>\n",
       "    <tr>\n",
       "      <th>alouma01</th>\n",
       "      <td>1969</td>\n",
       "      <td>1969</td>\n",
       "      <td>alouma01</td>\n",
       "      <td>-11.774550</td>\n",
       "      <td>0.077250</td>\n",
       "      <td>0.015560</td>\n",
       "      <td>0.001520</td>\n",
       "      <td>-0.033637</td>\n",
       "      <td>-0.059120</td>\n",
       "    </tr>\n",
       "    <tr>\n",
       "      <th>bagweje01</th>\n",
       "      <td>1999</td>\n",
       "      <td>1992</td>\n",
       "      <td>bagweje01</td>\n",
       "      <td>28.409838</td>\n",
       "      <td>-0.026592</td>\n",
       "      <td>0.007757</td>\n",
       "      <td>-0.001099</td>\n",
       "      <td>0.012338</td>\n",
       "      <td>0.057971</td>\n",
       "    </tr>\n",
       "  </tbody>\n",
       "</table>\n",
       "</div>"
      ],
      "text/plain": [
       "           Career Ended  Career Start   playerID        OPW        1B  \\\n",
       "abreubo01          2005          2001  abreubo01  12.838543 -0.022295   \n",
       "allendi01          1964          1964  allendi01  36.706075 -0.004268   \n",
       "alomasa01          1971          1970  alomasa01 -28.135106  0.011155   \n",
       "alouma01           1969          1969   alouma01 -11.774550  0.077250   \n",
       "bagweje01          1999          1992  bagweje01  28.409838 -0.026592   \n",
       "\n",
       "                 2B        3B        HR        BB  \n",
       "abreubo01  0.008226 -0.002379 -0.003980  0.054759  \n",
       "allendi01  0.015058  0.010584  0.012612  0.014706  \n",
       "alomasa01 -0.008823 -0.002639 -0.012807 -0.030193  \n",
       "alouma01   0.015560  0.001520 -0.033637 -0.059120  \n",
       "bagweje01  0.007757 -0.001099  0.012338  0.057971  "
      ]
     },
     "execution_count": 31,
     "metadata": {},
     "output_type": "execute_result"
    }
   ],
   "source": [
    "opw_hits = {hit:pd.Series(playerLS[hit])*lm.coef_[index] for index, hit in enumerate(hit_type)}\n",
    "start_end = {}\n",
    "start_end.update({'Career Start': pd.Series(playerLS['Career Start']), 'Career Ended': pd.Series(playerLS['Career Ended']), 'playerID': pd.Series(playerLS['playerID']) })\n",
    "start_end_df = pd.DataFrame(data = start_end)\n",
    "opw = pd.DataFrame(data = {'OPW':pd.DataFrame(data = opw_hits).sum(axis = 1)})\n",
    "playerLS = pd.concat([start_end_df, opw, playerLS[['1B', '2B', '3B', 'HR', 'BB']] ], axis = 1)\n",
    "playerLS.head()"
   ]
  },
  {
   "cell_type": "markdown",
   "metadata": {},
   "source": [
    "#### Problem 1(j)\n",
    "\n",
    "Add four columns to the `playerLS` DataFrame that contains the player's position (C, 1B, 2B, 3B, SS, LF, CF, RF, or OF), first name, last name and median salary. "
   ]
  },
  {
   "cell_type": "code",
   "execution_count": 32,
   "metadata": {
    "collapsed": false
   },
   "outputs": [
    {
     "data": {
      "text/html": [
       "<div>\n",
       "<table border=\"1\" class=\"dataframe\">\n",
       "  <thead>\n",
       "    <tr style=\"text-align: right;\">\n",
       "      <th></th>\n",
       "      <th>nameFirst</th>\n",
       "      <th>nameLast</th>\n",
       "      <th>playerID</th>\n",
       "      <th>salary</th>\n",
       "    </tr>\n",
       "  </thead>\n",
       "  <tbody>\n",
       "    <tr>\n",
       "      <th>0</th>\n",
       "      <td>A. J.</td>\n",
       "      <td>Burnett</td>\n",
       "      <td>burneaj01</td>\n",
       "      <td>3650000</td>\n",
       "    </tr>\n",
       "    <tr>\n",
       "      <th>1</th>\n",
       "      <td>A. J.</td>\n",
       "      <td>Ellis</td>\n",
       "      <td>ellisaj01</td>\n",
       "      <td>490000</td>\n",
       "    </tr>\n",
       "    <tr>\n",
       "      <th>2</th>\n",
       "      <td>A. J.</td>\n",
       "      <td>Griffin</td>\n",
       "      <td>griffaj01</td>\n",
       "      <td>492500</td>\n",
       "    </tr>\n",
       "    <tr>\n",
       "      <th>3</th>\n",
       "      <td>A. J.</td>\n",
       "      <td>Hinch</td>\n",
       "      <td>hinchaj01</td>\n",
       "      <td>245000</td>\n",
       "    </tr>\n",
       "    <tr>\n",
       "      <th>4</th>\n",
       "      <td>A. J.</td>\n",
       "      <td>Pierzynski</td>\n",
       "      <td>pierzaj01</td>\n",
       "      <td>4000000</td>\n",
       "    </tr>\n",
       "  </tbody>\n",
       "</table>\n",
       "</div>"
      ],
      "text/plain": [
       "  nameFirst    nameLast   playerID   salary\n",
       "0     A. J.     Burnett  burneaj01  3650000\n",
       "1     A. J.       Ellis  ellisaj01   490000\n",
       "2     A. J.     Griffin  griffaj01   492500\n",
       "3     A. J.       Hinch  hinchaj01   245000\n",
       "4     A. J.  Pierzynski  pierzaj01  4000000"
      ]
     },
     "execution_count": 32,
     "metadata": {},
     "output_type": "execute_result"
    }
   ],
   "source": [
    "medianSalaries.head()"
   ]
  },
  {
   "cell_type": "code",
   "execution_count": 33,
   "metadata": {
    "collapsed": false
   },
   "outputs": [
    {
     "data": {
      "text/html": [
       "<div>\n",
       "<table border=\"1\" class=\"dataframe\">\n",
       "  <thead>\n",
       "    <tr style=\"text-align: right;\">\n",
       "      <th></th>\n",
       "      <th>Career Ended</th>\n",
       "      <th>Career Start</th>\n",
       "      <th>playerID</th>\n",
       "      <th>OPW</th>\n",
       "      <th>1B</th>\n",
       "      <th>2B</th>\n",
       "      <th>3B</th>\n",
       "      <th>HR</th>\n",
       "      <th>BB</th>\n",
       "    </tr>\n",
       "  </thead>\n",
       "  <tbody>\n",
       "    <tr>\n",
       "      <th>abreubo01</th>\n",
       "      <td>2005</td>\n",
       "      <td>2001</td>\n",
       "      <td>abreubo01</td>\n",
       "      <td>12.838543</td>\n",
       "      <td>-0.022295</td>\n",
       "      <td>0.008226</td>\n",
       "      <td>-0.002379</td>\n",
       "      <td>-0.003980</td>\n",
       "      <td>0.054759</td>\n",
       "    </tr>\n",
       "    <tr>\n",
       "      <th>allendi01</th>\n",
       "      <td>1964</td>\n",
       "      <td>1964</td>\n",
       "      <td>allendi01</td>\n",
       "      <td>36.706075</td>\n",
       "      <td>-0.004268</td>\n",
       "      <td>0.015058</td>\n",
       "      <td>0.010584</td>\n",
       "      <td>0.012612</td>\n",
       "      <td>0.014706</td>\n",
       "    </tr>\n",
       "    <tr>\n",
       "      <th>alomasa01</th>\n",
       "      <td>1971</td>\n",
       "      <td>1970</td>\n",
       "      <td>alomasa01</td>\n",
       "      <td>-28.135106</td>\n",
       "      <td>0.011155</td>\n",
       "      <td>-0.008823</td>\n",
       "      <td>-0.002639</td>\n",
       "      <td>-0.012807</td>\n",
       "      <td>-0.030193</td>\n",
       "    </tr>\n",
       "    <tr>\n",
       "      <th>alouma01</th>\n",
       "      <td>1969</td>\n",
       "      <td>1969</td>\n",
       "      <td>alouma01</td>\n",
       "      <td>-11.774550</td>\n",
       "      <td>0.077250</td>\n",
       "      <td>0.015560</td>\n",
       "      <td>0.001520</td>\n",
       "      <td>-0.033637</td>\n",
       "      <td>-0.059120</td>\n",
       "    </tr>\n",
       "    <tr>\n",
       "      <th>bagweje01</th>\n",
       "      <td>1999</td>\n",
       "      <td>1992</td>\n",
       "      <td>bagweje01</td>\n",
       "      <td>28.409838</td>\n",
       "      <td>-0.026592</td>\n",
       "      <td>0.007757</td>\n",
       "      <td>-0.001099</td>\n",
       "      <td>0.012338</td>\n",
       "      <td>0.057971</td>\n",
       "    </tr>\n",
       "  </tbody>\n",
       "</table>\n",
       "</div>"
      ],
      "text/plain": [
       "           Career Ended  Career Start   playerID        OPW        1B  \\\n",
       "abreubo01          2005          2001  abreubo01  12.838543 -0.022295   \n",
       "allendi01          1964          1964  allendi01  36.706075 -0.004268   \n",
       "alomasa01          1971          1970  alomasa01 -28.135106  0.011155   \n",
       "alouma01           1969          1969   alouma01 -11.774550  0.077250   \n",
       "bagweje01          1999          1992  bagweje01  28.409838 -0.026592   \n",
       "\n",
       "                 2B        3B        HR        BB  \n",
       "abreubo01  0.008226 -0.002379 -0.003980  0.054759  \n",
       "allendi01  0.015058  0.010584  0.012612  0.014706  \n",
       "alomasa01 -0.008823 -0.002639 -0.012807 -0.030193  \n",
       "alouma01   0.015560  0.001520 -0.033637 -0.059120  \n",
       "bagweje01  0.007757 -0.001099  0.012338  0.057971  "
      ]
     },
     "execution_count": 33,
     "metadata": {},
     "output_type": "execute_result"
    }
   ],
   "source": [
    "playerLS.head()"
   ]
  },
  {
   "cell_type": "code",
   "execution_count": 34,
   "metadata": {
    "collapsed": false
   },
   "outputs": [],
   "source": [
    "playerLS = playerLS.merge(medianSalaries, how='inner', on='playerID')\n",
    "playerID_Pos = fielding[['playerID','POS']]\n",
    "playerLS = playerLS.merge(playerID_Pos, how='inner', on='playerID')"
   ]
  },
  {
   "cell_type": "code",
   "execution_count": 35,
   "metadata": {
    "collapsed": false
   },
   "outputs": [],
   "source": [
    "playerLS = playerLS.drop_duplicates() # delete multiples of same position with same player"
   ]
  },
  {
   "cell_type": "markdown",
   "metadata": {},
   "source": [
    "Show the head of the `playerLS` DataFrame. "
   ]
  },
  {
   "cell_type": "code",
   "execution_count": 36,
   "metadata": {
    "collapsed": false
   },
   "outputs": [
    {
     "data": {
      "text/html": [
       "<div>\n",
       "<table border=\"1\" class=\"dataframe\">\n",
       "  <thead>\n",
       "    <tr style=\"text-align: right;\">\n",
       "      <th></th>\n",
       "      <th>Career Ended</th>\n",
       "      <th>Career Start</th>\n",
       "      <th>playerID</th>\n",
       "      <th>OPW</th>\n",
       "      <th>1B</th>\n",
       "      <th>2B</th>\n",
       "      <th>3B</th>\n",
       "      <th>HR</th>\n",
       "      <th>BB</th>\n",
       "      <th>nameFirst</th>\n",
       "      <th>nameLast</th>\n",
       "      <th>salary</th>\n",
       "      <th>POS</th>\n",
       "    </tr>\n",
       "  </thead>\n",
       "  <tbody>\n",
       "    <tr>\n",
       "      <th>0</th>\n",
       "      <td>2005</td>\n",
       "      <td>2001</td>\n",
       "      <td>abreubo01</td>\n",
       "      <td>12.838543</td>\n",
       "      <td>-0.022295</td>\n",
       "      <td>0.008226</td>\n",
       "      <td>-0.002379</td>\n",
       "      <td>-0.00398</td>\n",
       "      <td>0.054759</td>\n",
       "      <td>Bobby</td>\n",
       "      <td>Abreu</td>\n",
       "      <td>9000000</td>\n",
       "      <td>LF</td>\n",
       "    </tr>\n",
       "    <tr>\n",
       "      <th>1</th>\n",
       "      <td>2005</td>\n",
       "      <td>2001</td>\n",
       "      <td>abreubo01</td>\n",
       "      <td>12.838543</td>\n",
       "      <td>-0.022295</td>\n",
       "      <td>0.008226</td>\n",
       "      <td>-0.002379</td>\n",
       "      <td>-0.00398</td>\n",
       "      <td>0.054759</td>\n",
       "      <td>Bobby</td>\n",
       "      <td>Abreu</td>\n",
       "      <td>9000000</td>\n",
       "      <td>OF</td>\n",
       "    </tr>\n",
       "    <tr>\n",
       "      <th>2</th>\n",
       "      <td>2005</td>\n",
       "      <td>2001</td>\n",
       "      <td>abreubo01</td>\n",
       "      <td>12.838543</td>\n",
       "      <td>-0.022295</td>\n",
       "      <td>0.008226</td>\n",
       "      <td>-0.002379</td>\n",
       "      <td>-0.00398</td>\n",
       "      <td>0.054759</td>\n",
       "      <td>Bobby</td>\n",
       "      <td>Abreu</td>\n",
       "      <td>9000000</td>\n",
       "      <td>RF</td>\n",
       "    </tr>\n",
       "    <tr>\n",
       "      <th>3</th>\n",
       "      <td>2005</td>\n",
       "      <td>2001</td>\n",
       "      <td>abreubo01</td>\n",
       "      <td>12.838543</td>\n",
       "      <td>-0.022295</td>\n",
       "      <td>0.008226</td>\n",
       "      <td>-0.002379</td>\n",
       "      <td>-0.00398</td>\n",
       "      <td>0.054759</td>\n",
       "      <td>Bobby</td>\n",
       "      <td>Abreu</td>\n",
       "      <td>9000000</td>\n",
       "      <td>CF</td>\n",
       "    </tr>\n",
       "    <tr>\n",
       "      <th>9</th>\n",
       "      <td>2005</td>\n",
       "      <td>2001</td>\n",
       "      <td>abreubo01</td>\n",
       "      <td>12.838543</td>\n",
       "      <td>-0.022295</td>\n",
       "      <td>0.008226</td>\n",
       "      <td>-0.002379</td>\n",
       "      <td>-0.00398</td>\n",
       "      <td>0.054759</td>\n",
       "      <td>Bobby</td>\n",
       "      <td>Abreu</td>\n",
       "      <td>9000000</td>\n",
       "      <td>DH</td>\n",
       "    </tr>\n",
       "  </tbody>\n",
       "</table>\n",
       "</div>"
      ],
      "text/plain": [
       "   Career Ended  Career Start   playerID        OPW        1B        2B  \\\n",
       "0          2005          2001  abreubo01  12.838543 -0.022295  0.008226   \n",
       "1          2005          2001  abreubo01  12.838543 -0.022295  0.008226   \n",
       "2          2005          2001  abreubo01  12.838543 -0.022295  0.008226   \n",
       "3          2005          2001  abreubo01  12.838543 -0.022295  0.008226   \n",
       "9          2005          2001  abreubo01  12.838543 -0.022295  0.008226   \n",
       "\n",
       "         3B       HR        BB nameFirst nameLast   salary POS  \n",
       "0 -0.002379 -0.00398  0.054759     Bobby    Abreu  9000000  LF  \n",
       "1 -0.002379 -0.00398  0.054759     Bobby    Abreu  9000000  OF  \n",
       "2 -0.002379 -0.00398  0.054759     Bobby    Abreu  9000000  RF  \n",
       "3 -0.002379 -0.00398  0.054759     Bobby    Abreu  9000000  CF  \n",
       "9 -0.002379 -0.00398  0.054759     Bobby    Abreu  9000000  DH  "
      ]
     },
     "execution_count": 36,
     "metadata": {},
     "output_type": "execute_result"
    }
   ],
   "source": [
    "playerLS.head()"
   ]
  },
  {
   "cell_type": "markdown",
   "metadata": {},
   "source": [
    "#### Problem 1(k)\n",
    "\n",
    "Subset the `playerLS` DataFrame for players active in 2002 and 2003 and played at least three years. Plot and describe the relationship bewteen the median salary (in millions) and the predicted number of wins. "
   ]
  },
  {
   "cell_type": "code",
   "execution_count": 37,
   "metadata": {
    "collapsed": false
   },
   "outputs": [
    {
     "name": "stdout",
     "output_type": "stream",
     "text": [
      "/Users/mgalarny/Documents/youtube/DSE220_Machine_Learning/IPynb\r\n"
     ]
    }
   ],
   "source": [
    "playerLS.to_csv('playerSalary.csv')\n",
    "!pwd"
   ]
  },
  {
   "cell_type": "code",
   "execution_count": 38,
   "metadata": {
    "collapsed": false
   },
   "outputs": [
    {
     "data": {
      "text/html": [
       "<div>\n",
       "<table border=\"1\" class=\"dataframe\">\n",
       "  <thead>\n",
       "    <tr style=\"text-align: right;\">\n",
       "      <th></th>\n",
       "      <th>Career Ended</th>\n",
       "      <th>Career Start</th>\n",
       "      <th>playerID</th>\n",
       "      <th>OPW</th>\n",
       "      <th>1B</th>\n",
       "      <th>2B</th>\n",
       "      <th>3B</th>\n",
       "      <th>HR</th>\n",
       "      <th>BB</th>\n",
       "      <th>nameFirst</th>\n",
       "      <th>nameLast</th>\n",
       "      <th>salary</th>\n",
       "      <th>POS</th>\n",
       "    </tr>\n",
       "  </thead>\n",
       "  <tbody>\n",
       "    <tr>\n",
       "      <th>0</th>\n",
       "      <td>2005</td>\n",
       "      <td>2001</td>\n",
       "      <td>abreubo01</td>\n",
       "      <td>12.838543</td>\n",
       "      <td>-0.022295</td>\n",
       "      <td>0.008226</td>\n",
       "      <td>-0.002379</td>\n",
       "      <td>-0.00398</td>\n",
       "      <td>0.054759</td>\n",
       "      <td>Bobby</td>\n",
       "      <td>Abreu</td>\n",
       "      <td>9000000</td>\n",
       "      <td>LF</td>\n",
       "    </tr>\n",
       "    <tr>\n",
       "      <th>1</th>\n",
       "      <td>2005</td>\n",
       "      <td>2001</td>\n",
       "      <td>abreubo01</td>\n",
       "      <td>12.838543</td>\n",
       "      <td>-0.022295</td>\n",
       "      <td>0.008226</td>\n",
       "      <td>-0.002379</td>\n",
       "      <td>-0.00398</td>\n",
       "      <td>0.054759</td>\n",
       "      <td>Bobby</td>\n",
       "      <td>Abreu</td>\n",
       "      <td>9000000</td>\n",
       "      <td>OF</td>\n",
       "    </tr>\n",
       "    <tr>\n",
       "      <th>2</th>\n",
       "      <td>2005</td>\n",
       "      <td>2001</td>\n",
       "      <td>abreubo01</td>\n",
       "      <td>12.838543</td>\n",
       "      <td>-0.022295</td>\n",
       "      <td>0.008226</td>\n",
       "      <td>-0.002379</td>\n",
       "      <td>-0.00398</td>\n",
       "      <td>0.054759</td>\n",
       "      <td>Bobby</td>\n",
       "      <td>Abreu</td>\n",
       "      <td>9000000</td>\n",
       "      <td>RF</td>\n",
       "    </tr>\n",
       "    <tr>\n",
       "      <th>3</th>\n",
       "      <td>2005</td>\n",
       "      <td>2001</td>\n",
       "      <td>abreubo01</td>\n",
       "      <td>12.838543</td>\n",
       "      <td>-0.022295</td>\n",
       "      <td>0.008226</td>\n",
       "      <td>-0.002379</td>\n",
       "      <td>-0.00398</td>\n",
       "      <td>0.054759</td>\n",
       "      <td>Bobby</td>\n",
       "      <td>Abreu</td>\n",
       "      <td>9000000</td>\n",
       "      <td>CF</td>\n",
       "    </tr>\n",
       "    <tr>\n",
       "      <th>9</th>\n",
       "      <td>2005</td>\n",
       "      <td>2001</td>\n",
       "      <td>abreubo01</td>\n",
       "      <td>12.838543</td>\n",
       "      <td>-0.022295</td>\n",
       "      <td>0.008226</td>\n",
       "      <td>-0.002379</td>\n",
       "      <td>-0.00398</td>\n",
       "      <td>0.054759</td>\n",
       "      <td>Bobby</td>\n",
       "      <td>Abreu</td>\n",
       "      <td>9000000</td>\n",
       "      <td>DH</td>\n",
       "    </tr>\n",
       "  </tbody>\n",
       "</table>\n",
       "</div>"
      ],
      "text/plain": [
       "   Career Ended  Career Start   playerID        OPW        1B        2B  \\\n",
       "0          2005          2001  abreubo01  12.838543 -0.022295  0.008226   \n",
       "1          2005          2001  abreubo01  12.838543 -0.022295  0.008226   \n",
       "2          2005          2001  abreubo01  12.838543 -0.022295  0.008226   \n",
       "3          2005          2001  abreubo01  12.838543 -0.022295  0.008226   \n",
       "9          2005          2001  abreubo01  12.838543 -0.022295  0.008226   \n",
       "\n",
       "         3B       HR        BB nameFirst nameLast   salary POS  \n",
       "0 -0.002379 -0.00398  0.054759     Bobby    Abreu  9000000  LF  \n",
       "1 -0.002379 -0.00398  0.054759     Bobby    Abreu  9000000  OF  \n",
       "2 -0.002379 -0.00398  0.054759     Bobby    Abreu  9000000  RF  \n",
       "3 -0.002379 -0.00398  0.054759     Bobby    Abreu  9000000  CF  \n",
       "9 -0.002379 -0.00398  0.054759     Bobby    Abreu  9000000  DH  "
      ]
     },
     "execution_count": 38,
     "metadata": {},
     "output_type": "execute_result"
    }
   ],
   "source": [
    "playerLS[['Career Start','Career Ended']] = playerLS[['Career Start','Career Ended']]\n",
    "\n",
    "cond1 = playerLS['Career Start'] <= 2002\n",
    "cond2 = playerLS['Career Ended'] >= 2003\n",
    "cond3 = playerLS['Career Ended'] - playerLS['Career Start'] >= 3\n",
    "\n",
    "#cond_playerLS = playerLS[cond1 & cond2 &cond3]\n",
    "cond_playerLS = playerLS[cond1 &cond2 & cond3]\n",
    "cond_playerLS.head()"
   ]
  },
  {
   "cell_type": "code",
   "execution_count": 39,
   "metadata": {
    "collapsed": false
   },
   "outputs": [
    {
     "data": {
      "image/png": "[encoded data removed]",
      "text/plain": [
       "<matplotlib.figure.Figure at 0x11a625c90>"
      ]
     },
     "metadata": {},
     "output_type": "display_data"
    }
   ],
   "source": [
    "x = playerLS['salary']/float(1e6);\n",
    "y = playerLS['OPW'];\n",
    "plt.figure(figsize=(10,5));\n",
    "plt.scatter(x,y, s = 40);\n",
    "plt.xlabel('Millions of Dollars');\n",
    "plt.ylabel('OPW');\n",
    "plt.title('OPW versus Salary', size = 20);"
   ]
  },
  {
   "cell_type": "markdown",
   "metadata": {},
   "source": [
    "#### Problem 1(l)\n",
    "Pick one players from one of each of these 10 position C, 1B, 2B, 3B, SS, LF, CF, RF, DH, or OF keeping the total median salary of all 10 players below 20 million. Report their averaged predicted wins and total salary."
   ]
  },
  {
   "cell_type": "code",
   "execution_count": 63,
   "metadata": {
    "collapsed": false
   },
   "outputs": [],
   "source": [
    "cond1 = playerLS['salary'] <= 5e6\n",
    "cond2 = playerLS['POS'] != 'P' # can't be a pitcher\n",
    "playerLS2 = playerLS[cond1 & cond2]\n",
    "idx = playerLS2.groupby('POS')['OPW'].transform(max) == playerLS2['OPW']\n",
    "first_DF = playerLS2[idx]\n",
    "first_DF.index = first_DF.playerID.values\n",
    "#first_DF.index\n",
    "new_players = []\n",
    "keep_index = [0]\n",
    "for index, player in enumerate(first_DF.index):\n",
    "    if index == 0:\n",
    "        new_players.append(player)\n",
    "    else:\n",
    "        if player in new_players:\n",
    "            pass\n",
    "        else: \n",
    "            new_players.append(player)\n",
    "            keep_index.append(index)\n",
    "new_players, keep_index\n",
    "first_DF = first_DF.ix[keep_index]"
   ]
  },
  {
   "cell_type": "code",
   "execution_count": 64,
   "metadata": {
    "collapsed": false
   },
   "outputs": [],
   "source": [
    "def removeRepeat(dataframe):\n",
    "    players = []\n",
    "    keep = []\n",
    "    for index, player in enumerate(dataframe.index):\n",
    "        if player in new_players:\n",
    "            continue;\n",
    "        else: \n",
    "            #new_players.append(player)\n",
    "            players.append(player)\n",
    "            keep.append(index)\n",
    "    dataframe = dataframe.ix[keep]\n",
    "    new_players.append(dataframe.head(1).playerID.values[0])\n",
    "    return dataframe.head(1)"
   ]
  },
  {
   "cell_type": "code",
   "execution_count": 65,
   "metadata": {
    "collapsed": false,
    "scrolled": true
   },
   "outputs": [
    {
     "data": {
      "text/html": [
       "<div>\n",
       "<table border=\"1\" class=\"dataframe\">\n",
       "  <thead>\n",
       "    <tr style=\"text-align: right;\">\n",
       "      <th></th>\n",
       "      <th>Career Ended</th>\n",
       "      <th>Career Start</th>\n",
       "      <th>playerID</th>\n",
       "      <th>OPW</th>\n",
       "      <th>1B</th>\n",
       "      <th>2B</th>\n",
       "      <th>3B</th>\n",
       "      <th>HR</th>\n",
       "      <th>BB</th>\n",
       "      <th>nameFirst</th>\n",
       "      <th>nameLast</th>\n",
       "      <th>salary</th>\n",
       "      <th>POS</th>\n",
       "    </tr>\n",
       "  </thead>\n",
       "  <tbody>\n",
       "    <tr>\n",
       "      <th>murphda05</th>\n",
       "      <td>1985</td>\n",
       "      <td>1982</td>\n",
       "      <td>murphda05</td>\n",
       "      <td>26.002493</td>\n",
       "      <td>-0.018035</td>\n",
       "      <td>-0.005901</td>\n",
       "      <td>-0.001716</td>\n",
       "      <td>0.022204</td>\n",
       "      <td>0.040026</td>\n",
       "      <td>Dale</td>\n",
       "      <td>Murphy</td>\n",
       "      <td>2000000</td>\n",
       "      <td>C</td>\n",
       "    </tr>\n",
       "    <tr>\n",
       "      <th>riceji01</th>\n",
       "      <td>1978</td>\n",
       "      <td>1978</td>\n",
       "      <td>riceji01</td>\n",
       "      <td>34.319894</td>\n",
       "      <td>-0.017988</td>\n",
       "      <td>-0.008648</td>\n",
       "      <td>0.010150</td>\n",
       "      <td>0.031541</td>\n",
       "      <td>0.011413</td>\n",
       "      <td>Jim</td>\n",
       "      <td>Rice</td>\n",
       "      <td>2110000</td>\n",
       "      <td>DH</td>\n",
       "    </tr>\n",
       "    <tr>\n",
       "      <th>schmimi01</th>\n",
       "      <td>1974</td>\n",
       "      <td>1974</td>\n",
       "      <td>schmimi01</td>\n",
       "      <td>31.853449</td>\n",
       "      <td>-0.053468</td>\n",
       "      <td>-0.001703</td>\n",
       "      <td>-0.000927</td>\n",
       "      <td>0.035116</td>\n",
       "      <td>0.058889</td>\n",
       "      <td>Mike</td>\n",
       "      <td>Schmidt</td>\n",
       "      <td>2133483</td>\n",
       "      <td>2B</td>\n",
       "    </tr>\n",
       "    <tr>\n",
       "      <th>harrato01</th>\n",
       "      <td>1982</td>\n",
       "      <td>1982</td>\n",
       "      <td>harrato01</td>\n",
       "      <td>26.500975</td>\n",
       "      <td>0.003247</td>\n",
       "      <td>-0.000461</td>\n",
       "      <td>-0.000628</td>\n",
       "      <td>0.011205</td>\n",
       "      <td>0.031653</td>\n",
       "      <td>Toby</td>\n",
       "      <td>Harrah</td>\n",
       "      <td>675000</td>\n",
       "      <td>SS</td>\n",
       "    </tr>\n",
       "    <tr>\n",
       "      <th>mattido01</th>\n",
       "      <td>1986</td>\n",
       "      <td>1986</td>\n",
       "      <td>mattido01</td>\n",
       "      <td>25.762576</td>\n",
       "      <td>0.015730</td>\n",
       "      <td>0.022247</td>\n",
       "      <td>-0.004526</td>\n",
       "      <td>0.011606</td>\n",
       "      <td>0.007046</td>\n",
       "      <td>Don</td>\n",
       "      <td>Mattingly</td>\n",
       "      <td>2500000</td>\n",
       "      <td>3B</td>\n",
       "    </tr>\n",
       "    <tr>\n",
       "      <th>evansdw01</th>\n",
       "      <td>1984</td>\n",
       "      <td>1982</td>\n",
       "      <td>evansdw01</td>\n",
       "      <td>25.397622</td>\n",
       "      <td>-0.026596</td>\n",
       "      <td>0.006486</td>\n",
       "      <td>0.002819</td>\n",
       "      <td>0.013199</td>\n",
       "      <td>0.041319</td>\n",
       "      <td>Dwight</td>\n",
       "      <td>Evans</td>\n",
       "      <td>1070000</td>\n",
       "      <td>LF</td>\n",
       "    </tr>\n",
       "    <tr>\n",
       "      <th>gonzalu01</th>\n",
       "      <td>2001</td>\n",
       "      <td>2000</td>\n",
       "      <td>gonzalu01</td>\n",
       "      <td>24.843037</td>\n",
       "      <td>0.000554</td>\n",
       "      <td>0.000579</td>\n",
       "      <td>0.000308</td>\n",
       "      <td>0.018256</td>\n",
       "      <td>0.014978</td>\n",
       "      <td>Luis</td>\n",
       "      <td>Gonzalez</td>\n",
       "      <td>2025000</td>\n",
       "      <td>CF</td>\n",
       "    </tr>\n",
       "    <tr>\n",
       "      <th>winfida01</th>\n",
       "      <td>1980</td>\n",
       "      <td>1980</td>\n",
       "      <td>winfida01</td>\n",
       "      <td>22.128933</td>\n",
       "      <td>-0.016215</td>\n",
       "      <td>-0.009256</td>\n",
       "      <td>0.003076</td>\n",
       "      <td>0.006713</td>\n",
       "      <td>0.048924</td>\n",
       "      <td>Dave</td>\n",
       "      <td>Winfield</td>\n",
       "      <td>1958652</td>\n",
       "      <td>RF</td>\n",
       "    </tr>\n",
       "    <tr>\n",
       "      <th>murraed02</th>\n",
       "      <td>1984</td>\n",
       "      <td>1984</td>\n",
       "      <td>murraed02</td>\n",
       "      <td>19.644905</td>\n",
       "      <td>0.009709</td>\n",
       "      <td>-0.009165</td>\n",
       "      <td>-0.004315</td>\n",
       "      <td>0.004904</td>\n",
       "      <td>0.039819</td>\n",
       "      <td>Eddie</td>\n",
       "      <td>Murray</td>\n",
       "      <td>2331062</td>\n",
       "      <td>OF</td>\n",
       "    </tr>\n",
       "    <tr>\n",
       "      <th>guerrpe01</th>\n",
       "      <td>1989</td>\n",
       "      <td>1989</td>\n",
       "      <td>guerrpe01</td>\n",
       "      <td>17.853143</td>\n",
       "      <td>0.014038</td>\n",
       "      <td>0.015337</td>\n",
       "      <td>-0.007188</td>\n",
       "      <td>-0.003187</td>\n",
       "      <td>0.032576</td>\n",
       "      <td>Pedro</td>\n",
       "      <td>Guerrero</td>\n",
       "      <td>1776666</td>\n",
       "      <td>1B</td>\n",
       "    </tr>\n",
       "  </tbody>\n",
       "</table>\n",
       "</div>"
      ],
      "text/plain": [
       "           Career Ended  Career Start   playerID        OPW        1B  \\\n",
       "murphda05          1985          1982  murphda05  26.002493 -0.018035   \n",
       "riceji01           1978          1978   riceji01  34.319894 -0.017988   \n",
       "schmimi01          1974          1974  schmimi01  31.853449 -0.053468   \n",
       "harrato01          1982          1982  harrato01  26.500975  0.003247   \n",
       "mattido01          1986          1986  mattido01  25.762576  0.015730   \n",
       "evansdw01          1984          1982  evansdw01  25.397622 -0.026596   \n",
       "gonzalu01          2001          2000  gonzalu01  24.843037  0.000554   \n",
       "winfida01          1980          1980  winfida01  22.128933 -0.016215   \n",
       "murraed02          1984          1984  murraed02  19.644905  0.009709   \n",
       "guerrpe01          1989          1989  guerrpe01  17.853143  0.014038   \n",
       "\n",
       "                 2B        3B        HR        BB nameFirst   nameLast  \\\n",
       "murphda05 -0.005901 -0.001716  0.022204  0.040026      Dale     Murphy   \n",
       "riceji01  -0.008648  0.010150  0.031541  0.011413       Jim       Rice   \n",
       "schmimi01 -0.001703 -0.000927  0.035116  0.058889      Mike    Schmidt   \n",
       "harrato01 -0.000461 -0.000628  0.011205  0.031653      Toby     Harrah   \n",
       "mattido01  0.022247 -0.004526  0.011606  0.007046       Don  Mattingly   \n",
       "evansdw01  0.006486  0.002819  0.013199  0.041319    Dwight      Evans   \n",
       "gonzalu01  0.000579  0.000308  0.018256  0.014978      Luis   Gonzalez   \n",
       "winfida01 -0.009256  0.003076  0.006713  0.048924      Dave   Winfield   \n",
       "murraed02 -0.009165 -0.004315  0.004904  0.039819     Eddie     Murray   \n",
       "guerrpe01  0.015337 -0.007188 -0.003187  0.032576     Pedro   Guerrero   \n",
       "\n",
       "            salary POS  \n",
       "murphda05  2000000   C  \n",
       "riceji01   2110000  DH  \n",
       "schmimi01  2133483  2B  \n",
       "harrato01   675000  SS  \n",
       "mattido01  2500000  3B  \n",
       "evansdw01  1070000  LF  \n",
       "gonzalu01  2025000  CF  \n",
       "winfida01  1958652  RF  \n",
       "murraed02  2331062  OF  \n",
       "guerrpe01  1776666  1B  "
      ]
     },
     "execution_count": 65,
     "metadata": {},
     "output_type": "execute_result"
    }
   ],
   "source": [
    "for pos in ['C', 'SS', '2B', '3B', 'LF', 'CF', 'RF', 'DH', 'OF', '1B']:\n",
    "    if pos in first_DF.POS.values:\n",
    "        continue;\n",
    "    cond1 = playerLS['POS'] == pos # can't be a pitcher\n",
    "    cond2 = playerLS['salary'] <= 3e6\n",
    "    playerLS2 = playerLS[cond1 & cond2]\n",
    "    playerLS2.index = playerLS2.playerID.values\n",
    "    idx = playerLS2.groupby('OPW')['OPW'].transform(max) == playerLS2['OPW']\n",
    "    new_DF = playerLS2[idx]\n",
    "    #print new_DF\n",
    "    output = new_DF[(playerLS2['OPW'] > 17)].sort_values(by ='OPW', ascending=False)[['Career Ended','Career Start','playerID','OPW', '1B','2B', '3B', 'HR', 'BB', 'nameFirst', 'nameLast', 'salary', 'POS']]\n",
    "    clean_DF = removeRepeat(output)\n",
    "    #set(clean_DF.index.values).difference()\n",
    "    first_DF = first_DF.append(clean_DF)\n",
    "first_DF"
   ]
  },
  {
   "cell_type": "code",
   "execution_count": 66,
   "metadata": {
    "collapsed": false
   },
   "outputs": [
    {
     "data": {
      "text/plain": [
       "('Total Money Spent: ', 18579863, 'Average OPW: ', 25.43070263030759)"
      ]
     },
     "execution_count": 66,
     "metadata": {},
     "output_type": "execute_result"
    }
   ],
   "source": [
    "'Total Money Spent: ', first_DF.salary.sum(), 'Average OPW: ', first_DF.OPW.mean()"
   ]
  },
  {
   "cell_type": "markdown",
   "metadata": {},
   "source": [
    "These are the cheapest players at each position. Still not perfect code, but pretty good!"
   ]
  },
  {
   "cell_type": "markdown",
   "metadata": {},
   "source": [
    "#### Problem 1(m)\n",
    "What do these players outperform in? Singles, doubles, triples HR or BB?"
   ]
  },
  {
   "cell_type": "code",
   "execution_count": 46,
   "metadata": {
    "collapsed": false
   },
   "outputs": [
    {
     "data": {
      "text/html": [
       "<div>\n",
       "<table border=\"1\" class=\"dataframe\">\n",
       "  <thead>\n",
       "    <tr style=\"text-align: right;\">\n",
       "      <th></th>\n",
       "      <th>Career Ended</th>\n",
       "      <th>Career Start</th>\n",
       "      <th>playerID</th>\n",
       "      <th>OPW</th>\n",
       "      <th>1B</th>\n",
       "      <th>2B</th>\n",
       "      <th>3B</th>\n",
       "      <th>HR</th>\n",
       "      <th>BB</th>\n",
       "      <th>nameFirst</th>\n",
       "      <th>nameLast</th>\n",
       "      <th>salary</th>\n",
       "      <th>POS</th>\n",
       "    </tr>\n",
       "  </thead>\n",
       "  <tbody>\n",
       "    <tr>\n",
       "      <th>murphda05</th>\n",
       "      <td>1985</td>\n",
       "      <td>1982</td>\n",
       "      <td>murphda05</td>\n",
       "      <td>26.002493</td>\n",
       "      <td>-0.018035</td>\n",
       "      <td>-0.005901</td>\n",
       "      <td>-0.001716</td>\n",
       "      <td>0.022204</td>\n",
       "      <td>0.040026</td>\n",
       "      <td>Dale</td>\n",
       "      <td>Murphy</td>\n",
       "      <td>2000000</td>\n",
       "      <td>C</td>\n",
       "    </tr>\n",
       "    <tr>\n",
       "      <th>riceji01</th>\n",
       "      <td>1978</td>\n",
       "      <td>1978</td>\n",
       "      <td>riceji01</td>\n",
       "      <td>34.319894</td>\n",
       "      <td>-0.017988</td>\n",
       "      <td>-0.008648</td>\n",
       "      <td>0.010150</td>\n",
       "      <td>0.031541</td>\n",
       "      <td>0.011413</td>\n",
       "      <td>Jim</td>\n",
       "      <td>Rice</td>\n",
       "      <td>2110000</td>\n",
       "      <td>DH</td>\n",
       "    </tr>\n",
       "    <tr>\n",
       "      <th>schmimi01</th>\n",
       "      <td>1974</td>\n",
       "      <td>1974</td>\n",
       "      <td>schmimi01</td>\n",
       "      <td>31.853449</td>\n",
       "      <td>-0.053468</td>\n",
       "      <td>-0.001703</td>\n",
       "      <td>-0.000927</td>\n",
       "      <td>0.035116</td>\n",
       "      <td>0.058889</td>\n",
       "      <td>Mike</td>\n",
       "      <td>Schmidt</td>\n",
       "      <td>2133483</td>\n",
       "      <td>2B</td>\n",
       "    </tr>\n",
       "    <tr>\n",
       "      <th>harrato01</th>\n",
       "      <td>1982</td>\n",
       "      <td>1982</td>\n",
       "      <td>harrato01</td>\n",
       "      <td>26.500975</td>\n",
       "      <td>0.003247</td>\n",
       "      <td>-0.000461</td>\n",
       "      <td>-0.000628</td>\n",
       "      <td>0.011205</td>\n",
       "      <td>0.031653</td>\n",
       "      <td>Toby</td>\n",
       "      <td>Harrah</td>\n",
       "      <td>675000</td>\n",
       "      <td>SS</td>\n",
       "    </tr>\n",
       "    <tr>\n",
       "      <th>mattido01</th>\n",
       "      <td>1986</td>\n",
       "      <td>1986</td>\n",
       "      <td>mattido01</td>\n",
       "      <td>25.762576</td>\n",
       "      <td>0.015730</td>\n",
       "      <td>0.022247</td>\n",
       "      <td>-0.004526</td>\n",
       "      <td>0.011606</td>\n",
       "      <td>0.007046</td>\n",
       "      <td>Don</td>\n",
       "      <td>Mattingly</td>\n",
       "      <td>2500000</td>\n",
       "      <td>3B</td>\n",
       "    </tr>\n",
       "    <tr>\n",
       "      <th>evansdw01</th>\n",
       "      <td>1984</td>\n",
       "      <td>1982</td>\n",
       "      <td>evansdw01</td>\n",
       "      <td>25.397622</td>\n",
       "      <td>-0.026596</td>\n",
       "      <td>0.006486</td>\n",
       "      <td>0.002819</td>\n",
       "      <td>0.013199</td>\n",
       "      <td>0.041319</td>\n",
       "      <td>Dwight</td>\n",
       "      <td>Evans</td>\n",
       "      <td>1070000</td>\n",
       "      <td>LF</td>\n",
       "    </tr>\n",
       "    <tr>\n",
       "      <th>gonzalu01</th>\n",
       "      <td>2001</td>\n",
       "      <td>2000</td>\n",
       "      <td>gonzalu01</td>\n",
       "      <td>24.843037</td>\n",
       "      <td>0.000554</td>\n",
       "      <td>0.000579</td>\n",
       "      <td>0.000308</td>\n",
       "      <td>0.018256</td>\n",
       "      <td>0.014978</td>\n",
       "      <td>Luis</td>\n",
       "      <td>Gonzalez</td>\n",
       "      <td>2025000</td>\n",
       "      <td>CF</td>\n",
       "    </tr>\n",
       "    <tr>\n",
       "      <th>winfida01</th>\n",
       "      <td>1980</td>\n",
       "      <td>1980</td>\n",
       "      <td>winfida01</td>\n",
       "      <td>22.128933</td>\n",
       "      <td>-0.016215</td>\n",
       "      <td>-0.009256</td>\n",
       "      <td>0.003076</td>\n",
       "      <td>0.006713</td>\n",
       "      <td>0.048924</td>\n",
       "      <td>Dave</td>\n",
       "      <td>Winfield</td>\n",
       "      <td>1958652</td>\n",
       "      <td>RF</td>\n",
       "    </tr>\n",
       "    <tr>\n",
       "      <th>murraed02</th>\n",
       "      <td>1984</td>\n",
       "      <td>1984</td>\n",
       "      <td>murraed02</td>\n",
       "      <td>19.644905</td>\n",
       "      <td>0.009709</td>\n",
       "      <td>-0.009165</td>\n",
       "      <td>-0.004315</td>\n",
       "      <td>0.004904</td>\n",
       "      <td>0.039819</td>\n",
       "      <td>Eddie</td>\n",
       "      <td>Murray</td>\n",
       "      <td>2331062</td>\n",
       "      <td>OF</td>\n",
       "    </tr>\n",
       "    <tr>\n",
       "      <th>guerrpe01</th>\n",
       "      <td>1989</td>\n",
       "      <td>1989</td>\n",
       "      <td>guerrpe01</td>\n",
       "      <td>17.853143</td>\n",
       "      <td>0.014038</td>\n",
       "      <td>0.015337</td>\n",
       "      <td>-0.007188</td>\n",
       "      <td>-0.003187</td>\n",
       "      <td>0.032576</td>\n",
       "      <td>Pedro</td>\n",
       "      <td>Guerrero</td>\n",
       "      <td>1776666</td>\n",
       "      <td>1B</td>\n",
       "    </tr>\n",
       "  </tbody>\n",
       "</table>\n",
       "</div>"
      ],
      "text/plain": [
       "           Career Ended  Career Start   playerID        OPW        1B  \\\n",
       "murphda05          1985          1982  murphda05  26.002493 -0.018035   \n",
       "riceji01           1978          1978   riceji01  34.319894 -0.017988   \n",
       "schmimi01          1974          1974  schmimi01  31.853449 -0.053468   \n",
       "harrato01          1982          1982  harrato01  26.500975  0.003247   \n",
       "mattido01          1986          1986  mattido01  25.762576  0.015730   \n",
       "evansdw01          1984          1982  evansdw01  25.397622 -0.026596   \n",
       "gonzalu01          2001          2000  gonzalu01  24.843037  0.000554   \n",
       "winfida01          1980          1980  winfida01  22.128933 -0.016215   \n",
       "murraed02          1984          1984  murraed02  19.644905  0.009709   \n",
       "guerrpe01          1989          1989  guerrpe01  17.853143  0.014038   \n",
       "\n",
       "                 2B        3B        HR        BB nameFirst   nameLast  \\\n",
       "murphda05 -0.005901 -0.001716  0.022204  0.040026      Dale     Murphy   \n",
       "riceji01  -0.008648  0.010150  0.031541  0.011413       Jim       Rice   \n",
       "schmimi01 -0.001703 -0.000927  0.035116  0.058889      Mike    Schmidt   \n",
       "harrato01 -0.000461 -0.000628  0.011205  0.031653      Toby     Harrah   \n",
       "mattido01  0.022247 -0.004526  0.011606  0.007046       Don  Mattingly   \n",
       "evansdw01  0.006486  0.002819  0.013199  0.041319    Dwight      Evans   \n",
       "gonzalu01  0.000579  0.000308  0.018256  0.014978      Luis   Gonzalez   \n",
       "winfida01 -0.009256  0.003076  0.006713  0.048924      Dave   Winfield   \n",
       "murraed02 -0.009165 -0.004315  0.004904  0.039819     Eddie     Murray   \n",
       "guerrpe01  0.015337 -0.007188 -0.003187  0.032576     Pedro   Guerrero   \n",
       "\n",
       "            salary POS  \n",
       "murphda05  2000000   C  \n",
       "riceji01   2110000  DH  \n",
       "schmimi01  2133483  2B  \n",
       "harrato01   675000  SS  \n",
       "mattido01  2500000  3B  \n",
       "evansdw01  1070000  LF  \n",
       "gonzalu01  2025000  CF  \n",
       "winfida01  1958652  RF  \n",
       "murraed02  2331062  OF  \n",
       "guerrpe01  1776666  1B  "
      ]
     },
     "execution_count": 46,
     "metadata": {},
     "output_type": "execute_result"
    }
   ],
   "source": [
    "first_DF"
   ]
  },
  {
   "cell_type": "markdown",
   "metadata": {},
   "source": [
    "** Your answer here: ** These players outperform in HR and BB."
   ]
  },
  {
   "cell_type": "markdown",
   "metadata": {},
   "source": [
    "### "
   ]
  },
  {
   "cell_type": "markdown",
   "metadata": {},
   "source": [
    "### Use one of the classification methods to predict wheather a player will be an Allstar?"
   ]
  },
  {
   "cell_type": "code",
   "execution_count": 47,
   "metadata": {
    "collapsed": false
   },
   "outputs": [
    {
     "name": "stdout",
     "output_type": "stream",
     "text": [
      "Score: 88.89 %\n",
      "0.96992481203\n"
     ]
    }
   ],
   "source": [
    "from sklearn.ensemble import RandomForestClassifier\n",
    "from sklearn.cross_validation import train_test_split\n",
    "\n",
    "allstar = pd.read_csv('data/baseball_data/AllstarFull.csv')\n",
    "allstar = allstar[['playerID','yearID','GP']].drop_duplicates()\n",
    "\n",
    "#Filter out allstars from players dataset\n",
    "players_allstar = pd.merge(players,allstar,on=['playerID','yearID'],how ='inner')\n",
    "players_allstar['GP'] = players_allstar['GP'].fillna(0)\n",
    "\n",
    "\n",
    "x = players_allstar.drop('GP',axis=1)._get_numeric_data().fillna(0)\n",
    "y = players_allstar['GP']\n",
    "x_train, x_test, y_train, y_test = train_test_split(x, y, test_size=0.20)\n",
    "rfc = RandomForestClassifier()\n",
    "rfc.fit(x_train, y_train) \n",
    "z = pd.DataFrame(zip(rfc.predict(x_test),y_test),columns = ['predicted','actual'])\n",
    "z['new'] = z['actual']-z['predicted']\n",
    "\n",
    "print 'Score:','%.2f'%(100 - z[z['new']!=0]['new'].count()*100.0/z['new'].count()),'%'\n",
    "print rfc.score(x, y)"
   ]
  },
  {
   "cell_type": "markdown",
   "metadata": {},
   "source": [
    "## Discussion for Problem 1\n",
    "\n",
    "*Write a brief discussion of your conclusions to the questions and tasks above in 100 words or less.*\n",
    "\n",
    "---"
   ]
  },
  {
   "cell_type": "markdown",
   "metadata": {},
   "source": [
    "# Problem 2:  $k$-Nearest Neighbors and Cross Validation \n",
    "\n",
    "What is the optimal $k$ for predicting species using $k$-nearest neighbor classification \n",
    "on the four features provided by the iris dataset.\n",
    "\n",
    "In this problem you will get to know the famous iris data set, and use cross validation to select the optimal $k$ for a $k$-nearest neighbor classification. This problem set makes heavy use of the [sklearn](http://scikit-learn.org/stable/) library. In addition to Pandas, it is one of the most useful libraries for data scientists. \n",
    "For the Iris data set  sklearn provides an extra function to load it - since it is one of the very commonly used data sets."
   ]
  },
  {
   "cell_type": "code",
   "execution_count": 48,
   "metadata": {
    "collapsed": false
   },
   "outputs": [],
   "source": [
    "from sklearn.datasets import load_iris\n",
    "iris = load_iris()"
   ]
  },
  {
   "cell_type": "markdown",
   "metadata": {},
   "source": [
    "#### Problem 2(a) \n",
    "Split the data into a train and a test set. Use a random selection of 33% of the samples as test data. Sklearn provides the [`train_test_split`](http://scikit-learn.org/stable/modules/generated/sklearn.cross_validation.train_test_split.html) function for this purpose. Print the dimensions of all the train and test data sets you have created. "
   ]
  },
  {
   "cell_type": "code",
   "execution_count": 49,
   "metadata": {
    "collapsed": false
   },
   "outputs": [],
   "source": [
    "from sklearn.cross_validation import train_test_split\n",
    "\n",
    "#Load data and target\n",
    "X = iris.data\n",
    "y = iris.target\n",
    "\n",
    "#Split\n",
    "X_train, X_test, y_train, y_test = train_test_split(X, y, test_size=0.33, random_state=None)"
   ]
  },
  {
   "cell_type": "markdown",
   "metadata": {},
   "source": [
    "#### Problem 2(b) \n",
    "\n",
    " Use ***ten fold cross validation*** to estimate the optimal value for $k$ for the iris data set. \n",
    "\n",
    "**Note**: For your convenience sklearn does not only include the [KNN classifier](http://scikit-learn.org/stable/modules/generated/sklearn.neighbors.KNeighborsClassifier.html), but also a [grid search function](http://scikit-learn.org/stable/modules/generated/sklearn.grid_search.GridSearchCV.html#sklearn.grid_search.GridSearchCV). The function is called grid search, because if you have to optimize more than one parameter, it is common practice to define a range of possible values for each parameter. An exhaustive search then runs over the complete grid defined by all the possible parameter combinations. This can get very computation heavy, but luckily our KNN classifier only requires tuning of a single parameter for this problem set. "
   ]
  },
  {
   "cell_type": "code",
   "execution_count": 50,
   "metadata": {
    "collapsed": false
   },
   "outputs": [
    {
     "name": "stdout",
     "output_type": "stream",
     "text": [
      "k = 15\n"
     ]
    }
   ],
   "source": [
    "knn = sklearn.neighbors.KNeighborsClassifier()\n",
    "grid_search = sklearn.grid_search.GridSearchCV(knn, {'n_neighbors':list(range(1,20))}, cv=10)\n",
    "grid_search.fit(X_train, y_train)\n",
    "k = grid_search.best_params_['n_neighbors']\n",
    "print 'k =',grid_search.best_params_['n_neighbors']"
   ]
  },
  {
   "cell_type": "markdown",
   "metadata": {},
   "source": [
    "#### Problem 2(c)\n",
    "\n",
    "Visualize the result by plotting the score results versus values for $k$. "
   ]
  },
  {
   "cell_type": "code",
   "execution_count": 51,
   "metadata": {
    "collapsed": false
   },
   "outputs": [
    {
     "data": {
      "text/plain": [
       "<matplotlib.text.Text at 0x1196f3910>"
      ]
     },
     "execution_count": 51,
     "metadata": {},
     "output_type": "execute_result"
    },
    {
     "data": {
      "image/png": "[encoded data removed]",
      "text/plain": [
       "<matplotlib.figure.Figure at 0x119253b10>"
      ]
     },
     "metadata": {},
     "output_type": "display_data"
    }
   ],
   "source": [
    "scores = []\n",
    "\n",
    "for i in range(1,20):\n",
    "    clf = sklearn.neighbors.KNeighborsClassifier(n_neighbors=i)\n",
    "    score = np.mean(sklearn.cross_validation.cross_val_score(clf, X_train, y_train, cv=10))\n",
    "    scores.append(score)\n",
    "\n",
    "plt.plot(list(range(1,20)), scores)\n",
    "plt.xlabel('K')\n",
    "plt.ylabel('Score')\n",
    "plt.title('KNN Accuracy')"
   ]
  },
  {
   "cell_type": "markdown",
   "metadata": {},
   "source": [
    "Verify that the grid search has indeed chosen the right parameter value for $k$."
   ]
  },
  {
   "cell_type": "code",
   "execution_count": 52,
   "metadata": {
    "collapsed": false
   },
   "outputs": [
    {
     "name": "stdout",
     "output_type": "stream",
     "text": [
      "Based on the plot, grid search produced the optimal k value.\n"
     ]
    }
   ],
   "source": [
    "\n",
    "print 'Based on the plot, grid search produced the optimal k value.'"
   ]
  },
  {
   "cell_type": "markdown",
   "metadata": {},
   "source": [
    "#### Problem 2(d)\n",
    "\n",
    "Test the performance of our tuned KNN classifier on the test set."
   ]
  },
  {
   "cell_type": "code",
   "execution_count": 53,
   "metadata": {
    "collapsed": false
   },
   "outputs": [
    {
     "name": "stdout",
     "output_type": "stream",
     "text": [
      "Score:\t94.0 %\n"
     ]
    }
   ],
   "source": [
    "### Your code here ###\n",
    "\n",
    "#Take the average score of 10 runs\n",
    "scores = []\n",
    "for i in range(10):\n",
    "    clf = sklearn.neighbors.KNeighborsClassifier(n_neighbors=k)\n",
    "    clf.fit(X_train, y_train)\n",
    "    pred = clf.predict(X_test)\n",
    "    score = float(np.sum([i==j for i,j in zip(pred, y_test)]))/len(pred)\n",
    "    scores.append(score)\n",
    "    \n",
    "print 'Score:\\t',np.mean(scores)*100,'%'"
   ]
  },
  {
   "cell_type": "markdown",
   "metadata": {},
   "source": [
    "## Discussion for Problem 2\n",
    "\n",
    "*Write a brief discussion of your conclusions to the questions and tasks above in 100 words or less.*\n",
    "\n",
    "---"
   ]
  },
  {
   "cell_type": "markdown",
   "metadata": {},
   "source": [
    "## Problem 3: Supervised Learning - Estimating Automobile Pricing using Linear Regression and Regression Trees"
   ]
  },
  {
   "cell_type": "markdown",
   "metadata": {},
   "source": [
    "Download the UCI ML automobile dataset. (https://archive.ics.uci.edu/ml/datasets/Automobile)"
   ]
  },
  {
   "cell_type": "code",
   "execution_count": 74,
   "metadata": {
    "collapsed": false
   },
   "outputs": [
    {
     "data": {
      "text/html": [
       "<div>\n",
       "<table border=\"1\" class=\"dataframe\">\n",
       "  <thead>\n",
       "    <tr style=\"text-align: right;\">\n",
       "      <th></th>\n",
       "      <th>symboling</th>\n",
       "      <th>normalized-losses</th>\n",
       "      <th>make</th>\n",
       "      <th>fuel-type</th>\n",
       "      <th>aspiration</th>\n",
       "      <th>num-of-doors</th>\n",
       "      <th>body-style</th>\n",
       "      <th>drive-wheels</th>\n",
       "      <th>engine-location</th>\n",
       "      <th>wheel-base</th>\n",
       "      <th>...</th>\n",
       "      <th>engine-size</th>\n",
       "      <th>fuel-system</th>\n",
       "      <th>bore</th>\n",
       "      <th>stroke</th>\n",
       "      <th>compression-ratio</th>\n",
       "      <th>horsepower</th>\n",
       "      <th>peak-rpm</th>\n",
       "      <th>city-mpg</th>\n",
       "      <th>highway-mpg</th>\n",
       "      <th>price</th>\n",
       "    </tr>\n",
       "  </thead>\n",
       "  <tbody>\n",
       "    <tr>\n",
       "      <th>0</th>\n",
       "      <td>3</td>\n",
       "      <td>?</td>\n",
       "      <td>alfa-romero</td>\n",
       "      <td>gas</td>\n",
       "      <td>std</td>\n",
       "      <td>two</td>\n",
       "      <td>convertible</td>\n",
       "      <td>rwd</td>\n",
       "      <td>front</td>\n",
       "      <td>88.6</td>\n",
       "      <td>...</td>\n",
       "      <td>130</td>\n",
       "      <td>mpfi</td>\n",
       "      <td>3.47</td>\n",
       "      <td>2.68</td>\n",
       "      <td>9.0</td>\n",
       "      <td>111</td>\n",
       "      <td>5000</td>\n",
       "      <td>21</td>\n",
       "      <td>27</td>\n",
       "      <td>13495</td>\n",
       "    </tr>\n",
       "    <tr>\n",
       "      <th>1</th>\n",
       "      <td>3</td>\n",
       "      <td>?</td>\n",
       "      <td>alfa-romero</td>\n",
       "      <td>gas</td>\n",
       "      <td>std</td>\n",
       "      <td>two</td>\n",
       "      <td>convertible</td>\n",
       "      <td>rwd</td>\n",
       "      <td>front</td>\n",
       "      <td>88.6</td>\n",
       "      <td>...</td>\n",
       "      <td>130</td>\n",
       "      <td>mpfi</td>\n",
       "      <td>3.47</td>\n",
       "      <td>2.68</td>\n",
       "      <td>9.0</td>\n",
       "      <td>111</td>\n",
       "      <td>5000</td>\n",
       "      <td>21</td>\n",
       "      <td>27</td>\n",
       "      <td>16500</td>\n",
       "    </tr>\n",
       "    <tr>\n",
       "      <th>2</th>\n",
       "      <td>1</td>\n",
       "      <td>?</td>\n",
       "      <td>alfa-romero</td>\n",
       "      <td>gas</td>\n",
       "      <td>std</td>\n",
       "      <td>two</td>\n",
       "      <td>hatchback</td>\n",
       "      <td>rwd</td>\n",
       "      <td>front</td>\n",
       "      <td>94.5</td>\n",
       "      <td>...</td>\n",
       "      <td>152</td>\n",
       "      <td>mpfi</td>\n",
       "      <td>2.68</td>\n",
       "      <td>3.47</td>\n",
       "      <td>9.0</td>\n",
       "      <td>154</td>\n",
       "      <td>5000</td>\n",
       "      <td>19</td>\n",
       "      <td>26</td>\n",
       "      <td>16500</td>\n",
       "    </tr>\n",
       "    <tr>\n",
       "      <th>3</th>\n",
       "      <td>2</td>\n",
       "      <td>164</td>\n",
       "      <td>audi</td>\n",
       "      <td>gas</td>\n",
       "      <td>std</td>\n",
       "      <td>four</td>\n",
       "      <td>sedan</td>\n",
       "      <td>fwd</td>\n",
       "      <td>front</td>\n",
       "      <td>99.8</td>\n",
       "      <td>...</td>\n",
       "      <td>109</td>\n",
       "      <td>mpfi</td>\n",
       "      <td>3.19</td>\n",
       "      <td>3.40</td>\n",
       "      <td>10.0</td>\n",
       "      <td>102</td>\n",
       "      <td>5500</td>\n",
       "      <td>24</td>\n",
       "      <td>30</td>\n",
       "      <td>13950</td>\n",
       "    </tr>\n",
       "    <tr>\n",
       "      <th>4</th>\n",
       "      <td>2</td>\n",
       "      <td>164</td>\n",
       "      <td>audi</td>\n",
       "      <td>gas</td>\n",
       "      <td>std</td>\n",
       "      <td>four</td>\n",
       "      <td>sedan</td>\n",
       "      <td>4wd</td>\n",
       "      <td>front</td>\n",
       "      <td>99.4</td>\n",
       "      <td>...</td>\n",
       "      <td>136</td>\n",
       "      <td>mpfi</td>\n",
       "      <td>3.19</td>\n",
       "      <td>3.40</td>\n",
       "      <td>8.0</td>\n",
       "      <td>115</td>\n",
       "      <td>5500</td>\n",
       "      <td>18</td>\n",
       "      <td>22</td>\n",
       "      <td>17450</td>\n",
       "    </tr>\n",
       "  </tbody>\n",
       "</table>\n",
       "<p>5 rows × 26 columns</p>\n",
       "</div>"
      ],
      "text/plain": [
       "   symboling normalized-losses         make fuel-type aspiration num-of-doors  \\\n",
       "0          3                 ?  alfa-romero       gas        std          two   \n",
       "1          3                 ?  alfa-romero       gas        std          two   \n",
       "2          1                 ?  alfa-romero       gas        std          two   \n",
       "3          2               164         audi       gas        std         four   \n",
       "4          2               164         audi       gas        std         four   \n",
       "\n",
       "    body-style drive-wheels engine-location  wheel-base  ...    engine-size  \\\n",
       "0  convertible          rwd           front        88.6  ...            130   \n",
       "1  convertible          rwd           front        88.6  ...            130   \n",
       "2    hatchback          rwd           front        94.5  ...            152   \n",
       "3        sedan          fwd           front        99.8  ...            109   \n",
       "4        sedan          4wd           front        99.4  ...            136   \n",
       "\n",
       "   fuel-system  bore  stroke compression-ratio horsepower  peak-rpm city-mpg  \\\n",
       "0         mpfi  3.47    2.68               9.0        111      5000       21   \n",
       "1         mpfi  3.47    2.68               9.0        111      5000       21   \n",
       "2         mpfi  2.68    3.47               9.0        154      5000       19   \n",
       "3         mpfi  3.19    3.40              10.0        102      5500       24   \n",
       "4         mpfi  3.19    3.40               8.0        115      5500       18   \n",
       "\n",
       "  highway-mpg  price  \n",
       "0          27  13495  \n",
       "1          27  16500  \n",
       "2          26  16500  \n",
       "3          30  13950  \n",
       "4          22  17450  \n",
       "\n",
       "[5 rows x 26 columns]"
      ]
     },
     "execution_count": 74,
     "metadata": {},
     "output_type": "execute_result"
    }
   ],
   "source": [
    "header = ['symboling','normalized-losses','make','fuel-type','aspiration',\n",
    "          'num-of-doors', 'body-style','drive-wheels','engine-location',\n",
    "          'wheel-base','length','width','height','curb-weight','engine-type',\n",
    "          'num-of-cylinders','engine-size','fuel-system','bore','stroke',\n",
    "          'compression-ratio','horsepower','peak-rpm','city-mpg','highway-mpg',\n",
    "          'price']\n",
    "\n",
    "auto = pd.read_csv('https://archive.ics.uci.edu/ml/machine-learning-databases/autos/imports-85.data', names=header)\n",
    "auto.head()"
   ]
  },
  {
   "cell_type": "markdown",
   "metadata": {},
   "source": [
    "Get UCI ML automobile dataset and Information about the Data"
   ]
  },
  {
   "cell_type": "markdown",
   "metadata": {},
   "source": [
    "#### Find the most important features"
   ]
  },
  {
   "cell_type": "code",
   "execution_count": 75,
   "metadata": {
    "collapsed": false,
    "scrolled": true
   },
   "outputs": [
    {
     "data": {
      "text/html": [
       "<div>\n",
       "<table border=\"1\" class=\"dataframe\">\n",
       "  <thead>\n",
       "    <tr style=\"text-align: right;\">\n",
       "      <th></th>\n",
       "      <th>symboling</th>\n",
       "      <th>wheel-base</th>\n",
       "      <th>length</th>\n",
       "      <th>width</th>\n",
       "      <th>height</th>\n",
       "      <th>curb-weight</th>\n",
       "      <th>engine-size</th>\n",
       "      <th>bore</th>\n",
       "      <th>stroke</th>\n",
       "      <th>compression-ratio</th>\n",
       "      <th>horsepower</th>\n",
       "      <th>peak-rpm</th>\n",
       "      <th>city-mpg</th>\n",
       "      <th>highway-mpg</th>\n",
       "      <th>price</th>\n",
       "    </tr>\n",
       "  </thead>\n",
       "  <tbody>\n",
       "    <tr>\n",
       "      <th>0</th>\n",
       "      <td>3</td>\n",
       "      <td>88.6</td>\n",
       "      <td>168.8</td>\n",
       "      <td>64.1</td>\n",
       "      <td>48.8</td>\n",
       "      <td>2548</td>\n",
       "      <td>130</td>\n",
       "      <td>3.47</td>\n",
       "      <td>2.68</td>\n",
       "      <td>9.0</td>\n",
       "      <td>111.0</td>\n",
       "      <td>5000.0</td>\n",
       "      <td>21</td>\n",
       "      <td>27</td>\n",
       "      <td>13495.0</td>\n",
       "    </tr>\n",
       "    <tr>\n",
       "      <th>1</th>\n",
       "      <td>3</td>\n",
       "      <td>88.6</td>\n",
       "      <td>168.8</td>\n",
       "      <td>64.1</td>\n",
       "      <td>48.8</td>\n",
       "      <td>2548</td>\n",
       "      <td>130</td>\n",
       "      <td>3.47</td>\n",
       "      <td>2.68</td>\n",
       "      <td>9.0</td>\n",
       "      <td>111.0</td>\n",
       "      <td>5000.0</td>\n",
       "      <td>21</td>\n",
       "      <td>27</td>\n",
       "      <td>16500.0</td>\n",
       "    </tr>\n",
       "    <tr>\n",
       "      <th>2</th>\n",
       "      <td>1</td>\n",
       "      <td>94.5</td>\n",
       "      <td>171.2</td>\n",
       "      <td>65.5</td>\n",
       "      <td>52.4</td>\n",
       "      <td>2823</td>\n",
       "      <td>152</td>\n",
       "      <td>2.68</td>\n",
       "      <td>3.47</td>\n",
       "      <td>9.0</td>\n",
       "      <td>154.0</td>\n",
       "      <td>5000.0</td>\n",
       "      <td>19</td>\n",
       "      <td>26</td>\n",
       "      <td>16500.0</td>\n",
       "    </tr>\n",
       "    <tr>\n",
       "      <th>3</th>\n",
       "      <td>2</td>\n",
       "      <td>99.8</td>\n",
       "      <td>176.6</td>\n",
       "      <td>66.2</td>\n",
       "      <td>54.3</td>\n",
       "      <td>2337</td>\n",
       "      <td>109</td>\n",
       "      <td>3.19</td>\n",
       "      <td>3.40</td>\n",
       "      <td>10.0</td>\n",
       "      <td>102.0</td>\n",
       "      <td>5500.0</td>\n",
       "      <td>24</td>\n",
       "      <td>30</td>\n",
       "      <td>13950.0</td>\n",
       "    </tr>\n",
       "    <tr>\n",
       "      <th>4</th>\n",
       "      <td>2</td>\n",
       "      <td>99.4</td>\n",
       "      <td>176.6</td>\n",
       "      <td>66.4</td>\n",
       "      <td>54.3</td>\n",
       "      <td>2824</td>\n",
       "      <td>136</td>\n",
       "      <td>3.19</td>\n",
       "      <td>3.40</td>\n",
       "      <td>8.0</td>\n",
       "      <td>115.0</td>\n",
       "      <td>5500.0</td>\n",
       "      <td>18</td>\n",
       "      <td>22</td>\n",
       "      <td>17450.0</td>\n",
       "    </tr>\n",
       "  </tbody>\n",
       "</table>\n",
       "</div>"
      ],
      "text/plain": [
       "   symboling  wheel-base  length  width  height  curb-weight  engine-size  \\\n",
       "0          3        88.6   168.8   64.1    48.8         2548          130   \n",
       "1          3        88.6   168.8   64.1    48.8         2548          130   \n",
       "2          1        94.5   171.2   65.5    52.4         2823          152   \n",
       "3          2        99.8   176.6   66.2    54.3         2337          109   \n",
       "4          2        99.4   176.6   66.4    54.3         2824          136   \n",
       "\n",
       "   bore  stroke  compression-ratio  horsepower  peak-rpm  city-mpg  \\\n",
       "0  3.47    2.68                9.0       111.0    5000.0        21   \n",
       "1  3.47    2.68                9.0       111.0    5000.0        21   \n",
       "2  2.68    3.47                9.0       154.0    5000.0        19   \n",
       "3  3.19    3.40               10.0       102.0    5500.0        24   \n",
       "4  3.19    3.40                8.0       115.0    5500.0        18   \n",
       "\n",
       "   highway-mpg    price  \n",
       "0           27  13495.0  \n",
       "1           27  16500.0  \n",
       "2           26  16500.0  \n",
       "3           30  13950.0  \n",
       "4           22  17450.0  "
      ]
     },
     "execution_count": 75,
     "metadata": {},
     "output_type": "execute_result"
    }
   ],
   "source": [
    "### Your code here ###\n",
    "\n",
    "\n",
    "#Replace '?' with NaN\n",
    "auto = auto.replace(to_replace='?', value=np.nan)\n",
    "\n",
    "#Convert relevant numeric data from object to float\n",
    "change_num = ['bore','stroke','horsepower','peak-rpm','price']\n",
    "auto[change_num]=auto[change_num].astype(float, inplace=True)\n",
    "\n",
    "#Select columns with numbers\n",
    "num_auto = auto._get_numeric_data().dropna()\n",
    "num_auto.head()"
   ]
  },
  {
   "cell_type": "code",
   "execution_count": 76,
   "metadata": {
    "collapsed": false
   },
   "outputs": [
    {
     "name": "stdout",
     "output_type": "stream",
     "text": [
      "width :\t\t0.76\n",
      "curb-weight :\t\t0.84\n",
      "engine-size :\t\t0.89\n",
      "horsepower :\t\t0.82\n",
      "city-mpg :\t\t-0.71\n",
      "highway-mpg :\t\t-0.72\n"
     ]
    }
   ],
   "source": [
    "\n",
    "\n",
    "#Taking features that has an abolute correlation of 0.5+ against price\n",
    "feature_list = num_auto.columns[0:-1]\n",
    "price = num_auto['price']\n",
    "\n",
    "for feature in feature_list:\n",
    "    attr = num_auto[feature]\n",
    "    c = corr(attr,price)\n",
    "    if np.sqrt(c**2) > 0.7:\n",
    "        print feature,':\\t\\t%.2f'%c\n",
    "\n"
   ]
  },
  {
   "cell_type": "markdown",
   "metadata": {},
   "source": [
    "#### Using 10-fold cross validation separate the test and training data sets"
   ]
  },
  {
   "cell_type": "code",
   "execution_count": 77,
   "metadata": {
    "collapsed": false
   },
   "outputs": [
    {
     "name": "stderr",
     "output_type": "stream",
     "text": [
      "/Users/mgalarny/anaconda/lib/python2.7/site-packages/ipykernel/__main__.py:6: FutureWarning: using '-' to provide set differences with Indexes is deprecated, use .difference()\n"
     ]
    }
   ],
   "source": [
    "#Attributes with highest correlation\n",
    "attr = ['width', 'curb-weight', 'engine-size', 'horsepower', 'highway-mpg','price','city-mpg']\n",
    "\n",
    "#Picking important features\n",
    "new_auto = auto[attr].dropna()\n",
    "X = new_auto[new_auto.columns - ['price']]\n",
    "y = new_auto['price']\n",
    "\n",
    "k_fold = sklearn.cross_validation.KFold(len(X), n_folds=10, shuffle=True, random_state=44)"
   ]
  },
  {
   "cell_type": "markdown",
   "metadata": {
    "collapsed": false
   },
   "source": [
    "Normalize the data"
   ]
  },
  {
   "cell_type": "code",
   "execution_count": 78,
   "metadata": {
    "collapsed": false
   },
   "outputs": [
    {
     "data": {
      "text/html": [
       "<div>\n",
       "<table border=\"1\" class=\"dataframe\">\n",
       "  <thead>\n",
       "    <tr style=\"text-align: right;\">\n",
       "      <th></th>\n",
       "      <th>city-mpg</th>\n",
       "      <th>curb-weight</th>\n",
       "      <th>engine-size</th>\n",
       "      <th>highway-mpg</th>\n",
       "      <th>horsepower</th>\n",
       "      <th>width</th>\n",
       "    </tr>\n",
       "  </thead>\n",
       "  <tbody>\n",
       "    <tr>\n",
       "      <th>0</th>\n",
       "      <td>-0.116695</td>\n",
       "      <td>-0.003115</td>\n",
       "      <td>0.011984</td>\n",
       "      <td>-0.096932</td>\n",
       "      <td>0.035528</td>\n",
       "      <td>-0.152343</td>\n",
       "    </tr>\n",
       "    <tr>\n",
       "      <th>1</th>\n",
       "      <td>-0.116695</td>\n",
       "      <td>-0.003115</td>\n",
       "      <td>0.011984</td>\n",
       "      <td>-0.096932</td>\n",
       "      <td>0.035528</td>\n",
       "      <td>-0.152343</td>\n",
       "    </tr>\n",
       "    <tr>\n",
       "      <th>2</th>\n",
       "      <td>-0.172250</td>\n",
       "      <td>0.103557</td>\n",
       "      <td>0.095003</td>\n",
       "      <td>-0.123248</td>\n",
       "      <td>0.236463</td>\n",
       "      <td>-0.032685</td>\n",
       "    </tr>\n",
       "    <tr>\n",
       "      <th>3</th>\n",
       "      <td>-0.033361</td>\n",
       "      <td>-0.084961</td>\n",
       "      <td>-0.067261</td>\n",
       "      <td>-0.017985</td>\n",
       "      <td>-0.006528</td>\n",
       "      <td>0.027144</td>\n",
       "    </tr>\n",
       "    <tr>\n",
       "      <th>4</th>\n",
       "      <td>-0.200028</td>\n",
       "      <td>0.103945</td>\n",
       "      <td>0.034626</td>\n",
       "      <td>-0.228511</td>\n",
       "      <td>0.054220</td>\n",
       "      <td>0.044238</td>\n",
       "    </tr>\n",
       "  </tbody>\n",
       "</table>\n",
       "</div>"
      ],
      "text/plain": [
       "   city-mpg  curb-weight  engine-size  highway-mpg  horsepower     width\n",
       "0 -0.116695    -0.003115     0.011984    -0.096932    0.035528 -0.152343\n",
       "1 -0.116695    -0.003115     0.011984    -0.096932    0.035528 -0.152343\n",
       "2 -0.172250     0.103557     0.095003    -0.123248    0.236463 -0.032685\n",
       "3 -0.033361    -0.084961    -0.067261    -0.017985   -0.006528  0.027144\n",
       "4 -0.200028     0.103945     0.034626    -0.228511    0.054220  0.044238"
      ]
     },
     "execution_count": 78,
     "metadata": {},
     "output_type": "execute_result"
    }
   ],
   "source": [
    "X = (X - X.mean()) / (X.max() - X.min())\n",
    "X.head()"
   ]
  },
  {
   "cell_type": "markdown",
   "metadata": {},
   "source": [
    "### Start with a linear model and evaluate how well it can predict the price variable"
   ]
  },
  {
   "cell_type": "code",
   "execution_count": 79,
   "metadata": {
    "collapsed": false
   },
   "outputs": [
    {
     "name": "stdout",
     "output_type": "stream",
     "text": [
      "Score:\t73.10 %\n"
     ]
    }
   ],
   "source": [
    "scores = [] \n",
    "\n",
    "for train_index, test_index in k_fold:\n",
    "    X_train, X_test = X.values[train_index], X.values[test_index]\n",
    "    y_train, y_test = y.values[train_index], y.values[test_index]\n",
    "    lm = sklearn.linear_model.LinearRegression()\n",
    "    lm.fit(X_train, y_train)\n",
    "    scores.append(lm.score(X_test, y_test))\n",
    "    \n",
    "print 'Score:\\t', '%.2f'%(np.mean(scores)*100),'%'"
   ]
  },
  {
   "cell_type": "markdown",
   "metadata": {},
   "source": [
    "### Try using Ridge regression and evaluate the result of the 10-fold cross-validation"
   ]
  },
  {
   "cell_type": "code",
   "execution_count": 80,
   "metadata": {
    "collapsed": false
   },
   "outputs": [
    {
     "name": "stdout",
     "output_type": "stream",
     "text": [
      "Score:\t73.82 %\n"
     ]
    }
   ],
   "source": [
    "scores = [] \n",
    "\n",
    "for train_index, test_index in k_fold:\n",
    "    X_train, X_test = X.values[train_index], X.values[test_index]\n",
    "    y_train, y_test = y.values[train_index], y.values[test_index]\n",
    "    rm = sklearn.linear_model.Ridge()\n",
    "    rm.fit(X_train, y_train)\n",
    "    predict = rm.predict(X_test)\n",
    "    score = float(np.sum([i==j for i,j in zip(predict,y_test)])/len(y_test))\n",
    "    scores.append(rm.score(X_test, y_test))\n",
    "    \n",
    "print 'Score:\\t', '%.2f'%(np.mean(scores)*100),'%'"
   ]
  },
  {
   "cell_type": "markdown",
   "metadata": {},
   "source": [
    "### Train the Regression Tree and evaluate using 10-fold cross validation; Specify the parameters used and how you changed them to increase the accuracy;  "
   ]
  },
  {
   "cell_type": "code",
   "execution_count": 81,
   "metadata": {
    "collapsed": false
   },
   "outputs": [
    {
     "name": "stdout",
     "output_type": "stream",
     "text": [
      "Best Parameters:\n"
     ]
    },
    {
     "data": {
      "text/plain": [
       "{'min_samples_leaf': 9,\n",
       " 'min_samples_split': 1,\n",
       " 'min_weight_fraction_leaf': 0.0}"
      ]
     },
     "execution_count": 81,
     "metadata": {},
     "output_type": "execute_result"
    }
   ],
   "source": [
    "dtr = sklearn.tree.DecisionTreeRegressor()\n",
    "grid_search = sklearn.grid_search.GridSearchCV(dtr, \n",
    "                                               {'min_samples_split':list(range(1,10)), \n",
    "                                                'min_samples_leaf':list(range(1,10)), \n",
    "                                                'min_weight_fraction_leaf':np.linspace(0,0.5,10)}, \n",
    "                                               cv=10)\n",
    "grid_search.fit(X_train, y_train)\n",
    "print 'Best Parameters:'\n",
    "grid_search.best_params_"
   ]
  },
  {
   "cell_type": "code",
   "execution_count": 82,
   "metadata": {
    "collapsed": false
   },
   "outputs": [
    {
     "name": "stdout",
     "output_type": "stream",
     "text": [
      "Score:\t87.07 %\n"
     ]
    }
   ],
   "source": [
    "score = grid_search.score(X_test, y_test)\n",
    "\n",
    "print 'Score:\\t','%.2f'%(score*100),'%'"
   ]
  },
  {
   "cell_type": "markdown",
   "metadata": {},
   "source": [
    "### Discussion for Problem 3  Write a brief discussion of your conclusions to the questions and tasks above in 100 words or less.Compare all three aproaches and discuss your findings in 100 words or less"
   ]
  }
 ],
 "metadata": {
  "kernelspec": {
   "display_name": "Python 2",
   "language": "python",
   "name": "python2"
  },
  "language_info": {
   "codemirror_mode": {
    "name": "ipython",
    "version": 2
   },
   "file_extension": ".py",
   "mimetype": "text/x-python",
   "name": "python",
   "nbconvert_exporter": "python",
   "pygments_lexer": "ipython2",
   "version": "2.7.11"
  }
 },
 "nbformat": 4,
 "nbformat_minor": 0
}
